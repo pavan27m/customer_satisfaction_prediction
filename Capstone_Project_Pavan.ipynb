{
 "cells": [
  {
   "cell_type": "markdown",
   "metadata": {},
   "source": [
    "# Importing Modules"
   ]
  },
  {
   "cell_type": "code",
   "execution_count": 1,
   "metadata": {
    "scrolled": false
   },
   "outputs": [
    {
     "data": {
      "text/html": [
       "        <script type=\"text/javascript\">\n",
       "        window.PlotlyConfig = {MathJaxConfig: 'local'};\n",
       "        if (window.MathJax) {MathJax.Hub.Config({SVG: {font: \"STIX-Web\"}});}\n",
       "        if (typeof require !== 'undefined') {\n",
       "        require.undef(\"plotly\");\n",
       "        requirejs.config({\n",
       "            paths: {\n",
       "                'plotly': ['https://cdn.plot.ly/plotly-latest.min']\n",
       "            }\n",
       "        });\n",
       "        require(['plotly'], function(Plotly) {\n",
       "            window._Plotly = Plotly;\n",
       "        });\n",
       "        }\n",
       "        </script>\n",
       "        "
      ]
     },
     "metadata": {},
     "output_type": "display_data"
    },
    {
     "data": {
      "text/html": [
       "        <script type=\"text/javascript\">\n",
       "        window.PlotlyConfig = {MathJaxConfig: 'local'};\n",
       "        if (window.MathJax) {MathJax.Hub.Config({SVG: {font: \"STIX-Web\"}});}\n",
       "        if (typeof require !== 'undefined') {\n",
       "        require.undef(\"plotly\");\n",
       "        requirejs.config({\n",
       "            paths: {\n",
       "                'plotly': ['https://cdn.plot.ly/plotly-latest.min']\n",
       "            }\n",
       "        });\n",
       "        require(['plotly'], function(Plotly) {\n",
       "            window._Plotly = Plotly;\n",
       "        });\n",
       "        }\n",
       "        </script>\n",
       "        "
      ]
     },
     "metadata": {},
     "output_type": "display_data"
    }
   ],
   "source": [
    "import numpy as np\n",
    "import pandas as pd\n",
    "import seaborn as sns\n",
    "import matplotlib.pyplot as plt\n",
    "%matplotlib inline\n",
    "from plotly.offline import download_plotlyjs, init_notebook_mode, plot, iplot\n",
    "import plotly.express as px\n",
    "import plotly.figure_factory as ff\n",
    "from plotly.subplots import make_subplots\n",
    "import plotly.graph_objects as go\n",
    "init_notebook_mode(connected=True)\n",
    "import cufflinks as cf\n",
    "cf.go_offline()"
   ]
  },
  {
   "cell_type": "markdown",
   "metadata": {},
   "source": [
    "# Read .csv file"
   ]
  },
  {
   "cell_type": "code",
   "execution_count": 2,
   "metadata": {},
   "outputs": [],
   "source": [
    "orders = pd.read_csv('orders.csv')\n",
    "order_items = pd.read_csv('order_items.csv')\n",
    "sellers = pd.read_csv('sellers.csv')\n",
    "products = pd.read_csv('products.csv')\n",
    "payments = pd.read_csv('payments.csv')\n",
    "customers = pd.read_csv('customers.csv')\n",
    "user_feedback = pd.read_csv('user_feedback.csv')"
   ]
  },
  {
   "cell_type": "markdown",
   "metadata": {},
   "source": [
    "### Displaying all datasets"
   ]
  },
  {
   "cell_type": "code",
   "execution_count": 3,
   "metadata": {
    "scrolled": false
   },
   "outputs": [
    {
     "data": {
      "text/html": [
       "<div>\n",
       "<style scoped>\n",
       "    .dataframe tbody tr th:only-of-type {\n",
       "        vertical-align: middle;\n",
       "    }\n",
       "\n",
       "    .dataframe tbody tr th {\n",
       "        vertical-align: top;\n",
       "    }\n",
       "\n",
       "    .dataframe thead th {\n",
       "        text-align: right;\n",
       "    }\n",
       "</style>\n",
       "<table border=\"1\" class=\"dataframe\">\n",
       "  <thead>\n",
       "    <tr style=\"text-align: right;\">\n",
       "      <th></th>\n",
       "      <th>order_id</th>\n",
       "      <th>customer_id</th>\n",
       "      <th>order_status</th>\n",
       "      <th>order_purchase_timestamp</th>\n",
       "      <th>order_approved_at</th>\n",
       "      <th>order_delivered_to_carrier_date</th>\n",
       "      <th>order_delivered_to_customer_date</th>\n",
       "      <th>order_estimated_delivery_date</th>\n",
       "    </tr>\n",
       "  </thead>\n",
       "  <tbody>\n",
       "    <tr>\n",
       "      <th>0</th>\n",
       "      <td>e481f51cbd</td>\n",
       "      <td>9ef432eb62</td>\n",
       "      <td>delivered</td>\n",
       "      <td>2017-10-02 10:56:33</td>\n",
       "      <td>2017-10-02 11:07:15</td>\n",
       "      <td>2017-10-04 19:55:00</td>\n",
       "      <td>2017-10-10 21:25:13</td>\n",
       "      <td>2017-10-18 00:00:00</td>\n",
       "    </tr>\n",
       "    <tr>\n",
       "      <th>1</th>\n",
       "      <td>53cdb2fc8b</td>\n",
       "      <td>b0830fb474</td>\n",
       "      <td>delivered</td>\n",
       "      <td>2018-07-24 20:41:37</td>\n",
       "      <td>2018-07-26 03:24:27</td>\n",
       "      <td>2018-07-26 14:31:00</td>\n",
       "      <td>2018-08-07 15:27:45</td>\n",
       "      <td>2018-08-13 00:00:00</td>\n",
       "    </tr>\n",
       "    <tr>\n",
       "      <th>2</th>\n",
       "      <td>47770eb910</td>\n",
       "      <td>41ce2a54c0</td>\n",
       "      <td>delivered</td>\n",
       "      <td>2018-08-08 08:38:49</td>\n",
       "      <td>2018-08-08 08:55:23</td>\n",
       "      <td>2018-08-08 13:50:00</td>\n",
       "      <td>2018-08-17 18:06:29</td>\n",
       "      <td>2018-09-04 00:00:00</td>\n",
       "    </tr>\n",
       "    <tr>\n",
       "      <th>3</th>\n",
       "      <td>949d5b44db</td>\n",
       "      <td>f88197465e</td>\n",
       "      <td>delivered</td>\n",
       "      <td>2017-11-18 19:28:06</td>\n",
       "      <td>2017-11-18 19:45:59</td>\n",
       "      <td>2017-11-22 13:39:59</td>\n",
       "      <td>2017-12-02 00:28:42</td>\n",
       "      <td>2017-12-15 00:00:00</td>\n",
       "    </tr>\n",
       "    <tr>\n",
       "      <th>4</th>\n",
       "      <td>ad21c59c08</td>\n",
       "      <td>8ab97904e6</td>\n",
       "      <td>delivered</td>\n",
       "      <td>2018-02-13 21:18:39</td>\n",
       "      <td>2018-02-13 22:20:29</td>\n",
       "      <td>2018-02-14 19:46:34</td>\n",
       "      <td>2018-02-16 18:17:02</td>\n",
       "      <td>2018-02-26 00:00:00</td>\n",
       "    </tr>\n",
       "  </tbody>\n",
       "</table>\n",
       "</div>"
      ],
      "text/plain": [
       "     order_id customer_id order_status order_purchase_timestamp  \\\n",
       "0  e481f51cbd  9ef432eb62    delivered      2017-10-02 10:56:33   \n",
       "1  53cdb2fc8b  b0830fb474    delivered      2018-07-24 20:41:37   \n",
       "2  47770eb910  41ce2a54c0    delivered      2018-08-08 08:38:49   \n",
       "3  949d5b44db  f88197465e    delivered      2017-11-18 19:28:06   \n",
       "4  ad21c59c08  8ab97904e6    delivered      2018-02-13 21:18:39   \n",
       "\n",
       "     order_approved_at order_delivered_to_carrier_date  \\\n",
       "0  2017-10-02 11:07:15             2017-10-04 19:55:00   \n",
       "1  2018-07-26 03:24:27             2018-07-26 14:31:00   \n",
       "2  2018-08-08 08:55:23             2018-08-08 13:50:00   \n",
       "3  2017-11-18 19:45:59             2017-11-22 13:39:59   \n",
       "4  2018-02-13 22:20:29             2018-02-14 19:46:34   \n",
       "\n",
       "  order_delivered_to_customer_date order_estimated_delivery_date  \n",
       "0              2017-10-10 21:25:13           2017-10-18 00:00:00  \n",
       "1              2018-08-07 15:27:45           2018-08-13 00:00:00  \n",
       "2              2018-08-17 18:06:29           2018-09-04 00:00:00  \n",
       "3              2017-12-02 00:28:42           2017-12-15 00:00:00  \n",
       "4              2018-02-16 18:17:02           2018-02-26 00:00:00  "
      ]
     },
     "execution_count": 3,
     "metadata": {},
     "output_type": "execute_result"
    }
   ],
   "source": [
    "orders.head()"
   ]
  },
  {
   "cell_type": "code",
   "execution_count": 4,
   "metadata": {
    "scrolled": true
   },
   "outputs": [
    {
     "data": {
      "text/html": [
       "<div>\n",
       "<style scoped>\n",
       "    .dataframe tbody tr th:only-of-type {\n",
       "        vertical-align: middle;\n",
       "    }\n",
       "\n",
       "    .dataframe tbody tr th {\n",
       "        vertical-align: top;\n",
       "    }\n",
       "\n",
       "    .dataframe thead th {\n",
       "        text-align: right;\n",
       "    }\n",
       "</style>\n",
       "<table border=\"1\" class=\"dataframe\">\n",
       "  <thead>\n",
       "    <tr style=\"text-align: right;\">\n",
       "      <th></th>\n",
       "      <th>order_id</th>\n",
       "      <th>product_id</th>\n",
       "      <th>seller_id</th>\n",
       "      <th>price</th>\n",
       "    </tr>\n",
       "  </thead>\n",
       "  <tbody>\n",
       "    <tr>\n",
       "      <th>0</th>\n",
       "      <td>00010242fe</td>\n",
       "      <td>4244733e06</td>\n",
       "      <td>48436dade1</td>\n",
       "      <td>58</td>\n",
       "    </tr>\n",
       "    <tr>\n",
       "      <th>1</th>\n",
       "      <td>00018f77f2</td>\n",
       "      <td>e5f2d52b80</td>\n",
       "      <td>dd7ddc04e1</td>\n",
       "      <td>239</td>\n",
       "    </tr>\n",
       "    <tr>\n",
       "      <th>2</th>\n",
       "      <td>000229ec39</td>\n",
       "      <td>c777355d18</td>\n",
       "      <td>5b51032edd</td>\n",
       "      <td>199</td>\n",
       "    </tr>\n",
       "    <tr>\n",
       "      <th>3</th>\n",
       "      <td>00024acbcd</td>\n",
       "      <td>7634da152a</td>\n",
       "      <td>9d7a1d34a5</td>\n",
       "      <td>12</td>\n",
       "    </tr>\n",
       "    <tr>\n",
       "      <th>4</th>\n",
       "      <td>00042b26cf</td>\n",
       "      <td>ac6c362306</td>\n",
       "      <td>df560393f3</td>\n",
       "      <td>199</td>\n",
       "    </tr>\n",
       "  </tbody>\n",
       "</table>\n",
       "</div>"
      ],
      "text/plain": [
       "     order_id  product_id   seller_id  price\n",
       "0  00010242fe  4244733e06  48436dade1     58\n",
       "1  00018f77f2  e5f2d52b80  dd7ddc04e1    239\n",
       "2  000229ec39  c777355d18  5b51032edd    199\n",
       "3  00024acbcd  7634da152a  9d7a1d34a5     12\n",
       "4  00042b26cf  ac6c362306  df560393f3    199"
      ]
     },
     "execution_count": 4,
     "metadata": {},
     "output_type": "execute_result"
    }
   ],
   "source": [
    "order_items.head()"
   ]
  },
  {
   "cell_type": "code",
   "execution_count": 5,
   "metadata": {
    "scrolled": true
   },
   "outputs": [
    {
     "data": {
      "text/html": [
       "<div>\n",
       "<style scoped>\n",
       "    .dataframe tbody tr th:only-of-type {\n",
       "        vertical-align: middle;\n",
       "    }\n",
       "\n",
       "    .dataframe tbody tr th {\n",
       "        vertical-align: top;\n",
       "    }\n",
       "\n",
       "    .dataframe thead th {\n",
       "        text-align: right;\n",
       "    }\n",
       "</style>\n",
       "<table border=\"1\" class=\"dataframe\">\n",
       "  <thead>\n",
       "    <tr style=\"text-align: right;\">\n",
       "      <th></th>\n",
       "      <th>seller_id</th>\n",
       "      <th>seller_state</th>\n",
       "    </tr>\n",
       "  </thead>\n",
       "  <tbody>\n",
       "    <tr>\n",
       "      <th>0</th>\n",
       "      <td>3442f8959a</td>\n",
       "      <td>SP</td>\n",
       "    </tr>\n",
       "    <tr>\n",
       "      <th>1</th>\n",
       "      <td>d1b65fc7de</td>\n",
       "      <td>SP</td>\n",
       "    </tr>\n",
       "    <tr>\n",
       "      <th>2</th>\n",
       "      <td>ce3ad9de96</td>\n",
       "      <td>RJ</td>\n",
       "    </tr>\n",
       "    <tr>\n",
       "      <th>3</th>\n",
       "      <td>c0f3eea2e1</td>\n",
       "      <td>SP</td>\n",
       "    </tr>\n",
       "    <tr>\n",
       "      <th>4</th>\n",
       "      <td>51a04a8a6b</td>\n",
       "      <td>SP</td>\n",
       "    </tr>\n",
       "  </tbody>\n",
       "</table>\n",
       "</div>"
      ],
      "text/plain": [
       "    seller_id seller_state\n",
       "0  3442f8959a           SP\n",
       "1  d1b65fc7de           SP\n",
       "2  ce3ad9de96           RJ\n",
       "3  c0f3eea2e1           SP\n",
       "4  51a04a8a6b           SP"
      ]
     },
     "execution_count": 5,
     "metadata": {},
     "output_type": "execute_result"
    }
   ],
   "source": [
    "sellers.head()"
   ]
  },
  {
   "cell_type": "code",
   "execution_count": 6,
   "metadata": {
    "scrolled": false
   },
   "outputs": [
    {
     "data": {
      "text/html": [
       "<div>\n",
       "<style scoped>\n",
       "    .dataframe tbody tr th:only-of-type {\n",
       "        vertical-align: middle;\n",
       "    }\n",
       "\n",
       "    .dataframe tbody tr th {\n",
       "        vertical-align: top;\n",
       "    }\n",
       "\n",
       "    .dataframe thead th {\n",
       "        text-align: right;\n",
       "    }\n",
       "</style>\n",
       "<table border=\"1\" class=\"dataframe\">\n",
       "  <thead>\n",
       "    <tr style=\"text-align: right;\">\n",
       "      <th></th>\n",
       "      <th>product_id</th>\n",
       "      <th>product_photos_count</th>\n",
       "      <th>product_length_cm</th>\n",
       "      <th>product_height_cm</th>\n",
       "      <th>product_width_cm</th>\n",
       "      <th>product_category_name</th>\n",
       "      <th>product_weight_kg</th>\n",
       "    </tr>\n",
       "  </thead>\n",
       "  <tbody>\n",
       "    <tr>\n",
       "      <th>0</th>\n",
       "      <td>1e9e8ef04d</td>\n",
       "      <td>1.0</td>\n",
       "      <td>16.0</td>\n",
       "      <td>10.0</td>\n",
       "      <td>14.0</td>\n",
       "      <td>perfumery</td>\n",
       "      <td>0.225</td>\n",
       "    </tr>\n",
       "    <tr>\n",
       "      <th>1</th>\n",
       "      <td>3aa071139c</td>\n",
       "      <td>1.0</td>\n",
       "      <td>30.0</td>\n",
       "      <td>18.0</td>\n",
       "      <td>20.0</td>\n",
       "      <td>art</td>\n",
       "      <td>1.000</td>\n",
       "    </tr>\n",
       "    <tr>\n",
       "      <th>2</th>\n",
       "      <td>96bd76ec88</td>\n",
       "      <td>1.0</td>\n",
       "      <td>18.0</td>\n",
       "      <td>9.0</td>\n",
       "      <td>15.0</td>\n",
       "      <td>sports_leisure</td>\n",
       "      <td>0.154</td>\n",
       "    </tr>\n",
       "    <tr>\n",
       "      <th>3</th>\n",
       "      <td>cef67bcfe1</td>\n",
       "      <td>1.0</td>\n",
       "      <td>26.0</td>\n",
       "      <td>4.0</td>\n",
       "      <td>26.0</td>\n",
       "      <td>baby</td>\n",
       "      <td>0.371</td>\n",
       "    </tr>\n",
       "    <tr>\n",
       "      <th>4</th>\n",
       "      <td>9dc1a7de27</td>\n",
       "      <td>4.0</td>\n",
       "      <td>20.0</td>\n",
       "      <td>17.0</td>\n",
       "      <td>13.0</td>\n",
       "      <td>housewares</td>\n",
       "      <td>0.625</td>\n",
       "    </tr>\n",
       "  </tbody>\n",
       "</table>\n",
       "</div>"
      ],
      "text/plain": [
       "   product_id  product_photos_count  product_length_cm  product_height_cm  \\\n",
       "0  1e9e8ef04d                   1.0               16.0               10.0   \n",
       "1  3aa071139c                   1.0               30.0               18.0   \n",
       "2  96bd76ec88                   1.0               18.0                9.0   \n",
       "3  cef67bcfe1                   1.0               26.0                4.0   \n",
       "4  9dc1a7de27                   4.0               20.0               17.0   \n",
       "\n",
       "   product_width_cm product_category_name  product_weight_kg  \n",
       "0              14.0             perfumery              0.225  \n",
       "1              20.0                   art              1.000  \n",
       "2              15.0        sports_leisure              0.154  \n",
       "3              26.0                  baby              0.371  \n",
       "4              13.0            housewares              0.625  "
      ]
     },
     "execution_count": 6,
     "metadata": {},
     "output_type": "execute_result"
    }
   ],
   "source": [
    "products.head()"
   ]
  },
  {
   "cell_type": "code",
   "execution_count": 7,
   "metadata": {
    "scrolled": true
   },
   "outputs": [
    {
     "data": {
      "text/html": [
       "<div>\n",
       "<style scoped>\n",
       "    .dataframe tbody tr th:only-of-type {\n",
       "        vertical-align: middle;\n",
       "    }\n",
       "\n",
       "    .dataframe tbody tr th {\n",
       "        vertical-align: top;\n",
       "    }\n",
       "\n",
       "    .dataframe thead th {\n",
       "        text-align: right;\n",
       "    }\n",
       "</style>\n",
       "<table border=\"1\" class=\"dataframe\">\n",
       "  <thead>\n",
       "    <tr style=\"text-align: right;\">\n",
       "      <th></th>\n",
       "      <th>order_id</th>\n",
       "      <th>payment_type</th>\n",
       "      <th>payment_value</th>\n",
       "    </tr>\n",
       "  </thead>\n",
       "  <tbody>\n",
       "    <tr>\n",
       "      <th>0</th>\n",
       "      <td>b81ef226f3</td>\n",
       "      <td>credit_card</td>\n",
       "      <td>99</td>\n",
       "    </tr>\n",
       "    <tr>\n",
       "      <th>1</th>\n",
       "      <td>a9810da829</td>\n",
       "      <td>credit_card</td>\n",
       "      <td>24</td>\n",
       "    </tr>\n",
       "    <tr>\n",
       "      <th>2</th>\n",
       "      <td>25e8ea4e93</td>\n",
       "      <td>credit_card</td>\n",
       "      <td>65</td>\n",
       "    </tr>\n",
       "    <tr>\n",
       "      <th>3</th>\n",
       "      <td>ba78997921</td>\n",
       "      <td>credit_card</td>\n",
       "      <td>107</td>\n",
       "    </tr>\n",
       "    <tr>\n",
       "      <th>4</th>\n",
       "      <td>42fdf880ba</td>\n",
       "      <td>credit_card</td>\n",
       "      <td>128</td>\n",
       "    </tr>\n",
       "  </tbody>\n",
       "</table>\n",
       "</div>"
      ],
      "text/plain": [
       "     order_id payment_type  payment_value\n",
       "0  b81ef226f3  credit_card             99\n",
       "1  a9810da829  credit_card             24\n",
       "2  25e8ea4e93  credit_card             65\n",
       "3  ba78997921  credit_card            107\n",
       "4  42fdf880ba  credit_card            128"
      ]
     },
     "execution_count": 7,
     "metadata": {},
     "output_type": "execute_result"
    }
   ],
   "source": [
    "payments.head()"
   ]
  },
  {
   "cell_type": "code",
   "execution_count": 8,
   "metadata": {},
   "outputs": [
    {
     "data": {
      "text/plain": [
       "credit_card    76795\n",
       "boleto         19784\n",
       "voucher         5775\n",
       "debit_card      1529\n",
       "not_defined        3\n",
       "Name: payment_type, dtype: int64"
      ]
     },
     "execution_count": 8,
     "metadata": {},
     "output_type": "execute_result"
    }
   ],
   "source": [
    "payments['payment_type'].value_counts()"
   ]
  },
  {
   "cell_type": "code",
   "execution_count": 9,
   "metadata": {
    "scrolled": true
   },
   "outputs": [
    {
     "data": {
      "text/html": [
       "<div>\n",
       "<style scoped>\n",
       "    .dataframe tbody tr th:only-of-type {\n",
       "        vertical-align: middle;\n",
       "    }\n",
       "\n",
       "    .dataframe tbody tr th {\n",
       "        vertical-align: top;\n",
       "    }\n",
       "\n",
       "    .dataframe thead th {\n",
       "        text-align: right;\n",
       "    }\n",
       "</style>\n",
       "<table border=\"1\" class=\"dataframe\">\n",
       "  <thead>\n",
       "    <tr style=\"text-align: right;\">\n",
       "      <th></th>\n",
       "      <th>customer_id</th>\n",
       "      <th>customer_unique_id</th>\n",
       "      <th>customer_state</th>\n",
       "    </tr>\n",
       "  </thead>\n",
       "  <tbody>\n",
       "    <tr>\n",
       "      <th>0</th>\n",
       "      <td>06b8999e2f</td>\n",
       "      <td>861eff4711</td>\n",
       "      <td>SP</td>\n",
       "    </tr>\n",
       "    <tr>\n",
       "      <th>1</th>\n",
       "      <td>18955e83d3</td>\n",
       "      <td>290c77bc52</td>\n",
       "      <td>SP</td>\n",
       "    </tr>\n",
       "    <tr>\n",
       "      <th>2</th>\n",
       "      <td>4e7b3e0028</td>\n",
       "      <td>060e732b5b</td>\n",
       "      <td>SP</td>\n",
       "    </tr>\n",
       "    <tr>\n",
       "      <th>3</th>\n",
       "      <td>b2b6027bc5</td>\n",
       "      <td>259dac7578</td>\n",
       "      <td>SP</td>\n",
       "    </tr>\n",
       "    <tr>\n",
       "      <th>4</th>\n",
       "      <td>4f2d8ab171</td>\n",
       "      <td>345ecd01c3</td>\n",
       "      <td>SP</td>\n",
       "    </tr>\n",
       "  </tbody>\n",
       "</table>\n",
       "</div>"
      ],
      "text/plain": [
       "  customer_id customer_unique_id customer_state\n",
       "0  06b8999e2f         861eff4711             SP\n",
       "1  18955e83d3         290c77bc52             SP\n",
       "2  4e7b3e0028         060e732b5b             SP\n",
       "3  b2b6027bc5         259dac7578             SP\n",
       "4  4f2d8ab171         345ecd01c3             SP"
      ]
     },
     "execution_count": 9,
     "metadata": {},
     "output_type": "execute_result"
    }
   ],
   "source": [
    "customers.head()"
   ]
  },
  {
   "cell_type": "code",
   "execution_count": 10,
   "metadata": {
    "scrolled": true
   },
   "outputs": [
    {
     "data": {
      "text/html": [
       "<div>\n",
       "<style scoped>\n",
       "    .dataframe tbody tr th:only-of-type {\n",
       "        vertical-align: middle;\n",
       "    }\n",
       "\n",
       "    .dataframe tbody tr th {\n",
       "        vertical-align: top;\n",
       "    }\n",
       "\n",
       "    .dataframe thead th {\n",
       "        text-align: right;\n",
       "    }\n",
       "</style>\n",
       "<table border=\"1\" class=\"dataframe\">\n",
       "  <thead>\n",
       "    <tr style=\"text-align: right;\">\n",
       "      <th></th>\n",
       "      <th>review_id</th>\n",
       "      <th>order_id</th>\n",
       "      <th>review_score</th>\n",
       "      <th>survey_sent_date</th>\n",
       "      <th>survey_answer_timestamp</th>\n",
       "    </tr>\n",
       "  </thead>\n",
       "  <tbody>\n",
       "    <tr>\n",
       "      <th>0</th>\n",
       "      <td>7bc2406110b926393aa56f80a40eba40</td>\n",
       "      <td>73fc7af871</td>\n",
       "      <td>4</td>\n",
       "      <td>2018-01-18 00:00:00</td>\n",
       "      <td>2018-01-18 21:46:59</td>\n",
       "    </tr>\n",
       "    <tr>\n",
       "      <th>1</th>\n",
       "      <td>80e641a11e56f04c1ad469d5645fdfde</td>\n",
       "      <td>a548910a1c</td>\n",
       "      <td>5</td>\n",
       "      <td>2018-03-10 00:00:00</td>\n",
       "      <td>2018-03-11 03:05:13</td>\n",
       "    </tr>\n",
       "    <tr>\n",
       "      <th>2</th>\n",
       "      <td>228ce5500dc1d8e020d8d1322874b6f0</td>\n",
       "      <td>f9e4b658b2</td>\n",
       "      <td>5</td>\n",
       "      <td>2018-02-17 00:00:00</td>\n",
       "      <td>2018-02-18 14:36:24</td>\n",
       "    </tr>\n",
       "    <tr>\n",
       "      <th>3</th>\n",
       "      <td>e64fb393e7b32834bb789ff8bb30750e</td>\n",
       "      <td>658677c97b</td>\n",
       "      <td>5</td>\n",
       "      <td>2017-04-21 00:00:00</td>\n",
       "      <td>2017-04-21 22:02:06</td>\n",
       "    </tr>\n",
       "    <tr>\n",
       "      <th>4</th>\n",
       "      <td>f7c4243c7fe1938f181bec41a392bdeb</td>\n",
       "      <td>8e6bfb81e2</td>\n",
       "      <td>5</td>\n",
       "      <td>2018-03-01 00:00:00</td>\n",
       "      <td>2018-03-02 10:26:53</td>\n",
       "    </tr>\n",
       "  </tbody>\n",
       "</table>\n",
       "</div>"
      ],
      "text/plain": [
       "                          review_id    order_id  review_score  \\\n",
       "0  7bc2406110b926393aa56f80a40eba40  73fc7af871             4   \n",
       "1  80e641a11e56f04c1ad469d5645fdfde  a548910a1c             5   \n",
       "2  228ce5500dc1d8e020d8d1322874b6f0  f9e4b658b2             5   \n",
       "3  e64fb393e7b32834bb789ff8bb30750e  658677c97b             5   \n",
       "4  f7c4243c7fe1938f181bec41a392bdeb  8e6bfb81e2             5   \n",
       "\n",
       "      survey_sent_date survey_answer_timestamp  \n",
       "0  2018-01-18 00:00:00     2018-01-18 21:46:59  \n",
       "1  2018-03-10 00:00:00     2018-03-11 03:05:13  \n",
       "2  2018-02-17 00:00:00     2018-02-18 14:36:24  \n",
       "3  2017-04-21 00:00:00     2017-04-21 22:02:06  \n",
       "4  2018-03-01 00:00:00     2018-03-02 10:26:53  "
      ]
     },
     "execution_count": 10,
     "metadata": {},
     "output_type": "execute_result"
    }
   ],
   "source": [
    "user_feedback.head()"
   ]
  },
  {
   "cell_type": "markdown",
   "metadata": {},
   "source": [
    "# Merging Dataset & Data cleaning"
   ]
  },
  {
   "cell_type": "code",
   "execution_count": 11,
   "metadata": {},
   "outputs": [],
   "source": [
    "orders_list= pd.merge(orders, order_items, on='order_id')"
   ]
  },
  {
   "cell_type": "code",
   "execution_count": 12,
   "metadata": {},
   "outputs": [],
   "source": [
    "purchase_date_split= orders_list['order_purchase_timestamp'].str.split(' ')"
   ]
  },
  {
   "cell_type": "code",
   "execution_count": 13,
   "metadata": {},
   "outputs": [],
   "source": [
    "orders_list['order_purchase_date']=purchase_date_split.str.get(0)"
   ]
  },
  {
   "cell_type": "code",
   "execution_count": 14,
   "metadata": {},
   "outputs": [],
   "source": [
    "purchase_date_split= orders_list['order_purchase_date'].str.split('-')"
   ]
  },
  {
   "cell_type": "code",
   "execution_count": 15,
   "metadata": {},
   "outputs": [],
   "source": [
    "orders_list['year']=purchase_date_split.str.get(0)\n",
    "orders_list['month']=purchase_date_split.str.get(1)\n",
    "orders_list['day']=purchase_date_split.str.get(2)"
   ]
  },
  {
   "cell_type": "code",
   "execution_count": 16,
   "metadata": {},
   "outputs": [
    {
     "name": "stdout",
     "output_type": "stream",
     "text": [
      "<class 'pandas.core.frame.DataFrame'>\n",
      "Int64Index: 112650 entries, 0 to 112649\n",
      "Data columns (total 15 columns):\n",
      " #   Column                            Non-Null Count   Dtype \n",
      "---  ------                            --------------   ----- \n",
      " 0   order_id                          112650 non-null  object\n",
      " 1   customer_id                       112650 non-null  object\n",
      " 2   order_status                      112650 non-null  object\n",
      " 3   order_purchase_timestamp          112650 non-null  object\n",
      " 4   order_approved_at                 112635 non-null  object\n",
      " 5   order_delivered_to_carrier_date   111456 non-null  object\n",
      " 6   order_delivered_to_customer_date  110196 non-null  object\n",
      " 7   order_estimated_delivery_date     112650 non-null  object\n",
      " 8   product_id                        112650 non-null  object\n",
      " 9   seller_id                         112650 non-null  object\n",
      " 10  price                             112650 non-null  int64 \n",
      " 11  order_purchase_date               112650 non-null  object\n",
      " 12  year                              112650 non-null  object\n",
      " 13  month                             112650 non-null  object\n",
      " 14  day                               112650 non-null  object\n",
      "dtypes: int64(1), object(14)\n",
      "memory usage: 13.8+ MB\n"
     ]
    }
   ],
   "source": [
    "orders_list.info()"
   ]
  },
  {
   "cell_type": "code",
   "execution_count": 17,
   "metadata": {},
   "outputs": [],
   "source": [
    "orders_list[\"order_purchase_date\"]= pd.to_datetime(orders_list[\"order_purchase_date\"])"
   ]
  },
  {
   "cell_type": "code",
   "execution_count": 18,
   "metadata": {},
   "outputs": [],
   "source": [
    "a= pd.merge(orders_list, sellers, on='seller_id')\n",
    "b=pd.merge(a,payments,on='order_id')\n",
    "c=pd.merge(b,customers,on='customer_id')\n",
    "d=pd.merge(c,user_feedback,on='order_id')\n",
    "data=pd.merge(d,products,on='product_id')"
   ]
  },
  {
   "cell_type": "code",
   "execution_count": 19,
   "metadata": {
    "scrolled": false
   },
   "outputs": [
    {
     "data": {
      "text/html": [
       "<div>\n",
       "<style scoped>\n",
       "    .dataframe tbody tr th:only-of-type {\n",
       "        vertical-align: middle;\n",
       "    }\n",
       "\n",
       "    .dataframe tbody tr th {\n",
       "        vertical-align: top;\n",
       "    }\n",
       "\n",
       "    .dataframe thead th {\n",
       "        text-align: right;\n",
       "    }\n",
       "</style>\n",
       "<table border=\"1\" class=\"dataframe\">\n",
       "  <thead>\n",
       "    <tr style=\"text-align: right;\">\n",
       "      <th></th>\n",
       "      <th>order_id</th>\n",
       "      <th>customer_id</th>\n",
       "      <th>order_status</th>\n",
       "      <th>order_purchase_timestamp</th>\n",
       "      <th>order_approved_at</th>\n",
       "      <th>order_delivered_to_carrier_date</th>\n",
       "      <th>order_delivered_to_customer_date</th>\n",
       "      <th>order_estimated_delivery_date</th>\n",
       "      <th>product_id</th>\n",
       "      <th>seller_id</th>\n",
       "      <th>...</th>\n",
       "      <th>review_id</th>\n",
       "      <th>review_score</th>\n",
       "      <th>survey_sent_date</th>\n",
       "      <th>survey_answer_timestamp</th>\n",
       "      <th>product_photos_count</th>\n",
       "      <th>product_length_cm</th>\n",
       "      <th>product_height_cm</th>\n",
       "      <th>product_width_cm</th>\n",
       "      <th>product_category_name</th>\n",
       "      <th>product_weight_kg</th>\n",
       "    </tr>\n",
       "  </thead>\n",
       "  <tbody>\n",
       "    <tr>\n",
       "      <th>0</th>\n",
       "      <td>e481f51cbd</td>\n",
       "      <td>9ef432eb62</td>\n",
       "      <td>delivered</td>\n",
       "      <td>2017-10-02 10:56:33</td>\n",
       "      <td>2017-10-02 11:07:15</td>\n",
       "      <td>2017-10-04 19:55:00</td>\n",
       "      <td>2017-10-10 21:25:13</td>\n",
       "      <td>2017-10-18 00:00:00</td>\n",
       "      <td>87285b3488</td>\n",
       "      <td>3504c0cb71</td>\n",
       "      <td>...</td>\n",
       "      <td>a54f0611adc9ed256b57ede6b6eb5114</td>\n",
       "      <td>4</td>\n",
       "      <td>2017-10-11 00:00:00</td>\n",
       "      <td>2017-10-12 03:43:48</td>\n",
       "      <td>4.0</td>\n",
       "      <td>19.0</td>\n",
       "      <td>8.0</td>\n",
       "      <td>13.0</td>\n",
       "      <td>housewares</td>\n",
       "      <td>0.5</td>\n",
       "    </tr>\n",
       "    <tr>\n",
       "      <th>1</th>\n",
       "      <td>e481f51cbd</td>\n",
       "      <td>9ef432eb62</td>\n",
       "      <td>delivered</td>\n",
       "      <td>2017-10-02 10:56:33</td>\n",
       "      <td>2017-10-02 11:07:15</td>\n",
       "      <td>2017-10-04 19:55:00</td>\n",
       "      <td>2017-10-10 21:25:13</td>\n",
       "      <td>2017-10-18 00:00:00</td>\n",
       "      <td>87285b3488</td>\n",
       "      <td>3504c0cb71</td>\n",
       "      <td>...</td>\n",
       "      <td>a54f0611adc9ed256b57ede6b6eb5114</td>\n",
       "      <td>4</td>\n",
       "      <td>2017-10-11 00:00:00</td>\n",
       "      <td>2017-10-12 03:43:48</td>\n",
       "      <td>4.0</td>\n",
       "      <td>19.0</td>\n",
       "      <td>8.0</td>\n",
       "      <td>13.0</td>\n",
       "      <td>housewares</td>\n",
       "      <td>0.5</td>\n",
       "    </tr>\n",
       "    <tr>\n",
       "      <th>2</th>\n",
       "      <td>e481f51cbd</td>\n",
       "      <td>9ef432eb62</td>\n",
       "      <td>delivered</td>\n",
       "      <td>2017-10-02 10:56:33</td>\n",
       "      <td>2017-10-02 11:07:15</td>\n",
       "      <td>2017-10-04 19:55:00</td>\n",
       "      <td>2017-10-10 21:25:13</td>\n",
       "      <td>2017-10-18 00:00:00</td>\n",
       "      <td>87285b3488</td>\n",
       "      <td>3504c0cb71</td>\n",
       "      <td>...</td>\n",
       "      <td>a54f0611adc9ed256b57ede6b6eb5114</td>\n",
       "      <td>4</td>\n",
       "      <td>2017-10-11 00:00:00</td>\n",
       "      <td>2017-10-12 03:43:48</td>\n",
       "      <td>4.0</td>\n",
       "      <td>19.0</td>\n",
       "      <td>8.0</td>\n",
       "      <td>13.0</td>\n",
       "      <td>housewares</td>\n",
       "      <td>0.5</td>\n",
       "    </tr>\n",
       "    <tr>\n",
       "      <th>3</th>\n",
       "      <td>128e10d957</td>\n",
       "      <td>a20e8105f2</td>\n",
       "      <td>delivered</td>\n",
       "      <td>2017-08-15 18:29:31</td>\n",
       "      <td>2017-08-15 20:05:16</td>\n",
       "      <td>2017-08-17 15:28:33</td>\n",
       "      <td>2017-08-18 14:44:43</td>\n",
       "      <td>2017-08-28 00:00:00</td>\n",
       "      <td>87285b3488</td>\n",
       "      <td>3504c0cb71</td>\n",
       "      <td>...</td>\n",
       "      <td>b46f1e34512b0f4c74a72398b03ca788</td>\n",
       "      <td>4</td>\n",
       "      <td>2017-08-19 00:00:00</td>\n",
       "      <td>2017-08-20 15:16:36</td>\n",
       "      <td>4.0</td>\n",
       "      <td>19.0</td>\n",
       "      <td>8.0</td>\n",
       "      <td>13.0</td>\n",
       "      <td>housewares</td>\n",
       "      <td>0.5</td>\n",
       "    </tr>\n",
       "    <tr>\n",
       "      <th>4</th>\n",
       "      <td>0e7e841ddf</td>\n",
       "      <td>26c7ac168e</td>\n",
       "      <td>delivered</td>\n",
       "      <td>2017-08-02 18:24:47</td>\n",
       "      <td>2017-08-02 18:43:15</td>\n",
       "      <td>2017-08-04 17:35:43</td>\n",
       "      <td>2017-08-07 18:30:01</td>\n",
       "      <td>2017-08-15 00:00:00</td>\n",
       "      <td>87285b3488</td>\n",
       "      <td>3504c0cb71</td>\n",
       "      <td>...</td>\n",
       "      <td>dc90f19c2806f1abba9e72ad3c350073</td>\n",
       "      <td>5</td>\n",
       "      <td>2017-08-08 00:00:00</td>\n",
       "      <td>2017-08-08 23:26:23</td>\n",
       "      <td>4.0</td>\n",
       "      <td>19.0</td>\n",
       "      <td>8.0</td>\n",
       "      <td>13.0</td>\n",
       "      <td>housewares</td>\n",
       "      <td>0.5</td>\n",
       "    </tr>\n",
       "  </tbody>\n",
       "</table>\n",
       "<p>5 rows × 30 columns</p>\n",
       "</div>"
      ],
      "text/plain": [
       "     order_id customer_id order_status order_purchase_timestamp  \\\n",
       "0  e481f51cbd  9ef432eb62    delivered      2017-10-02 10:56:33   \n",
       "1  e481f51cbd  9ef432eb62    delivered      2017-10-02 10:56:33   \n",
       "2  e481f51cbd  9ef432eb62    delivered      2017-10-02 10:56:33   \n",
       "3  128e10d957  a20e8105f2    delivered      2017-08-15 18:29:31   \n",
       "4  0e7e841ddf  26c7ac168e    delivered      2017-08-02 18:24:47   \n",
       "\n",
       "     order_approved_at order_delivered_to_carrier_date  \\\n",
       "0  2017-10-02 11:07:15             2017-10-04 19:55:00   \n",
       "1  2017-10-02 11:07:15             2017-10-04 19:55:00   \n",
       "2  2017-10-02 11:07:15             2017-10-04 19:55:00   \n",
       "3  2017-08-15 20:05:16             2017-08-17 15:28:33   \n",
       "4  2017-08-02 18:43:15             2017-08-04 17:35:43   \n",
       "\n",
       "  order_delivered_to_customer_date order_estimated_delivery_date  product_id  \\\n",
       "0              2017-10-10 21:25:13           2017-10-18 00:00:00  87285b3488   \n",
       "1              2017-10-10 21:25:13           2017-10-18 00:00:00  87285b3488   \n",
       "2              2017-10-10 21:25:13           2017-10-18 00:00:00  87285b3488   \n",
       "3              2017-08-18 14:44:43           2017-08-28 00:00:00  87285b3488   \n",
       "4              2017-08-07 18:30:01           2017-08-15 00:00:00  87285b3488   \n",
       "\n",
       "    seller_id  ...                         review_id review_score  \\\n",
       "0  3504c0cb71  ...  a54f0611adc9ed256b57ede6b6eb5114            4   \n",
       "1  3504c0cb71  ...  a54f0611adc9ed256b57ede6b6eb5114            4   \n",
       "2  3504c0cb71  ...  a54f0611adc9ed256b57ede6b6eb5114            4   \n",
       "3  3504c0cb71  ...  b46f1e34512b0f4c74a72398b03ca788            4   \n",
       "4  3504c0cb71  ...  dc90f19c2806f1abba9e72ad3c350073            5   \n",
       "\n",
       "      survey_sent_date survey_answer_timestamp product_photos_count  \\\n",
       "0  2017-10-11 00:00:00     2017-10-12 03:43:48                  4.0   \n",
       "1  2017-10-11 00:00:00     2017-10-12 03:43:48                  4.0   \n",
       "2  2017-10-11 00:00:00     2017-10-12 03:43:48                  4.0   \n",
       "3  2017-08-19 00:00:00     2017-08-20 15:16:36                  4.0   \n",
       "4  2017-08-08 00:00:00     2017-08-08 23:26:23                  4.0   \n",
       "\n",
       "  product_length_cm product_height_cm  product_width_cm product_category_name  \\\n",
       "0              19.0               8.0              13.0            housewares   \n",
       "1              19.0               8.0              13.0            housewares   \n",
       "2              19.0               8.0              13.0            housewares   \n",
       "3              19.0               8.0              13.0            housewares   \n",
       "4              19.0               8.0              13.0            housewares   \n",
       "\n",
       "  product_weight_kg  \n",
       "0               0.5  \n",
       "1               0.5  \n",
       "2               0.5  \n",
       "3               0.5  \n",
       "4               0.5  \n",
       "\n",
       "[5 rows x 30 columns]"
      ]
     },
     "execution_count": 19,
     "metadata": {},
     "output_type": "execute_result"
    }
   ],
   "source": [
    "data.head()"
   ]
  },
  {
   "cell_type": "code",
   "execution_count": 20,
   "metadata": {
    "scrolled": false
   },
   "outputs": [
    {
     "data": {
      "text/plain": [
       "order_id                               0\n",
       "customer_id                            0\n",
       "order_status                           0\n",
       "order_purchase_timestamp               0\n",
       "order_approved_at                     15\n",
       "order_delivered_to_carrier_date     1254\n",
       "order_delivered_to_customer_date    2588\n",
       "order_estimated_delivery_date          0\n",
       "product_id                             0\n",
       "seller_id                              0\n",
       "price                                  0\n",
       "order_purchase_date                    0\n",
       "year                                   0\n",
       "month                                  0\n",
       "day                                    0\n",
       "seller_state                           0\n",
       "payment_type                           0\n",
       "payment_value                          0\n",
       "customer_unique_id                     0\n",
       "customer_state                         0\n",
       "review_id                              0\n",
       "review_score                           0\n",
       "survey_sent_date                       0\n",
       "survey_answer_timestamp                0\n",
       "product_photos_count                1709\n",
       "product_length_cm                     20\n",
       "product_height_cm                     20\n",
       "product_width_cm                      20\n",
       "product_category_name                  0\n",
       "product_weight_kg                     20\n",
       "dtype: int64"
      ]
     },
     "execution_count": 20,
     "metadata": {},
     "output_type": "execute_result"
    }
   ],
   "source": [
    "data.isnull().sum()"
   ]
  },
  {
   "cell_type": "code",
   "execution_count": 21,
   "metadata": {},
   "outputs": [],
   "source": [
    "data.dropna(inplace=True)"
   ]
  },
  {
   "cell_type": "markdown",
   "metadata": {},
   "source": [
    "# Data visualisaion"
   ]
  },
  {
   "cell_type": "code",
   "execution_count": 22,
   "metadata": {
    "scrolled": false
   },
   "outputs": [
    {
     "data": {
      "application/vnd.plotly.v1+json": {
       "config": {
        "plotlyServerURL": "https://plot.ly"
       },
       "data": [
        {
         "hovertemplate": "order_purchase_date=%{x}<br>price=%{y}<extra></extra>",
         "legendgroup": "",
         "line": {
          "color": "#636efa",
          "dash": "solid"
         },
         "mode": "lines",
         "name": "",
         "orientation": "v",
         "showlegend": false,
         "type": "scatter",
         "x": [
          "2016-09-04T00:00:00",
          "2016-09-05T00:00:00",
          "2016-09-15T00:00:00",
          "2016-10-02T00:00:00",
          "2016-10-03T00:00:00",
          "2016-10-04T00:00:00",
          "2016-10-05T00:00:00",
          "2016-10-06T00:00:00",
          "2016-10-07T00:00:00",
          "2016-10-08T00:00:00",
          "2016-10-09T00:00:00",
          "2016-10-10T00:00:00",
          "2016-12-23T00:00:00",
          "2017-01-05T00:00:00",
          "2017-01-06T00:00:00",
          "2017-01-07T00:00:00",
          "2017-01-08T00:00:00",
          "2017-01-09T00:00:00",
          "2017-01-10T00:00:00",
          "2017-01-11T00:00:00",
          "2017-01-12T00:00:00",
          "2017-01-13T00:00:00",
          "2017-01-14T00:00:00",
          "2017-01-15T00:00:00",
          "2017-01-16T00:00:00",
          "2017-01-17T00:00:00",
          "2017-01-18T00:00:00",
          "2017-01-19T00:00:00",
          "2017-01-20T00:00:00",
          "2017-01-21T00:00:00",
          "2017-01-22T00:00:00",
          "2017-01-23T00:00:00",
          "2017-01-24T00:00:00",
          "2017-01-25T00:00:00",
          "2017-01-26T00:00:00",
          "2017-01-27T00:00:00",
          "2017-01-28T00:00:00",
          "2017-01-29T00:00:00",
          "2017-01-30T00:00:00",
          "2017-01-31T00:00:00",
          "2017-02-01T00:00:00",
          "2017-02-02T00:00:00",
          "2017-02-03T00:00:00",
          "2017-02-04T00:00:00",
          "2017-02-05T00:00:00",
          "2017-02-06T00:00:00",
          "2017-02-07T00:00:00",
          "2017-02-08T00:00:00",
          "2017-02-09T00:00:00",
          "2017-02-10T00:00:00",
          "2017-02-11T00:00:00",
          "2017-02-12T00:00:00",
          "2017-02-13T00:00:00",
          "2017-02-14T00:00:00",
          "2017-02-15T00:00:00",
          "2017-02-16T00:00:00",
          "2017-02-17T00:00:00",
          "2017-02-18T00:00:00",
          "2017-02-19T00:00:00",
          "2017-02-20T00:00:00",
          "2017-02-21T00:00:00",
          "2017-02-22T00:00:00",
          "2017-02-23T00:00:00",
          "2017-02-24T00:00:00",
          "2017-02-25T00:00:00",
          "2017-02-26T00:00:00",
          "2017-02-27T00:00:00",
          "2017-02-28T00:00:00",
          "2017-03-01T00:00:00",
          "2017-03-02T00:00:00",
          "2017-03-03T00:00:00",
          "2017-03-04T00:00:00",
          "2017-03-05T00:00:00",
          "2017-03-06T00:00:00",
          "2017-03-07T00:00:00",
          "2017-03-08T00:00:00",
          "2017-03-09T00:00:00",
          "2017-03-10T00:00:00",
          "2017-03-11T00:00:00",
          "2017-03-12T00:00:00",
          "2017-03-13T00:00:00",
          "2017-03-14T00:00:00",
          "2017-03-15T00:00:00",
          "2017-03-16T00:00:00",
          "2017-03-17T00:00:00",
          "2017-03-18T00:00:00",
          "2017-03-19T00:00:00",
          "2017-03-20T00:00:00",
          "2017-03-21T00:00:00",
          "2017-03-22T00:00:00",
          "2017-03-23T00:00:00",
          "2017-03-24T00:00:00",
          "2017-03-25T00:00:00",
          "2017-03-26T00:00:00",
          "2017-03-27T00:00:00",
          "2017-03-28T00:00:00",
          "2017-03-29T00:00:00",
          "2017-03-30T00:00:00",
          "2017-03-31T00:00:00",
          "2017-04-01T00:00:00",
          "2017-04-02T00:00:00",
          "2017-04-03T00:00:00",
          "2017-04-04T00:00:00",
          "2017-04-05T00:00:00",
          "2017-04-06T00:00:00",
          "2017-04-07T00:00:00",
          "2017-04-08T00:00:00",
          "2017-04-09T00:00:00",
          "2017-04-10T00:00:00",
          "2017-04-11T00:00:00",
          "2017-04-12T00:00:00",
          "2017-04-13T00:00:00",
          "2017-04-14T00:00:00",
          "2017-04-15T00:00:00",
          "2017-04-16T00:00:00",
          "2017-04-17T00:00:00",
          "2017-04-18T00:00:00",
          "2017-04-19T00:00:00",
          "2017-04-20T00:00:00",
          "2017-04-21T00:00:00",
          "2017-04-22T00:00:00",
          "2017-04-23T00:00:00",
          "2017-04-24T00:00:00",
          "2017-04-25T00:00:00",
          "2017-04-26T00:00:00",
          "2017-04-27T00:00:00",
          "2017-04-28T00:00:00",
          "2017-04-29T00:00:00",
          "2017-04-30T00:00:00",
          "2017-05-01T00:00:00",
          "2017-05-02T00:00:00",
          "2017-05-03T00:00:00",
          "2017-05-04T00:00:00",
          "2017-05-05T00:00:00",
          "2017-05-06T00:00:00",
          "2017-05-07T00:00:00",
          "2017-05-08T00:00:00",
          "2017-05-09T00:00:00",
          "2017-05-10T00:00:00",
          "2017-05-11T00:00:00",
          "2017-05-12T00:00:00",
          "2017-05-13T00:00:00",
          "2017-05-14T00:00:00",
          "2017-05-15T00:00:00",
          "2017-05-16T00:00:00",
          "2017-05-17T00:00:00",
          "2017-05-18T00:00:00",
          "2017-05-19T00:00:00",
          "2017-05-20T00:00:00",
          "2017-05-21T00:00:00",
          "2017-05-22T00:00:00",
          "2017-05-23T00:00:00",
          "2017-05-24T00:00:00",
          "2017-05-25T00:00:00",
          "2017-05-26T00:00:00",
          "2017-05-27T00:00:00",
          "2017-05-28T00:00:00",
          "2017-05-29T00:00:00",
          "2017-05-30T00:00:00",
          "2017-05-31T00:00:00",
          "2017-06-01T00:00:00",
          "2017-06-02T00:00:00",
          "2017-06-03T00:00:00",
          "2017-06-04T00:00:00",
          "2017-06-05T00:00:00",
          "2017-06-06T00:00:00",
          "2017-06-07T00:00:00",
          "2017-06-08T00:00:00",
          "2017-06-09T00:00:00",
          "2017-06-10T00:00:00",
          "2017-06-11T00:00:00",
          "2017-06-12T00:00:00",
          "2017-06-13T00:00:00",
          "2017-06-14T00:00:00",
          "2017-06-15T00:00:00",
          "2017-06-16T00:00:00",
          "2017-06-17T00:00:00",
          "2017-06-18T00:00:00",
          "2017-06-19T00:00:00",
          "2017-06-20T00:00:00",
          "2017-06-21T00:00:00",
          "2017-06-22T00:00:00",
          "2017-06-23T00:00:00",
          "2017-06-24T00:00:00",
          "2017-06-25T00:00:00",
          "2017-06-26T00:00:00",
          "2017-06-27T00:00:00",
          "2017-06-28T00:00:00",
          "2017-06-29T00:00:00",
          "2017-06-30T00:00:00",
          "2017-07-01T00:00:00",
          "2017-07-02T00:00:00",
          "2017-07-03T00:00:00",
          "2017-07-04T00:00:00",
          "2017-07-05T00:00:00",
          "2017-07-06T00:00:00",
          "2017-07-07T00:00:00",
          "2017-07-08T00:00:00",
          "2017-07-09T00:00:00",
          "2017-07-10T00:00:00",
          "2017-07-11T00:00:00",
          "2017-07-12T00:00:00",
          "2017-07-13T00:00:00",
          "2017-07-14T00:00:00",
          "2017-07-15T00:00:00",
          "2017-07-16T00:00:00",
          "2017-07-17T00:00:00",
          "2017-07-18T00:00:00",
          "2017-07-19T00:00:00",
          "2017-07-20T00:00:00",
          "2017-07-21T00:00:00",
          "2017-07-22T00:00:00",
          "2017-07-23T00:00:00",
          "2017-07-24T00:00:00",
          "2017-07-25T00:00:00",
          "2017-07-26T00:00:00",
          "2017-07-27T00:00:00",
          "2017-07-28T00:00:00",
          "2017-07-29T00:00:00",
          "2017-07-30T00:00:00",
          "2017-07-31T00:00:00",
          "2017-08-01T00:00:00",
          "2017-08-02T00:00:00",
          "2017-08-03T00:00:00",
          "2017-08-04T00:00:00",
          "2017-08-05T00:00:00",
          "2017-08-06T00:00:00",
          "2017-08-07T00:00:00",
          "2017-08-08T00:00:00",
          "2017-08-09T00:00:00",
          "2017-08-10T00:00:00",
          "2017-08-11T00:00:00",
          "2017-08-12T00:00:00",
          "2017-08-13T00:00:00",
          "2017-08-14T00:00:00",
          "2017-08-15T00:00:00",
          "2017-08-16T00:00:00",
          "2017-08-17T00:00:00",
          "2017-08-18T00:00:00",
          "2017-08-19T00:00:00",
          "2017-08-20T00:00:00",
          "2017-08-21T00:00:00",
          "2017-08-22T00:00:00",
          "2017-08-23T00:00:00",
          "2017-08-24T00:00:00",
          "2017-08-25T00:00:00",
          "2017-08-26T00:00:00",
          "2017-08-27T00:00:00",
          "2017-08-28T00:00:00",
          "2017-08-29T00:00:00",
          "2017-08-30T00:00:00",
          "2017-08-31T00:00:00",
          "2017-09-01T00:00:00",
          "2017-09-02T00:00:00",
          "2017-09-03T00:00:00",
          "2017-09-04T00:00:00",
          "2017-09-05T00:00:00",
          "2017-09-06T00:00:00",
          "2017-09-07T00:00:00",
          "2017-09-08T00:00:00",
          "2017-09-09T00:00:00",
          "2017-09-10T00:00:00",
          "2017-09-11T00:00:00",
          "2017-09-12T00:00:00",
          "2017-09-13T00:00:00",
          "2017-09-14T00:00:00",
          "2017-09-15T00:00:00",
          "2017-09-16T00:00:00",
          "2017-09-17T00:00:00",
          "2017-09-18T00:00:00",
          "2017-09-19T00:00:00",
          "2017-09-20T00:00:00",
          "2017-09-21T00:00:00",
          "2017-09-22T00:00:00",
          "2017-09-23T00:00:00",
          "2017-09-24T00:00:00",
          "2017-09-25T00:00:00",
          "2017-09-26T00:00:00",
          "2017-09-27T00:00:00",
          "2017-09-28T00:00:00",
          "2017-09-29T00:00:00",
          "2017-09-30T00:00:00",
          "2017-10-01T00:00:00",
          "2017-10-02T00:00:00",
          "2017-10-03T00:00:00",
          "2017-10-04T00:00:00",
          "2017-10-05T00:00:00",
          "2017-10-06T00:00:00",
          "2017-10-07T00:00:00",
          "2017-10-08T00:00:00",
          "2017-10-09T00:00:00",
          "2017-10-10T00:00:00",
          "2017-10-11T00:00:00",
          "2017-10-12T00:00:00",
          "2017-10-13T00:00:00",
          "2017-10-14T00:00:00",
          "2017-10-15T00:00:00",
          "2017-10-16T00:00:00",
          "2017-10-17T00:00:00",
          "2017-10-18T00:00:00",
          "2017-10-19T00:00:00",
          "2017-10-20T00:00:00",
          "2017-10-21T00:00:00",
          "2017-10-22T00:00:00",
          "2017-10-23T00:00:00",
          "2017-10-24T00:00:00",
          "2017-10-25T00:00:00",
          "2017-10-26T00:00:00",
          "2017-10-27T00:00:00",
          "2017-10-28T00:00:00",
          "2017-10-29T00:00:00",
          "2017-10-30T00:00:00",
          "2017-10-31T00:00:00",
          "2017-11-01T00:00:00",
          "2017-11-02T00:00:00",
          "2017-11-03T00:00:00",
          "2017-11-04T00:00:00",
          "2017-11-05T00:00:00",
          "2017-11-06T00:00:00",
          "2017-11-07T00:00:00",
          "2017-11-08T00:00:00",
          "2017-11-09T00:00:00",
          "2017-11-10T00:00:00",
          "2017-11-11T00:00:00",
          "2017-11-12T00:00:00",
          "2017-11-13T00:00:00",
          "2017-11-14T00:00:00",
          "2017-11-15T00:00:00",
          "2017-11-16T00:00:00",
          "2017-11-17T00:00:00",
          "2017-11-18T00:00:00",
          "2017-11-19T00:00:00",
          "2017-11-20T00:00:00",
          "2017-11-21T00:00:00",
          "2017-11-22T00:00:00",
          "2017-11-23T00:00:00",
          "2017-11-24T00:00:00",
          "2017-11-25T00:00:00",
          "2017-11-26T00:00:00",
          "2017-11-27T00:00:00",
          "2017-11-28T00:00:00",
          "2017-11-29T00:00:00",
          "2017-11-30T00:00:00",
          "2017-12-01T00:00:00",
          "2017-12-02T00:00:00",
          "2017-12-03T00:00:00",
          "2017-12-04T00:00:00",
          "2017-12-05T00:00:00",
          "2017-12-06T00:00:00",
          "2017-12-07T00:00:00",
          "2017-12-08T00:00:00",
          "2017-12-09T00:00:00",
          "2017-12-10T00:00:00",
          "2017-12-11T00:00:00",
          "2017-12-12T00:00:00",
          "2017-12-13T00:00:00",
          "2017-12-14T00:00:00",
          "2017-12-15T00:00:00",
          "2017-12-16T00:00:00",
          "2017-12-17T00:00:00",
          "2017-12-18T00:00:00",
          "2017-12-19T00:00:00",
          "2017-12-20T00:00:00",
          "2017-12-21T00:00:00",
          "2017-12-22T00:00:00",
          "2017-12-23T00:00:00",
          "2017-12-24T00:00:00",
          "2017-12-25T00:00:00",
          "2017-12-26T00:00:00",
          "2017-12-27T00:00:00",
          "2017-12-28T00:00:00",
          "2017-12-29T00:00:00",
          "2017-12-30T00:00:00",
          "2017-12-31T00:00:00",
          "2018-01-01T00:00:00",
          "2018-01-02T00:00:00",
          "2018-01-03T00:00:00",
          "2018-01-04T00:00:00",
          "2018-01-05T00:00:00",
          "2018-01-06T00:00:00",
          "2018-01-07T00:00:00",
          "2018-01-08T00:00:00",
          "2018-01-09T00:00:00",
          "2018-01-10T00:00:00",
          "2018-01-11T00:00:00",
          "2018-01-12T00:00:00",
          "2018-01-13T00:00:00",
          "2018-01-14T00:00:00",
          "2018-01-15T00:00:00",
          "2018-01-16T00:00:00",
          "2018-01-17T00:00:00",
          "2018-01-18T00:00:00",
          "2018-01-19T00:00:00",
          "2018-01-20T00:00:00",
          "2018-01-21T00:00:00",
          "2018-01-22T00:00:00",
          "2018-01-23T00:00:00",
          "2018-01-24T00:00:00",
          "2018-01-25T00:00:00",
          "2018-01-26T00:00:00",
          "2018-01-27T00:00:00",
          "2018-01-28T00:00:00",
          "2018-01-29T00:00:00",
          "2018-01-30T00:00:00",
          "2018-01-31T00:00:00",
          "2018-02-01T00:00:00",
          "2018-02-02T00:00:00",
          "2018-02-03T00:00:00",
          "2018-02-04T00:00:00",
          "2018-02-05T00:00:00",
          "2018-02-06T00:00:00",
          "2018-02-07T00:00:00",
          "2018-02-08T00:00:00",
          "2018-02-09T00:00:00",
          "2018-02-10T00:00:00",
          "2018-02-11T00:00:00",
          "2018-02-12T00:00:00",
          "2018-02-13T00:00:00",
          "2018-02-14T00:00:00",
          "2018-02-15T00:00:00",
          "2018-02-16T00:00:00",
          "2018-02-17T00:00:00",
          "2018-02-18T00:00:00",
          "2018-02-19T00:00:00",
          "2018-02-20T00:00:00",
          "2018-02-21T00:00:00",
          "2018-02-22T00:00:00",
          "2018-02-23T00:00:00",
          "2018-02-24T00:00:00",
          "2018-02-25T00:00:00",
          "2018-02-26T00:00:00",
          "2018-02-27T00:00:00",
          "2018-02-28T00:00:00",
          "2018-03-01T00:00:00",
          "2018-03-02T00:00:00",
          "2018-03-03T00:00:00",
          "2018-03-04T00:00:00",
          "2018-03-05T00:00:00",
          "2018-03-06T00:00:00",
          "2018-03-07T00:00:00",
          "2018-03-08T00:00:00",
          "2018-03-09T00:00:00",
          "2018-03-10T00:00:00",
          "2018-03-11T00:00:00",
          "2018-03-12T00:00:00",
          "2018-03-13T00:00:00",
          "2018-03-14T00:00:00",
          "2018-03-15T00:00:00",
          "2018-03-16T00:00:00",
          "2018-03-17T00:00:00",
          "2018-03-18T00:00:00",
          "2018-03-19T00:00:00",
          "2018-03-20T00:00:00",
          "2018-03-21T00:00:00",
          "2018-03-22T00:00:00",
          "2018-03-23T00:00:00",
          "2018-03-24T00:00:00",
          "2018-03-25T00:00:00",
          "2018-03-26T00:00:00",
          "2018-03-27T00:00:00",
          "2018-03-28T00:00:00",
          "2018-03-29T00:00:00",
          "2018-03-30T00:00:00",
          "2018-03-31T00:00:00",
          "2018-04-01T00:00:00",
          "2018-04-02T00:00:00",
          "2018-04-03T00:00:00",
          "2018-04-04T00:00:00",
          "2018-04-05T00:00:00",
          "2018-04-06T00:00:00",
          "2018-04-07T00:00:00",
          "2018-04-08T00:00:00",
          "2018-04-09T00:00:00",
          "2018-04-10T00:00:00",
          "2018-04-11T00:00:00",
          "2018-04-12T00:00:00",
          "2018-04-13T00:00:00",
          "2018-04-14T00:00:00",
          "2018-04-15T00:00:00",
          "2018-04-16T00:00:00",
          "2018-04-17T00:00:00",
          "2018-04-18T00:00:00",
          "2018-04-19T00:00:00",
          "2018-04-20T00:00:00",
          "2018-04-21T00:00:00",
          "2018-04-22T00:00:00",
          "2018-04-23T00:00:00",
          "2018-04-24T00:00:00",
          "2018-04-25T00:00:00",
          "2018-04-26T00:00:00",
          "2018-04-27T00:00:00",
          "2018-04-28T00:00:00",
          "2018-04-29T00:00:00",
          "2018-04-30T00:00:00",
          "2018-05-01T00:00:00",
          "2018-05-02T00:00:00",
          "2018-05-03T00:00:00",
          "2018-05-04T00:00:00",
          "2018-05-05T00:00:00",
          "2018-05-06T00:00:00",
          "2018-05-07T00:00:00",
          "2018-05-08T00:00:00",
          "2018-05-09T00:00:00",
          "2018-05-10T00:00:00",
          "2018-05-11T00:00:00",
          "2018-05-12T00:00:00",
          "2018-05-13T00:00:00",
          "2018-05-14T00:00:00",
          "2018-05-15T00:00:00",
          "2018-05-16T00:00:00",
          "2018-05-17T00:00:00",
          "2018-05-18T00:00:00",
          "2018-05-19T00:00:00",
          "2018-05-20T00:00:00",
          "2018-05-21T00:00:00",
          "2018-05-22T00:00:00",
          "2018-05-23T00:00:00",
          "2018-05-24T00:00:00",
          "2018-05-25T00:00:00",
          "2018-05-26T00:00:00",
          "2018-05-27T00:00:00",
          "2018-05-28T00:00:00",
          "2018-05-29T00:00:00",
          "2018-05-30T00:00:00",
          "2018-05-31T00:00:00",
          "2018-06-01T00:00:00",
          "2018-06-02T00:00:00",
          "2018-06-03T00:00:00",
          "2018-06-04T00:00:00",
          "2018-06-05T00:00:00",
          "2018-06-06T00:00:00",
          "2018-06-07T00:00:00",
          "2018-06-08T00:00:00",
          "2018-06-09T00:00:00",
          "2018-06-10T00:00:00",
          "2018-06-11T00:00:00",
          "2018-06-12T00:00:00",
          "2018-06-13T00:00:00",
          "2018-06-14T00:00:00",
          "2018-06-15T00:00:00",
          "2018-06-16T00:00:00",
          "2018-06-17T00:00:00",
          "2018-06-18T00:00:00",
          "2018-06-19T00:00:00",
          "2018-06-20T00:00:00",
          "2018-06-21T00:00:00",
          "2018-06-22T00:00:00",
          "2018-06-23T00:00:00",
          "2018-06-24T00:00:00",
          "2018-06-25T00:00:00",
          "2018-06-26T00:00:00",
          "2018-06-27T00:00:00",
          "2018-06-28T00:00:00",
          "2018-06-29T00:00:00",
          "2018-06-30T00:00:00",
          "2018-07-01T00:00:00",
          "2018-07-02T00:00:00",
          "2018-07-03T00:00:00",
          "2018-07-04T00:00:00",
          "2018-07-05T00:00:00",
          "2018-07-06T00:00:00",
          "2018-07-07T00:00:00",
          "2018-07-08T00:00:00",
          "2018-07-09T00:00:00",
          "2018-07-10T00:00:00",
          "2018-07-11T00:00:00",
          "2018-07-12T00:00:00",
          "2018-07-13T00:00:00",
          "2018-07-14T00:00:00",
          "2018-07-15T00:00:00",
          "2018-07-16T00:00:00",
          "2018-07-17T00:00:00",
          "2018-07-18T00:00:00",
          "2018-07-19T00:00:00",
          "2018-07-20T00:00:00",
          "2018-07-21T00:00:00",
          "2018-07-22T00:00:00",
          "2018-07-23T00:00:00",
          "2018-07-24T00:00:00",
          "2018-07-25T00:00:00",
          "2018-07-26T00:00:00",
          "2018-07-27T00:00:00",
          "2018-07-28T00:00:00",
          "2018-07-29T00:00:00",
          "2018-07-30T00:00:00",
          "2018-07-31T00:00:00",
          "2018-08-01T00:00:00",
          "2018-08-02T00:00:00",
          "2018-08-03T00:00:00",
          "2018-08-04T00:00:00",
          "2018-08-05T00:00:00",
          "2018-08-06T00:00:00",
          "2018-08-07T00:00:00",
          "2018-08-08T00:00:00",
          "2018-08-09T00:00:00",
          "2018-08-10T00:00:00",
          "2018-08-11T00:00:00",
          "2018-08-12T00:00:00",
          "2018-08-13T00:00:00",
          "2018-08-14T00:00:00",
          "2018-08-15T00:00:00",
          "2018-08-16T00:00:00",
          "2018-08-17T00:00:00",
          "2018-08-18T00:00:00",
          "2018-08-19T00:00:00",
          "2018-08-20T00:00:00",
          "2018-08-21T00:00:00",
          "2018-08-22T00:00:00",
          "2018-08-23T00:00:00",
          "2018-08-24T00:00:00",
          "2018-08-25T00:00:00",
          "2018-08-26T00:00:00",
          "2018-08-27T00:00:00",
          "2018-08-28T00:00:00",
          "2018-08-29T00:00:00",
          "2018-09-03T00:00:00"
         ],
         "xaxis": "x",
         "y": [
          71,
          59,
          132,
          100,
          457,
          9887,
          8300,
          7916,
          7191,
          8408,
          3314,
          3665,
          10,
          369,
          914,
          1351,
          704,
          670,
          1432,
          2769,
          2223,
          2500,
          1099,
          2184,
          3293,
          3279,
          4009,
          3533,
          4007,
          2429,
          3599,
          6538,
          5924,
          8931,
          13095,
          11378,
          5193,
          6426,
          10758,
          11052,
          8179,
          8865,
          10137,
          13916,
          8447,
          9474,
          14060,
          11896,
          9139,
          14171,
          4269,
          15086,
          10730,
          12642,
          6729,
          6310,
          6763,
          7246,
          3766,
          7835,
          8254,
          7987,
          6887,
          6632,
          4163,
          5414,
          5806,
          11173,
          12482,
          11327,
          12318,
          12612,
          6908,
          10254,
          11825,
          14553,
          11630,
          12288,
          10797,
          6561,
          16879,
          14164,
          14920,
          14189,
          11916,
          16384,
          6611,
          17004,
          11277,
          14102,
          16281,
          10113,
          9369,
          6278,
          16283,
          12300,
          8601,
          9970,
          12153,
          17651,
          9081,
          9092,
          12227,
          18834,
          23093,
          13238,
          8744,
          8172,
          11665,
          8245,
          8164,
          9649,
          8127,
          8293,
          5426,
          9364,
          21230,
          12024,
          13306,
          8400,
          12799,
          9981,
          15071,
          14588,
          15817,
          10235,
          15719,
          11859,
          8045,
          12485,
          17553,
          9984,
          13431,
          13886,
          16140,
          17091,
          16050,
          20720,
          20845,
          18079,
          12554,
          9068,
          15134,
          17852,
          21067,
          18236,
          18158,
          18290,
          10574,
          17316,
          25304,
          17695,
          23249,
          15303,
          10588,
          14084,
          9184,
          18784,
          14265,
          20342,
          19216,
          19038,
          10377,
          13789,
          24072,
          14472,
          12685,
          18404,
          15973,
          8162,
          14223,
          14700,
          13926,
          20335,
          12651,
          12840,
          11206,
          17760,
          22652,
          10893,
          6157,
          8751,
          13206,
          8266,
          17568,
          13359,
          16585,
          14570,
          12094,
          12672,
          12098,
          11414,
          16526,
          15401,
          20693,
          22126,
          13570,
          10148,
          8125,
          17216,
          20104,
          19064,
          14419,
          18637,
          10854,
          13329,
          21419,
          28085,
          16428,
          19059,
          13366,
          11390,
          12047,
          19545,
          17382,
          11161,
          15607,
          19944,
          15877,
          12851,
          17152,
          21628,
          18026,
          19023,
          18260,
          11862,
          14099,
          23147,
          18563,
          20652,
          19846,
          19933,
          13911,
          12258,
          18048,
          23586,
          23802,
          18253,
          17032,
          12821,
          12803,
          22075,
          16521,
          15779,
          13264,
          15087,
          10079,
          13276,
          22141,
          33670,
          30816,
          20563,
          28359,
          18052,
          27705,
          24838,
          20866,
          25534,
          16822,
          11802,
          15017,
          17724,
          23257,
          26983,
          27447,
          22428,
          18268,
          21063,
          19889,
          28348,
          19942,
          21982,
          18903,
          16159,
          10448,
          12980,
          17896,
          21551,
          20534,
          23161,
          30804,
          12612,
          18737,
          21651,
          25986,
          21090,
          25403,
          16983,
          15300,
          16455,
          30191,
          28019,
          22557,
          18654,
          22775,
          13439,
          18671,
          30431,
          29518,
          27127,
          23097,
          18548,
          14896,
          19679,
          22159,
          21950,
          17418,
          22464,
          20290,
          16419,
          17161,
          20126,
          23690,
          19309,
          21179,
          22748,
          19077,
          17218,
          28463,
          20723,
          19109,
          24917,
          20112,
          23177,
          22977,
          24240,
          26913,
          23585,
          28113,
          29084,
          23126,
          19852,
          44136,
          34160,
          24816,
          44513,
          151824,
          60585,
          45040,
          47625,
          47616,
          39609,
          31135,
          39789,
          31066,
          29104,
          47122,
          33416,
          39013,
          27905,
          29702,
          19916,
          24568,
          33809,
          33290,
          29451,
          25164,
          27273,
          20210,
          19229,
          29036,
          20496,
          27847,
          18483,
          14863,
          12797,
          5719,
          10321,
          20436,
          17586,
          14938,
          15954,
          12980,
          8636,
          6900,
          25170,
          31735,
          34676,
          27582,
          27451,
          29306,
          38497,
          30092,
          38275,
          39884,
          30822,
          27948,
          30816,
          38114,
          44034,
          35922,
          27610,
          29808,
          22263,
          23700,
          36909,
          34578,
          31531,
          29471,
          33841,
          21932,
          24006,
          30305,
          29406,
          32549,
          30188,
          27582,
          23326,
          23855,
          37175,
          33940,
          31128,
          27157,
          30607,
          21123,
          22380,
          23147,
          23467,
          36866,
          32088,
          26757,
          24832,
          24447,
          28019,
          36389,
          32233,
          32516,
          28267,
          24139,
          29048,
          43550,
          40048,
          45299,
          39463,
          31591,
          26265,
          32288,
          38145,
          39002,
          35966,
          27993,
          28270,
          26082,
          31177,
          30495,
          35931,
          23398,
          44128,
          32667,
          19964,
          30974,
          44449,
          35553,
          39542,
          30931,
          29479,
          23690,
          25421,
          35616,
          34569,
          29585,
          28799,
          21980,
          25099,
          29257,
          40077,
          36085,
          37824,
          35906,
          27669,
          25414,
          23358,
          49157,
          27745,
          40608,
          33942,
          31030,
          18752,
          30361,
          40234,
          36487,
          39296,
          43077,
          28221,
          18875,
          27213,
          37474,
          42906,
          40809,
          31483,
          40592,
          23462,
          19304,
          35519,
          33001,
          38363,
          42309,
          39566,
          28197,
          28423,
          53939,
          47601,
          43354,
          51281,
          37715,
          29477,
          31174,
          53622,
          40889,
          56058,
          31338,
          31457,
          25099,
          19485,
          25265,
          27652,
          17415,
          20009,
          15816,
          14728,
          12452,
          26788,
          25472,
          19125,
          25035,
          32196,
          25178,
          28345,
          28467,
          30575,
          25970,
          36872,
          26751,
          29228,
          25370,
          49482,
          40227,
          34448,
          27366,
          26501,
          24521,
          17221,
          34577,
          34489,
          28648,
          27560,
          24695,
          17405,
          24310,
          35988,
          30788,
          26363,
          32017,
          20355,
          15309,
          24280,
          23042,
          26172,
          35496,
          28692,
          18938,
          9013,
          14325,
          19477,
          18635,
          18438,
          28819,
          27536,
          22156,
          29932,
          31149,
          30285,
          41004,
          38555,
          31870,
          20987,
          27621,
          39727,
          41355,
          40236,
          35159,
          28256,
          25101,
          31318,
          38905,
          45110,
          40371,
          38269,
          41881,
          35375,
          35402,
          56194,
          48945,
          43152,
          39852,
          33288,
          25850,
          31406,
          38434,
          44003,
          45409,
          35459,
          31578,
          24230,
          25354,
          34336,
          26188,
          20190,
          16944,
          9577,
          10556,
          8023,
          5304,
          3645,
          1537,
          145
         ],
         "yaxis": "y"
        }
       ],
       "layout": {
        "legend": {
         "tracegroupgap": 0
        },
        "margin": {
         "t": 60
        },
        "template": {
         "data": {
          "bar": [
           {
            "error_x": {
             "color": "#2a3f5f"
            },
            "error_y": {
             "color": "#2a3f5f"
            },
            "marker": {
             "line": {
              "color": "#E5ECF6",
              "width": 0.5
             }
            },
            "type": "bar"
           }
          ],
          "barpolar": [
           {
            "marker": {
             "line": {
              "color": "#E5ECF6",
              "width": 0.5
             }
            },
            "type": "barpolar"
           }
          ],
          "carpet": [
           {
            "aaxis": {
             "endlinecolor": "#2a3f5f",
             "gridcolor": "white",
             "linecolor": "white",
             "minorgridcolor": "white",
             "startlinecolor": "#2a3f5f"
            },
            "baxis": {
             "endlinecolor": "#2a3f5f",
             "gridcolor": "white",
             "linecolor": "white",
             "minorgridcolor": "white",
             "startlinecolor": "#2a3f5f"
            },
            "type": "carpet"
           }
          ],
          "choropleth": [
           {
            "colorbar": {
             "outlinewidth": 0,
             "ticks": ""
            },
            "type": "choropleth"
           }
          ],
          "contour": [
           {
            "colorbar": {
             "outlinewidth": 0,
             "ticks": ""
            },
            "colorscale": [
             [
              0,
              "#0d0887"
             ],
             [
              0.1111111111111111,
              "#46039f"
             ],
             [
              0.2222222222222222,
              "#7201a8"
             ],
             [
              0.3333333333333333,
              "#9c179e"
             ],
             [
              0.4444444444444444,
              "#bd3786"
             ],
             [
              0.5555555555555556,
              "#d8576b"
             ],
             [
              0.6666666666666666,
              "#ed7953"
             ],
             [
              0.7777777777777778,
              "#fb9f3a"
             ],
             [
              0.8888888888888888,
              "#fdca26"
             ],
             [
              1,
              "#f0f921"
             ]
            ],
            "type": "contour"
           }
          ],
          "contourcarpet": [
           {
            "colorbar": {
             "outlinewidth": 0,
             "ticks": ""
            },
            "type": "contourcarpet"
           }
          ],
          "heatmap": [
           {
            "colorbar": {
             "outlinewidth": 0,
             "ticks": ""
            },
            "colorscale": [
             [
              0,
              "#0d0887"
             ],
             [
              0.1111111111111111,
              "#46039f"
             ],
             [
              0.2222222222222222,
              "#7201a8"
             ],
             [
              0.3333333333333333,
              "#9c179e"
             ],
             [
              0.4444444444444444,
              "#bd3786"
             ],
             [
              0.5555555555555556,
              "#d8576b"
             ],
             [
              0.6666666666666666,
              "#ed7953"
             ],
             [
              0.7777777777777778,
              "#fb9f3a"
             ],
             [
              0.8888888888888888,
              "#fdca26"
             ],
             [
              1,
              "#f0f921"
             ]
            ],
            "type": "heatmap"
           }
          ],
          "heatmapgl": [
           {
            "colorbar": {
             "outlinewidth": 0,
             "ticks": ""
            },
            "colorscale": [
             [
              0,
              "#0d0887"
             ],
             [
              0.1111111111111111,
              "#46039f"
             ],
             [
              0.2222222222222222,
              "#7201a8"
             ],
             [
              0.3333333333333333,
              "#9c179e"
             ],
             [
              0.4444444444444444,
              "#bd3786"
             ],
             [
              0.5555555555555556,
              "#d8576b"
             ],
             [
              0.6666666666666666,
              "#ed7953"
             ],
             [
              0.7777777777777778,
              "#fb9f3a"
             ],
             [
              0.8888888888888888,
              "#fdca26"
             ],
             [
              1,
              "#f0f921"
             ]
            ],
            "type": "heatmapgl"
           }
          ],
          "histogram": [
           {
            "marker": {
             "colorbar": {
              "outlinewidth": 0,
              "ticks": ""
             }
            },
            "type": "histogram"
           }
          ],
          "histogram2d": [
           {
            "colorbar": {
             "outlinewidth": 0,
             "ticks": ""
            },
            "colorscale": [
             [
              0,
              "#0d0887"
             ],
             [
              0.1111111111111111,
              "#46039f"
             ],
             [
              0.2222222222222222,
              "#7201a8"
             ],
             [
              0.3333333333333333,
              "#9c179e"
             ],
             [
              0.4444444444444444,
              "#bd3786"
             ],
             [
              0.5555555555555556,
              "#d8576b"
             ],
             [
              0.6666666666666666,
              "#ed7953"
             ],
             [
              0.7777777777777778,
              "#fb9f3a"
             ],
             [
              0.8888888888888888,
              "#fdca26"
             ],
             [
              1,
              "#f0f921"
             ]
            ],
            "type": "histogram2d"
           }
          ],
          "histogram2dcontour": [
           {
            "colorbar": {
             "outlinewidth": 0,
             "ticks": ""
            },
            "colorscale": [
             [
              0,
              "#0d0887"
             ],
             [
              0.1111111111111111,
              "#46039f"
             ],
             [
              0.2222222222222222,
              "#7201a8"
             ],
             [
              0.3333333333333333,
              "#9c179e"
             ],
             [
              0.4444444444444444,
              "#bd3786"
             ],
             [
              0.5555555555555556,
              "#d8576b"
             ],
             [
              0.6666666666666666,
              "#ed7953"
             ],
             [
              0.7777777777777778,
              "#fb9f3a"
             ],
             [
              0.8888888888888888,
              "#fdca26"
             ],
             [
              1,
              "#f0f921"
             ]
            ],
            "type": "histogram2dcontour"
           }
          ],
          "mesh3d": [
           {
            "colorbar": {
             "outlinewidth": 0,
             "ticks": ""
            },
            "type": "mesh3d"
           }
          ],
          "parcoords": [
           {
            "line": {
             "colorbar": {
              "outlinewidth": 0,
              "ticks": ""
             }
            },
            "type": "parcoords"
           }
          ],
          "pie": [
           {
            "automargin": true,
            "type": "pie"
           }
          ],
          "scatter": [
           {
            "marker": {
             "colorbar": {
              "outlinewidth": 0,
              "ticks": ""
             }
            },
            "type": "scatter"
           }
          ],
          "scatter3d": [
           {
            "line": {
             "colorbar": {
              "outlinewidth": 0,
              "ticks": ""
             }
            },
            "marker": {
             "colorbar": {
              "outlinewidth": 0,
              "ticks": ""
             }
            },
            "type": "scatter3d"
           }
          ],
          "scattercarpet": [
           {
            "marker": {
             "colorbar": {
              "outlinewidth": 0,
              "ticks": ""
             }
            },
            "type": "scattercarpet"
           }
          ],
          "scattergeo": [
           {
            "marker": {
             "colorbar": {
              "outlinewidth": 0,
              "ticks": ""
             }
            },
            "type": "scattergeo"
           }
          ],
          "scattergl": [
           {
            "marker": {
             "colorbar": {
              "outlinewidth": 0,
              "ticks": ""
             }
            },
            "type": "scattergl"
           }
          ],
          "scattermapbox": [
           {
            "marker": {
             "colorbar": {
              "outlinewidth": 0,
              "ticks": ""
             }
            },
            "type": "scattermapbox"
           }
          ],
          "scatterpolar": [
           {
            "marker": {
             "colorbar": {
              "outlinewidth": 0,
              "ticks": ""
             }
            },
            "type": "scatterpolar"
           }
          ],
          "scatterpolargl": [
           {
            "marker": {
             "colorbar": {
              "outlinewidth": 0,
              "ticks": ""
             }
            },
            "type": "scatterpolargl"
           }
          ],
          "scatterternary": [
           {
            "marker": {
             "colorbar": {
              "outlinewidth": 0,
              "ticks": ""
             }
            },
            "type": "scatterternary"
           }
          ],
          "surface": [
           {
            "colorbar": {
             "outlinewidth": 0,
             "ticks": ""
            },
            "colorscale": [
             [
              0,
              "#0d0887"
             ],
             [
              0.1111111111111111,
              "#46039f"
             ],
             [
              0.2222222222222222,
              "#7201a8"
             ],
             [
              0.3333333333333333,
              "#9c179e"
             ],
             [
              0.4444444444444444,
              "#bd3786"
             ],
             [
              0.5555555555555556,
              "#d8576b"
             ],
             [
              0.6666666666666666,
              "#ed7953"
             ],
             [
              0.7777777777777778,
              "#fb9f3a"
             ],
             [
              0.8888888888888888,
              "#fdca26"
             ],
             [
              1,
              "#f0f921"
             ]
            ],
            "type": "surface"
           }
          ],
          "table": [
           {
            "cells": {
             "fill": {
              "color": "#EBF0F8"
             },
             "line": {
              "color": "white"
             }
            },
            "header": {
             "fill": {
              "color": "#C8D4E3"
             },
             "line": {
              "color": "white"
             }
            },
            "type": "table"
           }
          ]
         },
         "layout": {
          "annotationdefaults": {
           "arrowcolor": "#2a3f5f",
           "arrowhead": 0,
           "arrowwidth": 1
          },
          "autotypenumbers": "strict",
          "coloraxis": {
           "colorbar": {
            "outlinewidth": 0,
            "ticks": ""
           }
          },
          "colorscale": {
           "diverging": [
            [
             0,
             "#8e0152"
            ],
            [
             0.1,
             "#c51b7d"
            ],
            [
             0.2,
             "#de77ae"
            ],
            [
             0.3,
             "#f1b6da"
            ],
            [
             0.4,
             "#fde0ef"
            ],
            [
             0.5,
             "#f7f7f7"
            ],
            [
             0.6,
             "#e6f5d0"
            ],
            [
             0.7,
             "#b8e186"
            ],
            [
             0.8,
             "#7fbc41"
            ],
            [
             0.9,
             "#4d9221"
            ],
            [
             1,
             "#276419"
            ]
           ],
           "sequential": [
            [
             0,
             "#0d0887"
            ],
            [
             0.1111111111111111,
             "#46039f"
            ],
            [
             0.2222222222222222,
             "#7201a8"
            ],
            [
             0.3333333333333333,
             "#9c179e"
            ],
            [
             0.4444444444444444,
             "#bd3786"
            ],
            [
             0.5555555555555556,
             "#d8576b"
            ],
            [
             0.6666666666666666,
             "#ed7953"
            ],
            [
             0.7777777777777778,
             "#fb9f3a"
            ],
            [
             0.8888888888888888,
             "#fdca26"
            ],
            [
             1,
             "#f0f921"
            ]
           ],
           "sequentialminus": [
            [
             0,
             "#0d0887"
            ],
            [
             0.1111111111111111,
             "#46039f"
            ],
            [
             0.2222222222222222,
             "#7201a8"
            ],
            [
             0.3333333333333333,
             "#9c179e"
            ],
            [
             0.4444444444444444,
             "#bd3786"
            ],
            [
             0.5555555555555556,
             "#d8576b"
            ],
            [
             0.6666666666666666,
             "#ed7953"
            ],
            [
             0.7777777777777778,
             "#fb9f3a"
            ],
            [
             0.8888888888888888,
             "#fdca26"
            ],
            [
             1,
             "#f0f921"
            ]
           ]
          },
          "colorway": [
           "#636efa",
           "#EF553B",
           "#00cc96",
           "#ab63fa",
           "#FFA15A",
           "#19d3f3",
           "#FF6692",
           "#B6E880",
           "#FF97FF",
           "#FECB52"
          ],
          "font": {
           "color": "#2a3f5f"
          },
          "geo": {
           "bgcolor": "white",
           "lakecolor": "white",
           "landcolor": "#E5ECF6",
           "showlakes": true,
           "showland": true,
           "subunitcolor": "white"
          },
          "hoverlabel": {
           "align": "left"
          },
          "hovermode": "closest",
          "mapbox": {
           "style": "light"
          },
          "paper_bgcolor": "white",
          "plot_bgcolor": "#E5ECF6",
          "polar": {
           "angularaxis": {
            "gridcolor": "white",
            "linecolor": "white",
            "ticks": ""
           },
           "bgcolor": "#E5ECF6",
           "radialaxis": {
            "gridcolor": "white",
            "linecolor": "white",
            "ticks": ""
           }
          },
          "scene": {
           "xaxis": {
            "backgroundcolor": "#E5ECF6",
            "gridcolor": "white",
            "gridwidth": 2,
            "linecolor": "white",
            "showbackground": true,
            "ticks": "",
            "zerolinecolor": "white"
           },
           "yaxis": {
            "backgroundcolor": "#E5ECF6",
            "gridcolor": "white",
            "gridwidth": 2,
            "linecolor": "white",
            "showbackground": true,
            "ticks": "",
            "zerolinecolor": "white"
           },
           "zaxis": {
            "backgroundcolor": "#E5ECF6",
            "gridcolor": "white",
            "gridwidth": 2,
            "linecolor": "white",
            "showbackground": true,
            "ticks": "",
            "zerolinecolor": "white"
           }
          },
          "shapedefaults": {
           "line": {
            "color": "#2a3f5f"
           }
          },
          "ternary": {
           "aaxis": {
            "gridcolor": "white",
            "linecolor": "white",
            "ticks": ""
           },
           "baxis": {
            "gridcolor": "white",
            "linecolor": "white",
            "ticks": ""
           },
           "bgcolor": "#E5ECF6",
           "caxis": {
            "gridcolor": "white",
            "linecolor": "white",
            "ticks": ""
           }
          },
          "title": {
           "x": 0.05
          },
          "xaxis": {
           "automargin": true,
           "gridcolor": "white",
           "linecolor": "white",
           "ticks": "",
           "title": {
            "standoff": 15
           },
           "zerolinecolor": "white",
           "zerolinewidth": 2
          },
          "yaxis": {
           "automargin": true,
           "gridcolor": "white",
           "linecolor": "white",
           "ticks": "",
           "title": {
            "standoff": 15
           },
           "zerolinecolor": "white",
           "zerolinewidth": 2
          }
         }
        },
        "title": {
         "text": "sales",
         "x": 0.5
        },
        "xaxis": {
         "anchor": "y",
         "domain": [
          0,
          1
         ],
         "title": {
          "text": "order_purchase_date"
         }
        },
        "yaxis": {
         "anchor": "x",
         "domain": [
          0,
          1
         ],
         "title": {
          "text": "price"
         }
        }
       }
      },
      "text/html": [
       "<div>                            <div id=\"b4bdc0eb-d457-4d28-a45b-8a1a11856cc5\" class=\"plotly-graph-div\" style=\"height:525px; width:100%;\"></div>            <script type=\"text/javascript\">                require([\"plotly\"], function(Plotly) {                    window.PLOTLYENV=window.PLOTLYENV || {};                                    if (document.getElementById(\"b4bdc0eb-d457-4d28-a45b-8a1a11856cc5\")) {                    Plotly.newPlot(                        \"b4bdc0eb-d457-4d28-a45b-8a1a11856cc5\",                        [{\"hovertemplate\": \"order_purchase_date=%{x}<br>price=%{y}<extra></extra>\", \"legendgroup\": \"\", \"line\": {\"color\": \"#636efa\", \"dash\": \"solid\"}, \"mode\": \"lines\", \"name\": \"\", \"orientation\": \"v\", \"showlegend\": false, \"type\": \"scatter\", \"x\": [\"2016-09-04T00:00:00\", \"2016-09-05T00:00:00\", \"2016-09-15T00:00:00\", \"2016-10-02T00:00:00\", \"2016-10-03T00:00:00\", \"2016-10-04T00:00:00\", \"2016-10-05T00:00:00\", \"2016-10-06T00:00:00\", \"2016-10-07T00:00:00\", \"2016-10-08T00:00:00\", \"2016-10-09T00:00:00\", \"2016-10-10T00:00:00\", \"2016-12-23T00:00:00\", \"2017-01-05T00:00:00\", \"2017-01-06T00:00:00\", \"2017-01-07T00:00:00\", \"2017-01-08T00:00:00\", \"2017-01-09T00:00:00\", \"2017-01-10T00:00:00\", \"2017-01-11T00:00:00\", \"2017-01-12T00:00:00\", \"2017-01-13T00:00:00\", \"2017-01-14T00:00:00\", \"2017-01-15T00:00:00\", \"2017-01-16T00:00:00\", \"2017-01-17T00:00:00\", \"2017-01-18T00:00:00\", \"2017-01-19T00:00:00\", \"2017-01-20T00:00:00\", \"2017-01-21T00:00:00\", \"2017-01-22T00:00:00\", \"2017-01-23T00:00:00\", \"2017-01-24T00:00:00\", \"2017-01-25T00:00:00\", \"2017-01-26T00:00:00\", \"2017-01-27T00:00:00\", \"2017-01-28T00:00:00\", \"2017-01-29T00:00:00\", \"2017-01-30T00:00:00\", \"2017-01-31T00:00:00\", \"2017-02-01T00:00:00\", \"2017-02-02T00:00:00\", \"2017-02-03T00:00:00\", \"2017-02-04T00:00:00\", \"2017-02-05T00:00:00\", \"2017-02-06T00:00:00\", \"2017-02-07T00:00:00\", \"2017-02-08T00:00:00\", \"2017-02-09T00:00:00\", \"2017-02-10T00:00:00\", \"2017-02-11T00:00:00\", \"2017-02-12T00:00:00\", \"2017-02-13T00:00:00\", \"2017-02-14T00:00:00\", \"2017-02-15T00:00:00\", \"2017-02-16T00:00:00\", \"2017-02-17T00:00:00\", \"2017-02-18T00:00:00\", \"2017-02-19T00:00:00\", \"2017-02-20T00:00:00\", \"2017-02-21T00:00:00\", \"2017-02-22T00:00:00\", \"2017-02-23T00:00:00\", \"2017-02-24T00:00:00\", \"2017-02-25T00:00:00\", \"2017-02-26T00:00:00\", \"2017-02-27T00:00:00\", \"2017-02-28T00:00:00\", \"2017-03-01T00:00:00\", \"2017-03-02T00:00:00\", \"2017-03-03T00:00:00\", \"2017-03-04T00:00:00\", \"2017-03-05T00:00:00\", \"2017-03-06T00:00:00\", \"2017-03-07T00:00:00\", \"2017-03-08T00:00:00\", \"2017-03-09T00:00:00\", \"2017-03-10T00:00:00\", \"2017-03-11T00:00:00\", \"2017-03-12T00:00:00\", \"2017-03-13T00:00:00\", \"2017-03-14T00:00:00\", \"2017-03-15T00:00:00\", \"2017-03-16T00:00:00\", \"2017-03-17T00:00:00\", \"2017-03-18T00:00:00\", \"2017-03-19T00:00:00\", \"2017-03-20T00:00:00\", \"2017-03-21T00:00:00\", \"2017-03-22T00:00:00\", \"2017-03-23T00:00:00\", \"2017-03-24T00:00:00\", \"2017-03-25T00:00:00\", \"2017-03-26T00:00:00\", \"2017-03-27T00:00:00\", \"2017-03-28T00:00:00\", \"2017-03-29T00:00:00\", \"2017-03-30T00:00:00\", \"2017-03-31T00:00:00\", \"2017-04-01T00:00:00\", \"2017-04-02T00:00:00\", \"2017-04-03T00:00:00\", \"2017-04-04T00:00:00\", \"2017-04-05T00:00:00\", \"2017-04-06T00:00:00\", \"2017-04-07T00:00:00\", \"2017-04-08T00:00:00\", \"2017-04-09T00:00:00\", \"2017-04-10T00:00:00\", \"2017-04-11T00:00:00\", \"2017-04-12T00:00:00\", \"2017-04-13T00:00:00\", \"2017-04-14T00:00:00\", \"2017-04-15T00:00:00\", \"2017-04-16T00:00:00\", \"2017-04-17T00:00:00\", \"2017-04-18T00:00:00\", \"2017-04-19T00:00:00\", \"2017-04-20T00:00:00\", \"2017-04-21T00:00:00\", \"2017-04-22T00:00:00\", \"2017-04-23T00:00:00\", \"2017-04-24T00:00:00\", \"2017-04-25T00:00:00\", \"2017-04-26T00:00:00\", \"2017-04-27T00:00:00\", \"2017-04-28T00:00:00\", \"2017-04-29T00:00:00\", \"2017-04-30T00:00:00\", \"2017-05-01T00:00:00\", \"2017-05-02T00:00:00\", \"2017-05-03T00:00:00\", \"2017-05-04T00:00:00\", \"2017-05-05T00:00:00\", \"2017-05-06T00:00:00\", \"2017-05-07T00:00:00\", \"2017-05-08T00:00:00\", \"2017-05-09T00:00:00\", \"2017-05-10T00:00:00\", \"2017-05-11T00:00:00\", \"2017-05-12T00:00:00\", \"2017-05-13T00:00:00\", \"2017-05-14T00:00:00\", \"2017-05-15T00:00:00\", \"2017-05-16T00:00:00\", \"2017-05-17T00:00:00\", \"2017-05-18T00:00:00\", \"2017-05-19T00:00:00\", \"2017-05-20T00:00:00\", \"2017-05-21T00:00:00\", \"2017-05-22T00:00:00\", \"2017-05-23T00:00:00\", \"2017-05-24T00:00:00\", \"2017-05-25T00:00:00\", \"2017-05-26T00:00:00\", \"2017-05-27T00:00:00\", \"2017-05-28T00:00:00\", \"2017-05-29T00:00:00\", \"2017-05-30T00:00:00\", \"2017-05-31T00:00:00\", \"2017-06-01T00:00:00\", \"2017-06-02T00:00:00\", \"2017-06-03T00:00:00\", \"2017-06-04T00:00:00\", \"2017-06-05T00:00:00\", \"2017-06-06T00:00:00\", \"2017-06-07T00:00:00\", \"2017-06-08T00:00:00\", \"2017-06-09T00:00:00\", \"2017-06-10T00:00:00\", \"2017-06-11T00:00:00\", \"2017-06-12T00:00:00\", \"2017-06-13T00:00:00\", \"2017-06-14T00:00:00\", \"2017-06-15T00:00:00\", \"2017-06-16T00:00:00\", \"2017-06-17T00:00:00\", \"2017-06-18T00:00:00\", \"2017-06-19T00:00:00\", \"2017-06-20T00:00:00\", \"2017-06-21T00:00:00\", \"2017-06-22T00:00:00\", \"2017-06-23T00:00:00\", \"2017-06-24T00:00:00\", \"2017-06-25T00:00:00\", \"2017-06-26T00:00:00\", \"2017-06-27T00:00:00\", \"2017-06-28T00:00:00\", \"2017-06-29T00:00:00\", \"2017-06-30T00:00:00\", \"2017-07-01T00:00:00\", \"2017-07-02T00:00:00\", \"2017-07-03T00:00:00\", \"2017-07-04T00:00:00\", \"2017-07-05T00:00:00\", \"2017-07-06T00:00:00\", \"2017-07-07T00:00:00\", \"2017-07-08T00:00:00\", \"2017-07-09T00:00:00\", \"2017-07-10T00:00:00\", \"2017-07-11T00:00:00\", \"2017-07-12T00:00:00\", \"2017-07-13T00:00:00\", \"2017-07-14T00:00:00\", \"2017-07-15T00:00:00\", \"2017-07-16T00:00:00\", \"2017-07-17T00:00:00\", \"2017-07-18T00:00:00\", \"2017-07-19T00:00:00\", \"2017-07-20T00:00:00\", \"2017-07-21T00:00:00\", \"2017-07-22T00:00:00\", \"2017-07-23T00:00:00\", \"2017-07-24T00:00:00\", \"2017-07-25T00:00:00\", \"2017-07-26T00:00:00\", \"2017-07-27T00:00:00\", \"2017-07-28T00:00:00\", \"2017-07-29T00:00:00\", \"2017-07-30T00:00:00\", \"2017-07-31T00:00:00\", \"2017-08-01T00:00:00\", \"2017-08-02T00:00:00\", \"2017-08-03T00:00:00\", \"2017-08-04T00:00:00\", \"2017-08-05T00:00:00\", \"2017-08-06T00:00:00\", \"2017-08-07T00:00:00\", \"2017-08-08T00:00:00\", \"2017-08-09T00:00:00\", \"2017-08-10T00:00:00\", \"2017-08-11T00:00:00\", \"2017-08-12T00:00:00\", \"2017-08-13T00:00:00\", \"2017-08-14T00:00:00\", \"2017-08-15T00:00:00\", \"2017-08-16T00:00:00\", \"2017-08-17T00:00:00\", \"2017-08-18T00:00:00\", \"2017-08-19T00:00:00\", \"2017-08-20T00:00:00\", \"2017-08-21T00:00:00\", \"2017-08-22T00:00:00\", \"2017-08-23T00:00:00\", \"2017-08-24T00:00:00\", \"2017-08-25T00:00:00\", \"2017-08-26T00:00:00\", \"2017-08-27T00:00:00\", \"2017-08-28T00:00:00\", \"2017-08-29T00:00:00\", \"2017-08-30T00:00:00\", \"2017-08-31T00:00:00\", \"2017-09-01T00:00:00\", \"2017-09-02T00:00:00\", \"2017-09-03T00:00:00\", \"2017-09-04T00:00:00\", \"2017-09-05T00:00:00\", \"2017-09-06T00:00:00\", \"2017-09-07T00:00:00\", \"2017-09-08T00:00:00\", \"2017-09-09T00:00:00\", \"2017-09-10T00:00:00\", \"2017-09-11T00:00:00\", \"2017-09-12T00:00:00\", \"2017-09-13T00:00:00\", \"2017-09-14T00:00:00\", \"2017-09-15T00:00:00\", \"2017-09-16T00:00:00\", \"2017-09-17T00:00:00\", \"2017-09-18T00:00:00\", \"2017-09-19T00:00:00\", \"2017-09-20T00:00:00\", \"2017-09-21T00:00:00\", \"2017-09-22T00:00:00\", \"2017-09-23T00:00:00\", \"2017-09-24T00:00:00\", \"2017-09-25T00:00:00\", \"2017-09-26T00:00:00\", \"2017-09-27T00:00:00\", \"2017-09-28T00:00:00\", \"2017-09-29T00:00:00\", \"2017-09-30T00:00:00\", \"2017-10-01T00:00:00\", \"2017-10-02T00:00:00\", \"2017-10-03T00:00:00\", \"2017-10-04T00:00:00\", \"2017-10-05T00:00:00\", \"2017-10-06T00:00:00\", \"2017-10-07T00:00:00\", \"2017-10-08T00:00:00\", \"2017-10-09T00:00:00\", \"2017-10-10T00:00:00\", \"2017-10-11T00:00:00\", \"2017-10-12T00:00:00\", \"2017-10-13T00:00:00\", \"2017-10-14T00:00:00\", \"2017-10-15T00:00:00\", \"2017-10-16T00:00:00\", \"2017-10-17T00:00:00\", \"2017-10-18T00:00:00\", \"2017-10-19T00:00:00\", \"2017-10-20T00:00:00\", \"2017-10-21T00:00:00\", \"2017-10-22T00:00:00\", \"2017-10-23T00:00:00\", \"2017-10-24T00:00:00\", \"2017-10-25T00:00:00\", \"2017-10-26T00:00:00\", \"2017-10-27T00:00:00\", \"2017-10-28T00:00:00\", \"2017-10-29T00:00:00\", \"2017-10-30T00:00:00\", \"2017-10-31T00:00:00\", \"2017-11-01T00:00:00\", \"2017-11-02T00:00:00\", \"2017-11-03T00:00:00\", \"2017-11-04T00:00:00\", \"2017-11-05T00:00:00\", \"2017-11-06T00:00:00\", \"2017-11-07T00:00:00\", \"2017-11-08T00:00:00\", \"2017-11-09T00:00:00\", \"2017-11-10T00:00:00\", \"2017-11-11T00:00:00\", \"2017-11-12T00:00:00\", \"2017-11-13T00:00:00\", \"2017-11-14T00:00:00\", \"2017-11-15T00:00:00\", \"2017-11-16T00:00:00\", \"2017-11-17T00:00:00\", \"2017-11-18T00:00:00\", \"2017-11-19T00:00:00\", \"2017-11-20T00:00:00\", \"2017-11-21T00:00:00\", \"2017-11-22T00:00:00\", \"2017-11-23T00:00:00\", \"2017-11-24T00:00:00\", \"2017-11-25T00:00:00\", \"2017-11-26T00:00:00\", \"2017-11-27T00:00:00\", \"2017-11-28T00:00:00\", \"2017-11-29T00:00:00\", \"2017-11-30T00:00:00\", \"2017-12-01T00:00:00\", \"2017-12-02T00:00:00\", \"2017-12-03T00:00:00\", \"2017-12-04T00:00:00\", \"2017-12-05T00:00:00\", \"2017-12-06T00:00:00\", \"2017-12-07T00:00:00\", \"2017-12-08T00:00:00\", \"2017-12-09T00:00:00\", \"2017-12-10T00:00:00\", \"2017-12-11T00:00:00\", \"2017-12-12T00:00:00\", \"2017-12-13T00:00:00\", \"2017-12-14T00:00:00\", \"2017-12-15T00:00:00\", \"2017-12-16T00:00:00\", \"2017-12-17T00:00:00\", \"2017-12-18T00:00:00\", \"2017-12-19T00:00:00\", \"2017-12-20T00:00:00\", \"2017-12-21T00:00:00\", \"2017-12-22T00:00:00\", \"2017-12-23T00:00:00\", \"2017-12-24T00:00:00\", \"2017-12-25T00:00:00\", \"2017-12-26T00:00:00\", \"2017-12-27T00:00:00\", \"2017-12-28T00:00:00\", \"2017-12-29T00:00:00\", \"2017-12-30T00:00:00\", \"2017-12-31T00:00:00\", \"2018-01-01T00:00:00\", \"2018-01-02T00:00:00\", \"2018-01-03T00:00:00\", \"2018-01-04T00:00:00\", \"2018-01-05T00:00:00\", \"2018-01-06T00:00:00\", \"2018-01-07T00:00:00\", \"2018-01-08T00:00:00\", \"2018-01-09T00:00:00\", \"2018-01-10T00:00:00\", \"2018-01-11T00:00:00\", \"2018-01-12T00:00:00\", \"2018-01-13T00:00:00\", \"2018-01-14T00:00:00\", \"2018-01-15T00:00:00\", \"2018-01-16T00:00:00\", \"2018-01-17T00:00:00\", \"2018-01-18T00:00:00\", \"2018-01-19T00:00:00\", \"2018-01-20T00:00:00\", \"2018-01-21T00:00:00\", \"2018-01-22T00:00:00\", \"2018-01-23T00:00:00\", \"2018-01-24T00:00:00\", \"2018-01-25T00:00:00\", \"2018-01-26T00:00:00\", \"2018-01-27T00:00:00\", \"2018-01-28T00:00:00\", \"2018-01-29T00:00:00\", \"2018-01-30T00:00:00\", \"2018-01-31T00:00:00\", \"2018-02-01T00:00:00\", \"2018-02-02T00:00:00\", \"2018-02-03T00:00:00\", \"2018-02-04T00:00:00\", \"2018-02-05T00:00:00\", \"2018-02-06T00:00:00\", \"2018-02-07T00:00:00\", \"2018-02-08T00:00:00\", \"2018-02-09T00:00:00\", \"2018-02-10T00:00:00\", \"2018-02-11T00:00:00\", \"2018-02-12T00:00:00\", \"2018-02-13T00:00:00\", \"2018-02-14T00:00:00\", \"2018-02-15T00:00:00\", \"2018-02-16T00:00:00\", \"2018-02-17T00:00:00\", \"2018-02-18T00:00:00\", \"2018-02-19T00:00:00\", \"2018-02-20T00:00:00\", \"2018-02-21T00:00:00\", \"2018-02-22T00:00:00\", \"2018-02-23T00:00:00\", \"2018-02-24T00:00:00\", \"2018-02-25T00:00:00\", \"2018-02-26T00:00:00\", \"2018-02-27T00:00:00\", \"2018-02-28T00:00:00\", \"2018-03-01T00:00:00\", \"2018-03-02T00:00:00\", \"2018-03-03T00:00:00\", \"2018-03-04T00:00:00\", \"2018-03-05T00:00:00\", \"2018-03-06T00:00:00\", \"2018-03-07T00:00:00\", \"2018-03-08T00:00:00\", \"2018-03-09T00:00:00\", \"2018-03-10T00:00:00\", \"2018-03-11T00:00:00\", \"2018-03-12T00:00:00\", \"2018-03-13T00:00:00\", \"2018-03-14T00:00:00\", \"2018-03-15T00:00:00\", \"2018-03-16T00:00:00\", \"2018-03-17T00:00:00\", \"2018-03-18T00:00:00\", \"2018-03-19T00:00:00\", \"2018-03-20T00:00:00\", \"2018-03-21T00:00:00\", \"2018-03-22T00:00:00\", \"2018-03-23T00:00:00\", \"2018-03-24T00:00:00\", \"2018-03-25T00:00:00\", \"2018-03-26T00:00:00\", \"2018-03-27T00:00:00\", \"2018-03-28T00:00:00\", \"2018-03-29T00:00:00\", \"2018-03-30T00:00:00\", \"2018-03-31T00:00:00\", \"2018-04-01T00:00:00\", \"2018-04-02T00:00:00\", \"2018-04-03T00:00:00\", \"2018-04-04T00:00:00\", \"2018-04-05T00:00:00\", \"2018-04-06T00:00:00\", \"2018-04-07T00:00:00\", \"2018-04-08T00:00:00\", \"2018-04-09T00:00:00\", \"2018-04-10T00:00:00\", \"2018-04-11T00:00:00\", \"2018-04-12T00:00:00\", \"2018-04-13T00:00:00\", \"2018-04-14T00:00:00\", \"2018-04-15T00:00:00\", \"2018-04-16T00:00:00\", \"2018-04-17T00:00:00\", \"2018-04-18T00:00:00\", \"2018-04-19T00:00:00\", \"2018-04-20T00:00:00\", \"2018-04-21T00:00:00\", \"2018-04-22T00:00:00\", \"2018-04-23T00:00:00\", \"2018-04-24T00:00:00\", \"2018-04-25T00:00:00\", \"2018-04-26T00:00:00\", \"2018-04-27T00:00:00\", \"2018-04-28T00:00:00\", \"2018-04-29T00:00:00\", \"2018-04-30T00:00:00\", \"2018-05-01T00:00:00\", \"2018-05-02T00:00:00\", \"2018-05-03T00:00:00\", \"2018-05-04T00:00:00\", \"2018-05-05T00:00:00\", \"2018-05-06T00:00:00\", \"2018-05-07T00:00:00\", \"2018-05-08T00:00:00\", \"2018-05-09T00:00:00\", \"2018-05-10T00:00:00\", \"2018-05-11T00:00:00\", \"2018-05-12T00:00:00\", \"2018-05-13T00:00:00\", \"2018-05-14T00:00:00\", \"2018-05-15T00:00:00\", \"2018-05-16T00:00:00\", \"2018-05-17T00:00:00\", \"2018-05-18T00:00:00\", \"2018-05-19T00:00:00\", \"2018-05-20T00:00:00\", \"2018-05-21T00:00:00\", \"2018-05-22T00:00:00\", \"2018-05-23T00:00:00\", \"2018-05-24T00:00:00\", \"2018-05-25T00:00:00\", \"2018-05-26T00:00:00\", \"2018-05-27T00:00:00\", \"2018-05-28T00:00:00\", \"2018-05-29T00:00:00\", \"2018-05-30T00:00:00\", \"2018-05-31T00:00:00\", \"2018-06-01T00:00:00\", \"2018-06-02T00:00:00\", \"2018-06-03T00:00:00\", \"2018-06-04T00:00:00\", \"2018-06-05T00:00:00\", \"2018-06-06T00:00:00\", \"2018-06-07T00:00:00\", \"2018-06-08T00:00:00\", \"2018-06-09T00:00:00\", \"2018-06-10T00:00:00\", \"2018-06-11T00:00:00\", \"2018-06-12T00:00:00\", \"2018-06-13T00:00:00\", \"2018-06-14T00:00:00\", \"2018-06-15T00:00:00\", \"2018-06-16T00:00:00\", \"2018-06-17T00:00:00\", \"2018-06-18T00:00:00\", \"2018-06-19T00:00:00\", \"2018-06-20T00:00:00\", \"2018-06-21T00:00:00\", \"2018-06-22T00:00:00\", \"2018-06-23T00:00:00\", \"2018-06-24T00:00:00\", \"2018-06-25T00:00:00\", \"2018-06-26T00:00:00\", \"2018-06-27T00:00:00\", \"2018-06-28T00:00:00\", \"2018-06-29T00:00:00\", \"2018-06-30T00:00:00\", \"2018-07-01T00:00:00\", \"2018-07-02T00:00:00\", \"2018-07-03T00:00:00\", \"2018-07-04T00:00:00\", \"2018-07-05T00:00:00\", \"2018-07-06T00:00:00\", \"2018-07-07T00:00:00\", \"2018-07-08T00:00:00\", \"2018-07-09T00:00:00\", \"2018-07-10T00:00:00\", \"2018-07-11T00:00:00\", \"2018-07-12T00:00:00\", \"2018-07-13T00:00:00\", \"2018-07-14T00:00:00\", \"2018-07-15T00:00:00\", \"2018-07-16T00:00:00\", \"2018-07-17T00:00:00\", \"2018-07-18T00:00:00\", \"2018-07-19T00:00:00\", \"2018-07-20T00:00:00\", \"2018-07-21T00:00:00\", \"2018-07-22T00:00:00\", \"2018-07-23T00:00:00\", \"2018-07-24T00:00:00\", \"2018-07-25T00:00:00\", \"2018-07-26T00:00:00\", \"2018-07-27T00:00:00\", \"2018-07-28T00:00:00\", \"2018-07-29T00:00:00\", \"2018-07-30T00:00:00\", \"2018-07-31T00:00:00\", \"2018-08-01T00:00:00\", \"2018-08-02T00:00:00\", \"2018-08-03T00:00:00\", \"2018-08-04T00:00:00\", \"2018-08-05T00:00:00\", \"2018-08-06T00:00:00\", \"2018-08-07T00:00:00\", \"2018-08-08T00:00:00\", \"2018-08-09T00:00:00\", \"2018-08-10T00:00:00\", \"2018-08-11T00:00:00\", \"2018-08-12T00:00:00\", \"2018-08-13T00:00:00\", \"2018-08-14T00:00:00\", \"2018-08-15T00:00:00\", \"2018-08-16T00:00:00\", \"2018-08-17T00:00:00\", \"2018-08-18T00:00:00\", \"2018-08-19T00:00:00\", \"2018-08-20T00:00:00\", \"2018-08-21T00:00:00\", \"2018-08-22T00:00:00\", \"2018-08-23T00:00:00\", \"2018-08-24T00:00:00\", \"2018-08-25T00:00:00\", \"2018-08-26T00:00:00\", \"2018-08-27T00:00:00\", \"2018-08-28T00:00:00\", \"2018-08-29T00:00:00\", \"2018-09-03T00:00:00\"], \"xaxis\": \"x\", \"y\": [71, 59, 132, 100, 457, 9887, 8300, 7916, 7191, 8408, 3314, 3665, 10, 369, 914, 1351, 704, 670, 1432, 2769, 2223, 2500, 1099, 2184, 3293, 3279, 4009, 3533, 4007, 2429, 3599, 6538, 5924, 8931, 13095, 11378, 5193, 6426, 10758, 11052, 8179, 8865, 10137, 13916, 8447, 9474, 14060, 11896, 9139, 14171, 4269, 15086, 10730, 12642, 6729, 6310, 6763, 7246, 3766, 7835, 8254, 7987, 6887, 6632, 4163, 5414, 5806, 11173, 12482, 11327, 12318, 12612, 6908, 10254, 11825, 14553, 11630, 12288, 10797, 6561, 16879, 14164, 14920, 14189, 11916, 16384, 6611, 17004, 11277, 14102, 16281, 10113, 9369, 6278, 16283, 12300, 8601, 9970, 12153, 17651, 9081, 9092, 12227, 18834, 23093, 13238, 8744, 8172, 11665, 8245, 8164, 9649, 8127, 8293, 5426, 9364, 21230, 12024, 13306, 8400, 12799, 9981, 15071, 14588, 15817, 10235, 15719, 11859, 8045, 12485, 17553, 9984, 13431, 13886, 16140, 17091, 16050, 20720, 20845, 18079, 12554, 9068, 15134, 17852, 21067, 18236, 18158, 18290, 10574, 17316, 25304, 17695, 23249, 15303, 10588, 14084, 9184, 18784, 14265, 20342, 19216, 19038, 10377, 13789, 24072, 14472, 12685, 18404, 15973, 8162, 14223, 14700, 13926, 20335, 12651, 12840, 11206, 17760, 22652, 10893, 6157, 8751, 13206, 8266, 17568, 13359, 16585, 14570, 12094, 12672, 12098, 11414, 16526, 15401, 20693, 22126, 13570, 10148, 8125, 17216, 20104, 19064, 14419, 18637, 10854, 13329, 21419, 28085, 16428, 19059, 13366, 11390, 12047, 19545, 17382, 11161, 15607, 19944, 15877, 12851, 17152, 21628, 18026, 19023, 18260, 11862, 14099, 23147, 18563, 20652, 19846, 19933, 13911, 12258, 18048, 23586, 23802, 18253, 17032, 12821, 12803, 22075, 16521, 15779, 13264, 15087, 10079, 13276, 22141, 33670, 30816, 20563, 28359, 18052, 27705, 24838, 20866, 25534, 16822, 11802, 15017, 17724, 23257, 26983, 27447, 22428, 18268, 21063, 19889, 28348, 19942, 21982, 18903, 16159, 10448, 12980, 17896, 21551, 20534, 23161, 30804, 12612, 18737, 21651, 25986, 21090, 25403, 16983, 15300, 16455, 30191, 28019, 22557, 18654, 22775, 13439, 18671, 30431, 29518, 27127, 23097, 18548, 14896, 19679, 22159, 21950, 17418, 22464, 20290, 16419, 17161, 20126, 23690, 19309, 21179, 22748, 19077, 17218, 28463, 20723, 19109, 24917, 20112, 23177, 22977, 24240, 26913, 23585, 28113, 29084, 23126, 19852, 44136, 34160, 24816, 44513, 151824, 60585, 45040, 47625, 47616, 39609, 31135, 39789, 31066, 29104, 47122, 33416, 39013, 27905, 29702, 19916, 24568, 33809, 33290, 29451, 25164, 27273, 20210, 19229, 29036, 20496, 27847, 18483, 14863, 12797, 5719, 10321, 20436, 17586, 14938, 15954, 12980, 8636, 6900, 25170, 31735, 34676, 27582, 27451, 29306, 38497, 30092, 38275, 39884, 30822, 27948, 30816, 38114, 44034, 35922, 27610, 29808, 22263, 23700, 36909, 34578, 31531, 29471, 33841, 21932, 24006, 30305, 29406, 32549, 30188, 27582, 23326, 23855, 37175, 33940, 31128, 27157, 30607, 21123, 22380, 23147, 23467, 36866, 32088, 26757, 24832, 24447, 28019, 36389, 32233, 32516, 28267, 24139, 29048, 43550, 40048, 45299, 39463, 31591, 26265, 32288, 38145, 39002, 35966, 27993, 28270, 26082, 31177, 30495, 35931, 23398, 44128, 32667, 19964, 30974, 44449, 35553, 39542, 30931, 29479, 23690, 25421, 35616, 34569, 29585, 28799, 21980, 25099, 29257, 40077, 36085, 37824, 35906, 27669, 25414, 23358, 49157, 27745, 40608, 33942, 31030, 18752, 30361, 40234, 36487, 39296, 43077, 28221, 18875, 27213, 37474, 42906, 40809, 31483, 40592, 23462, 19304, 35519, 33001, 38363, 42309, 39566, 28197, 28423, 53939, 47601, 43354, 51281, 37715, 29477, 31174, 53622, 40889, 56058, 31338, 31457, 25099, 19485, 25265, 27652, 17415, 20009, 15816, 14728, 12452, 26788, 25472, 19125, 25035, 32196, 25178, 28345, 28467, 30575, 25970, 36872, 26751, 29228, 25370, 49482, 40227, 34448, 27366, 26501, 24521, 17221, 34577, 34489, 28648, 27560, 24695, 17405, 24310, 35988, 30788, 26363, 32017, 20355, 15309, 24280, 23042, 26172, 35496, 28692, 18938, 9013, 14325, 19477, 18635, 18438, 28819, 27536, 22156, 29932, 31149, 30285, 41004, 38555, 31870, 20987, 27621, 39727, 41355, 40236, 35159, 28256, 25101, 31318, 38905, 45110, 40371, 38269, 41881, 35375, 35402, 56194, 48945, 43152, 39852, 33288, 25850, 31406, 38434, 44003, 45409, 35459, 31578, 24230, 25354, 34336, 26188, 20190, 16944, 9577, 10556, 8023, 5304, 3645, 1537, 145], \"yaxis\": \"y\"}],                        {\"legend\": {\"tracegroupgap\": 0}, \"margin\": {\"t\": 60}, \"template\": {\"data\": {\"bar\": [{\"error_x\": {\"color\": \"#2a3f5f\"}, \"error_y\": {\"color\": \"#2a3f5f\"}, \"marker\": {\"line\": {\"color\": \"#E5ECF6\", \"width\": 0.5}}, \"type\": \"bar\"}], \"barpolar\": [{\"marker\": {\"line\": {\"color\": \"#E5ECF6\", \"width\": 0.5}}, \"type\": \"barpolar\"}], \"carpet\": [{\"aaxis\": {\"endlinecolor\": \"#2a3f5f\", \"gridcolor\": \"white\", \"linecolor\": \"white\", \"minorgridcolor\": \"white\", \"startlinecolor\": \"#2a3f5f\"}, \"baxis\": {\"endlinecolor\": \"#2a3f5f\", \"gridcolor\": \"white\", \"linecolor\": \"white\", \"minorgridcolor\": \"white\", \"startlinecolor\": \"#2a3f5f\"}, \"type\": \"carpet\"}], \"choropleth\": [{\"colorbar\": {\"outlinewidth\": 0, \"ticks\": \"\"}, \"type\": \"choropleth\"}], \"contour\": [{\"colorbar\": {\"outlinewidth\": 0, \"ticks\": \"\"}, \"colorscale\": [[0.0, \"#0d0887\"], [0.1111111111111111, \"#46039f\"], [0.2222222222222222, \"#7201a8\"], [0.3333333333333333, \"#9c179e\"], [0.4444444444444444, \"#bd3786\"], [0.5555555555555556, \"#d8576b\"], [0.6666666666666666, \"#ed7953\"], [0.7777777777777778, \"#fb9f3a\"], [0.8888888888888888, \"#fdca26\"], [1.0, \"#f0f921\"]], \"type\": \"contour\"}], \"contourcarpet\": [{\"colorbar\": {\"outlinewidth\": 0, \"ticks\": \"\"}, \"type\": \"contourcarpet\"}], \"heatmap\": [{\"colorbar\": {\"outlinewidth\": 0, \"ticks\": \"\"}, \"colorscale\": [[0.0, \"#0d0887\"], [0.1111111111111111, \"#46039f\"], [0.2222222222222222, \"#7201a8\"], [0.3333333333333333, \"#9c179e\"], [0.4444444444444444, \"#bd3786\"], [0.5555555555555556, \"#d8576b\"], [0.6666666666666666, \"#ed7953\"], [0.7777777777777778, \"#fb9f3a\"], [0.8888888888888888, \"#fdca26\"], [1.0, \"#f0f921\"]], \"type\": \"heatmap\"}], \"heatmapgl\": [{\"colorbar\": {\"outlinewidth\": 0, \"ticks\": \"\"}, \"colorscale\": [[0.0, \"#0d0887\"], [0.1111111111111111, \"#46039f\"], [0.2222222222222222, \"#7201a8\"], [0.3333333333333333, \"#9c179e\"], [0.4444444444444444, \"#bd3786\"], [0.5555555555555556, \"#d8576b\"], [0.6666666666666666, \"#ed7953\"], [0.7777777777777778, \"#fb9f3a\"], [0.8888888888888888, \"#fdca26\"], [1.0, \"#f0f921\"]], \"type\": \"heatmapgl\"}], \"histogram\": [{\"marker\": {\"colorbar\": {\"outlinewidth\": 0, \"ticks\": \"\"}}, \"type\": \"histogram\"}], \"histogram2d\": [{\"colorbar\": {\"outlinewidth\": 0, \"ticks\": \"\"}, \"colorscale\": [[0.0, \"#0d0887\"], [0.1111111111111111, \"#46039f\"], [0.2222222222222222, \"#7201a8\"], [0.3333333333333333, \"#9c179e\"], [0.4444444444444444, \"#bd3786\"], [0.5555555555555556, \"#d8576b\"], [0.6666666666666666, \"#ed7953\"], [0.7777777777777778, \"#fb9f3a\"], [0.8888888888888888, \"#fdca26\"], [1.0, \"#f0f921\"]], \"type\": \"histogram2d\"}], \"histogram2dcontour\": [{\"colorbar\": {\"outlinewidth\": 0, \"ticks\": \"\"}, \"colorscale\": [[0.0, \"#0d0887\"], [0.1111111111111111, \"#46039f\"], [0.2222222222222222, \"#7201a8\"], [0.3333333333333333, \"#9c179e\"], [0.4444444444444444, \"#bd3786\"], [0.5555555555555556, \"#d8576b\"], [0.6666666666666666, \"#ed7953\"], [0.7777777777777778, \"#fb9f3a\"], [0.8888888888888888, \"#fdca26\"], [1.0, \"#f0f921\"]], \"type\": \"histogram2dcontour\"}], \"mesh3d\": [{\"colorbar\": {\"outlinewidth\": 0, \"ticks\": \"\"}, \"type\": \"mesh3d\"}], \"parcoords\": [{\"line\": {\"colorbar\": {\"outlinewidth\": 0, \"ticks\": \"\"}}, \"type\": \"parcoords\"}], \"pie\": [{\"automargin\": true, \"type\": \"pie\"}], \"scatter\": [{\"marker\": {\"colorbar\": {\"outlinewidth\": 0, \"ticks\": \"\"}}, \"type\": \"scatter\"}], \"scatter3d\": [{\"line\": {\"colorbar\": {\"outlinewidth\": 0, \"ticks\": \"\"}}, \"marker\": {\"colorbar\": {\"outlinewidth\": 0, \"ticks\": \"\"}}, \"type\": \"scatter3d\"}], \"scattercarpet\": [{\"marker\": {\"colorbar\": {\"outlinewidth\": 0, \"ticks\": \"\"}}, \"type\": \"scattercarpet\"}], \"scattergeo\": [{\"marker\": {\"colorbar\": {\"outlinewidth\": 0, \"ticks\": \"\"}}, \"type\": \"scattergeo\"}], \"scattergl\": [{\"marker\": {\"colorbar\": {\"outlinewidth\": 0, \"ticks\": \"\"}}, \"type\": \"scattergl\"}], \"scattermapbox\": [{\"marker\": {\"colorbar\": {\"outlinewidth\": 0, \"ticks\": \"\"}}, \"type\": \"scattermapbox\"}], \"scatterpolar\": [{\"marker\": {\"colorbar\": {\"outlinewidth\": 0, \"ticks\": \"\"}}, \"type\": \"scatterpolar\"}], \"scatterpolargl\": [{\"marker\": {\"colorbar\": {\"outlinewidth\": 0, \"ticks\": \"\"}}, \"type\": \"scatterpolargl\"}], \"scatterternary\": [{\"marker\": {\"colorbar\": {\"outlinewidth\": 0, \"ticks\": \"\"}}, \"type\": \"scatterternary\"}], \"surface\": [{\"colorbar\": {\"outlinewidth\": 0, \"ticks\": \"\"}, \"colorscale\": [[0.0, \"#0d0887\"], [0.1111111111111111, \"#46039f\"], [0.2222222222222222, \"#7201a8\"], [0.3333333333333333, \"#9c179e\"], [0.4444444444444444, \"#bd3786\"], [0.5555555555555556, \"#d8576b\"], [0.6666666666666666, \"#ed7953\"], [0.7777777777777778, \"#fb9f3a\"], [0.8888888888888888, \"#fdca26\"], [1.0, \"#f0f921\"]], \"type\": \"surface\"}], \"table\": [{\"cells\": {\"fill\": {\"color\": \"#EBF0F8\"}, \"line\": {\"color\": \"white\"}}, \"header\": {\"fill\": {\"color\": \"#C8D4E3\"}, \"line\": {\"color\": \"white\"}}, \"type\": \"table\"}]}, \"layout\": {\"annotationdefaults\": {\"arrowcolor\": \"#2a3f5f\", \"arrowhead\": 0, \"arrowwidth\": 1}, \"autotypenumbers\": \"strict\", \"coloraxis\": {\"colorbar\": {\"outlinewidth\": 0, \"ticks\": \"\"}}, \"colorscale\": {\"diverging\": [[0, \"#8e0152\"], [0.1, \"#c51b7d\"], [0.2, \"#de77ae\"], [0.3, \"#f1b6da\"], [0.4, \"#fde0ef\"], [0.5, \"#f7f7f7\"], [0.6, \"#e6f5d0\"], [0.7, \"#b8e186\"], [0.8, \"#7fbc41\"], [0.9, \"#4d9221\"], [1, \"#276419\"]], \"sequential\": [[0.0, \"#0d0887\"], [0.1111111111111111, \"#46039f\"], [0.2222222222222222, \"#7201a8\"], [0.3333333333333333, \"#9c179e\"], [0.4444444444444444, \"#bd3786\"], [0.5555555555555556, \"#d8576b\"], [0.6666666666666666, \"#ed7953\"], [0.7777777777777778, \"#fb9f3a\"], [0.8888888888888888, \"#fdca26\"], [1.0, \"#f0f921\"]], \"sequentialminus\": [[0.0, \"#0d0887\"], [0.1111111111111111, \"#46039f\"], [0.2222222222222222, \"#7201a8\"], [0.3333333333333333, \"#9c179e\"], [0.4444444444444444, \"#bd3786\"], [0.5555555555555556, \"#d8576b\"], [0.6666666666666666, \"#ed7953\"], [0.7777777777777778, \"#fb9f3a\"], [0.8888888888888888, \"#fdca26\"], [1.0, \"#f0f921\"]]}, \"colorway\": [\"#636efa\", \"#EF553B\", \"#00cc96\", \"#ab63fa\", \"#FFA15A\", \"#19d3f3\", \"#FF6692\", \"#B6E880\", \"#FF97FF\", \"#FECB52\"], \"font\": {\"color\": \"#2a3f5f\"}, \"geo\": {\"bgcolor\": \"white\", \"lakecolor\": \"white\", \"landcolor\": \"#E5ECF6\", \"showlakes\": true, \"showland\": true, \"subunitcolor\": \"white\"}, \"hoverlabel\": {\"align\": \"left\"}, \"hovermode\": \"closest\", \"mapbox\": {\"style\": \"light\"}, \"paper_bgcolor\": \"white\", \"plot_bgcolor\": \"#E5ECF6\", \"polar\": {\"angularaxis\": {\"gridcolor\": \"white\", \"linecolor\": \"white\", \"ticks\": \"\"}, \"bgcolor\": \"#E5ECF6\", \"radialaxis\": {\"gridcolor\": \"white\", \"linecolor\": \"white\", \"ticks\": \"\"}}, \"scene\": {\"xaxis\": {\"backgroundcolor\": \"#E5ECF6\", \"gridcolor\": \"white\", \"gridwidth\": 2, \"linecolor\": \"white\", \"showbackground\": true, \"ticks\": \"\", \"zerolinecolor\": \"white\"}, \"yaxis\": {\"backgroundcolor\": \"#E5ECF6\", \"gridcolor\": \"white\", \"gridwidth\": 2, \"linecolor\": \"white\", \"showbackground\": true, \"ticks\": \"\", \"zerolinecolor\": \"white\"}, \"zaxis\": {\"backgroundcolor\": \"#E5ECF6\", \"gridcolor\": \"white\", \"gridwidth\": 2, \"linecolor\": \"white\", \"showbackground\": true, \"ticks\": \"\", \"zerolinecolor\": \"white\"}}, \"shapedefaults\": {\"line\": {\"color\": \"#2a3f5f\"}}, \"ternary\": {\"aaxis\": {\"gridcolor\": \"white\", \"linecolor\": \"white\", \"ticks\": \"\"}, \"baxis\": {\"gridcolor\": \"white\", \"linecolor\": \"white\", \"ticks\": \"\"}, \"bgcolor\": \"#E5ECF6\", \"caxis\": {\"gridcolor\": \"white\", \"linecolor\": \"white\", \"ticks\": \"\"}}, \"title\": {\"x\": 0.05}, \"xaxis\": {\"automargin\": true, \"gridcolor\": \"white\", \"linecolor\": \"white\", \"ticks\": \"\", \"title\": {\"standoff\": 15}, \"zerolinecolor\": \"white\", \"zerolinewidth\": 2}, \"yaxis\": {\"automargin\": true, \"gridcolor\": \"white\", \"linecolor\": \"white\", \"ticks\": \"\", \"title\": {\"standoff\": 15}, \"zerolinecolor\": \"white\", \"zerolinewidth\": 2}}}, \"title\": {\"text\": \"sales\", \"x\": 0.5}, \"xaxis\": {\"anchor\": \"y\", \"domain\": [0.0, 1.0], \"title\": {\"text\": \"order_purchase_date\"}}, \"yaxis\": {\"anchor\": \"x\", \"domain\": [0.0, 1.0], \"title\": {\"text\": \"price\"}}},                        {\"responsive\": true}                    ).then(function(){\n",
       "                            \n",
       "var gd = document.getElementById('b4bdc0eb-d457-4d28-a45b-8a1a11856cc5');\n",
       "var x = new MutationObserver(function (mutations, observer) {{\n",
       "        var display = window.getComputedStyle(gd).display;\n",
       "        if (!display || display === 'none') {{\n",
       "            console.log([gd, 'removed!']);\n",
       "            Plotly.purge(gd);\n",
       "            observer.disconnect();\n",
       "        }}\n",
       "}});\n",
       "\n",
       "// Listen for the removal of the full notebook cells\n",
       "var notebookContainer = gd.closest('#notebook-container');\n",
       "if (notebookContainer) {{\n",
       "    x.observe(notebookContainer, {childList: true});\n",
       "}}\n",
       "\n",
       "// Listen for the clearing of the current output cell\n",
       "var outputEl = gd.closest('.output');\n",
       "if (outputEl) {{\n",
       "    x.observe(outputEl, {childList: true});\n",
       "}}\n",
       "\n",
       "                        })                };                });            </script>        </div>"
      ]
     },
     "metadata": {},
     "output_type": "display_data"
    }
   ],
   "source": [
    "#graph with the total sales- price- over time\n",
    "#plot the graph\n",
    "sales_by_time= orders_list.groupby([\"order_purchase_date\"],as_index=False)[\"price\"].sum()\n",
    "fig = px.line(sales_by_time, x=\"order_purchase_date\", y=\"price\")\n",
    "fig.update_layout(title_text='sales',title_x=0.5,template='plotly')\n",
    "fig.show()"
   ]
  },
  {
   "cell_type": "code",
   "execution_count": 23,
   "metadata": {
    "scrolled": true
   },
   "outputs": [
    {
     "data": {
      "application/vnd.plotly.v1+json": {
       "config": {
        "plotlyServerURL": "https://plot.ly"
       },
       "data": [
        {
         "alignmentgroup": "True",
         "hovertemplate": "month=%{x}<br>price=%{y}<extra></extra>",
         "legendgroup": "01",
         "marker": {
          "color": "#636efa"
         },
         "name": "01",
         "offsetgroup": "01",
         "orientation": "v",
         "showlegend": true,
         "textposition": "auto",
         "type": "bar",
         "x": [
          "01"
         ],
         "xaxis": "x",
         "y": [
          1064792
         ],
         "yaxis": "y"
        },
        {
         "alignmentgroup": "True",
         "hovertemplate": "month=%{x}<br>price=%{y}<extra></extra>",
         "legendgroup": "02",
         "marker": {
          "color": "#EF553B"
         },
         "name": "02",
         "offsetgroup": "02",
         "orientation": "v",
         "showlegend": true,
         "textposition": "auto",
         "type": "bar",
         "x": [
          "02"
         ],
         "xaxis": "x",
         "y": [
          1085549
         ],
         "yaxis": "y"
        },
        {
         "alignmentgroup": "True",
         "hovertemplate": "month=%{x}<br>price=%{y}<extra></extra>",
         "legendgroup": "03",
         "marker": {
          "color": "#00cc96"
         },
         "name": "03",
         "offsetgroup": "03",
         "orientation": "v",
         "showlegend": true,
         "textposition": "auto",
         "type": "bar",
         "x": [
          "03"
         ],
         "xaxis": "x",
         "y": [
          1350861
         ],
         "yaxis": "y"
        },
        {
         "alignmentgroup": "True",
         "hovertemplate": "month=%{x}<br>price=%{y}<extra></extra>",
         "legendgroup": "04",
         "marker": {
          "color": "#ab63fa"
         },
         "name": "04",
         "offsetgroup": "04",
         "orientation": "v",
         "showlegend": true,
         "textposition": "auto",
         "type": "bar",
         "x": [
          "04"
         ],
         "xaxis": "x",
         "y": [
          1350276
         ],
         "yaxis": "y"
        },
        {
         "alignmentgroup": "True",
         "hovertemplate": "month=%{x}<br>price=%{y}<extra></extra>",
         "legendgroup": "05",
         "marker": {
          "color": "#FFA15A"
         },
         "name": "05",
         "offsetgroup": "05",
         "orientation": "v",
         "showlegend": true,
         "textposition": "auto",
         "type": "bar",
         "x": [
          "05"
         ],
         "xaxis": "x",
         "y": [
          1495416
         ],
         "yaxis": "y"
        },
        {
         "alignmentgroup": "True",
         "hovertemplate": "month=%{x}<br>price=%{y}<extra></extra>",
         "legendgroup": "06",
         "marker": {
          "color": "#19d3f3"
         },
         "name": "06",
         "offsetgroup": "06",
         "orientation": "v",
         "showlegend": true,
         "textposition": "auto",
         "type": "bar",
         "x": [
          "06"
         ],
         "xaxis": "x",
         "y": [
          1291824
         ],
         "yaxis": "y"
        },
        {
         "alignmentgroup": "True",
         "hovertemplate": "month=%{x}<br>price=%{y}<extra></extra>",
         "legendgroup": "07",
         "marker": {
          "color": "#FF6692"
         },
         "name": "07",
         "offsetgroup": "07",
         "orientation": "v",
         "showlegend": true,
         "textposition": "auto",
         "type": "bar",
         "x": [
          "07"
         ],
         "xaxis": "x",
         "y": [
          1386626
         ],
         "yaxis": "y"
        },
        {
         "alignmentgroup": "True",
         "hovertemplate": "month=%{x}<br>price=%{y}<extra></extra>",
         "legendgroup": "08",
         "marker": {
          "color": "#B6E880"
         },
         "name": "08",
         "offsetgroup": "08",
         "orientation": "v",
         "showlegend": true,
         "textposition": "auto",
         "type": "bar",
         "x": [
          "08"
         ],
         "xaxis": "x",
         "y": [
          1421576
         ],
         "yaxis": "y"
        },
        {
         "alignmentgroup": "True",
         "hovertemplate": "month=%{x}<br>price=%{y}<extra></extra>",
         "legendgroup": "09",
         "marker": {
          "color": "#FF97FF"
         },
         "name": "09",
         "offsetgroup": "09",
         "orientation": "v",
         "showlegend": true,
         "textposition": "auto",
         "type": "bar",
         "x": [
          "09"
         ],
         "xaxis": "x",
         "y": [
          621781
         ],
         "yaxis": "y"
        },
        {
         "alignmentgroup": "True",
         "hovertemplate": "month=%{x}<br>price=%{y}<extra></extra>",
         "legendgroup": "10",
         "marker": {
          "color": "#FECB52"
         },
         "name": "10",
         "offsetgroup": "10",
         "orientation": "v",
         "showlegend": true,
         "textposition": "auto",
         "type": "bar",
         "x": [
          "10"
         ],
         "xaxis": "x",
         "y": [
          710122
         ],
         "yaxis": "y"
        },
        {
         "alignmentgroup": "True",
         "hovertemplate": "month=%{x}<br>price=%{y}<extra></extra>",
         "legendgroup": "11",
         "marker": {
          "color": "#636efa"
         },
         "name": "11",
         "offsetgroup": "11",
         "orientation": "v",
         "showlegend": true,
         "textposition": "auto",
         "type": "bar",
         "x": [
          "11"
         ],
         "xaxis": "x",
         "y": [
          1004981
         ],
         "yaxis": "y"
        },
        {
         "alignmentgroup": "True",
         "hovertemplate": "month=%{x}<br>price=%{y}<extra></extra>",
         "legendgroup": "12",
         "marker": {
          "color": "#EF553B"
         },
         "name": "12",
         "offsetgroup": "12",
         "orientation": "v",
         "showlegend": true,
         "textposition": "auto",
         "type": "bar",
         "x": [
          "12"
         ],
         "xaxis": "x",
         "y": [
          740129
         ],
         "yaxis": "y"
        }
       ],
       "layout": {
        "barmode": "relative",
        "legend": {
         "title": {
          "text": "month"
         },
         "tracegroupgap": 0
        },
        "margin": {
         "t": 60
        },
        "template": {
         "data": {
          "bar": [
           {
            "error_x": {
             "color": "rgb(36,36,36)"
            },
            "error_y": {
             "color": "rgb(36,36,36)"
            },
            "marker": {
             "line": {
              "color": "rgb(234,234,242)",
              "width": 0.5
             }
            },
            "type": "bar"
           }
          ],
          "barpolar": [
           {
            "marker": {
             "line": {
              "color": "rgb(234,234,242)",
              "width": 0.5
             }
            },
            "type": "barpolar"
           }
          ],
          "carpet": [
           {
            "aaxis": {
             "endlinecolor": "rgb(36,36,36)",
             "gridcolor": "white",
             "linecolor": "white",
             "minorgridcolor": "white",
             "startlinecolor": "rgb(36,36,36)"
            },
            "baxis": {
             "endlinecolor": "rgb(36,36,36)",
             "gridcolor": "white",
             "linecolor": "white",
             "minorgridcolor": "white",
             "startlinecolor": "rgb(36,36,36)"
            },
            "type": "carpet"
           }
          ],
          "choropleth": [
           {
            "colorbar": {
             "outlinewidth": 0,
             "tickcolor": "rgb(36,36,36)",
             "ticklen": 8,
             "ticks": "outside",
             "tickwidth": 2
            },
            "type": "choropleth"
           }
          ],
          "contour": [
           {
            "colorbar": {
             "outlinewidth": 0,
             "tickcolor": "rgb(36,36,36)",
             "ticklen": 8,
             "ticks": "outside",
             "tickwidth": 2
            },
            "colorscale": [
             [
              0,
              "rgb(2,4,25)"
             ],
             [
              0.06274509803921569,
              "rgb(24,15,41)"
             ],
             [
              0.12549019607843137,
              "rgb(47,23,57)"
             ],
             [
              0.18823529411764706,
              "rgb(71,28,72)"
             ],
             [
              0.25098039215686274,
              "rgb(97,30,82)"
             ],
             [
              0.3137254901960784,
              "rgb(123,30,89)"
             ],
             [
              0.3764705882352941,
              "rgb(150,27,91)"
             ],
             [
              0.4392156862745098,
              "rgb(177,22,88)"
             ],
             [
              0.5019607843137255,
              "rgb(203,26,79)"
             ],
             [
              0.5647058823529412,
              "rgb(223,47,67)"
             ],
             [
              0.6274509803921569,
              "rgb(236,76,61)"
             ],
             [
              0.6901960784313725,
              "rgb(242,107,73)"
             ],
             [
              0.7529411764705882,
              "rgb(244,135,95)"
             ],
             [
              0.8156862745098039,
              "rgb(245,162,122)"
             ],
             [
              0.8784313725490196,
              "rgb(246,188,153)"
             ],
             [
              0.9411764705882353,
              "rgb(247,212,187)"
             ],
             [
              1,
              "rgb(250,234,220)"
             ]
            ],
            "type": "contour"
           }
          ],
          "contourcarpet": [
           {
            "colorbar": {
             "outlinewidth": 0,
             "tickcolor": "rgb(36,36,36)",
             "ticklen": 8,
             "ticks": "outside",
             "tickwidth": 2
            },
            "type": "contourcarpet"
           }
          ],
          "heatmap": [
           {
            "colorbar": {
             "outlinewidth": 0,
             "tickcolor": "rgb(36,36,36)",
             "ticklen": 8,
             "ticks": "outside",
             "tickwidth": 2
            },
            "colorscale": [
             [
              0,
              "rgb(2,4,25)"
             ],
             [
              0.06274509803921569,
              "rgb(24,15,41)"
             ],
             [
              0.12549019607843137,
              "rgb(47,23,57)"
             ],
             [
              0.18823529411764706,
              "rgb(71,28,72)"
             ],
             [
              0.25098039215686274,
              "rgb(97,30,82)"
             ],
             [
              0.3137254901960784,
              "rgb(123,30,89)"
             ],
             [
              0.3764705882352941,
              "rgb(150,27,91)"
             ],
             [
              0.4392156862745098,
              "rgb(177,22,88)"
             ],
             [
              0.5019607843137255,
              "rgb(203,26,79)"
             ],
             [
              0.5647058823529412,
              "rgb(223,47,67)"
             ],
             [
              0.6274509803921569,
              "rgb(236,76,61)"
             ],
             [
              0.6901960784313725,
              "rgb(242,107,73)"
             ],
             [
              0.7529411764705882,
              "rgb(244,135,95)"
             ],
             [
              0.8156862745098039,
              "rgb(245,162,122)"
             ],
             [
              0.8784313725490196,
              "rgb(246,188,153)"
             ],
             [
              0.9411764705882353,
              "rgb(247,212,187)"
             ],
             [
              1,
              "rgb(250,234,220)"
             ]
            ],
            "type": "heatmap"
           }
          ],
          "heatmapgl": [
           {
            "colorbar": {
             "outlinewidth": 0,
             "tickcolor": "rgb(36,36,36)",
             "ticklen": 8,
             "ticks": "outside",
             "tickwidth": 2
            },
            "colorscale": [
             [
              0,
              "rgb(2,4,25)"
             ],
             [
              0.06274509803921569,
              "rgb(24,15,41)"
             ],
             [
              0.12549019607843137,
              "rgb(47,23,57)"
             ],
             [
              0.18823529411764706,
              "rgb(71,28,72)"
             ],
             [
              0.25098039215686274,
              "rgb(97,30,82)"
             ],
             [
              0.3137254901960784,
              "rgb(123,30,89)"
             ],
             [
              0.3764705882352941,
              "rgb(150,27,91)"
             ],
             [
              0.4392156862745098,
              "rgb(177,22,88)"
             ],
             [
              0.5019607843137255,
              "rgb(203,26,79)"
             ],
             [
              0.5647058823529412,
              "rgb(223,47,67)"
             ],
             [
              0.6274509803921569,
              "rgb(236,76,61)"
             ],
             [
              0.6901960784313725,
              "rgb(242,107,73)"
             ],
             [
              0.7529411764705882,
              "rgb(244,135,95)"
             ],
             [
              0.8156862745098039,
              "rgb(245,162,122)"
             ],
             [
              0.8784313725490196,
              "rgb(246,188,153)"
             ],
             [
              0.9411764705882353,
              "rgb(247,212,187)"
             ],
             [
              1,
              "rgb(250,234,220)"
             ]
            ],
            "type": "heatmapgl"
           }
          ],
          "histogram": [
           {
            "marker": {
             "colorbar": {
              "outlinewidth": 0,
              "tickcolor": "rgb(36,36,36)",
              "ticklen": 8,
              "ticks": "outside",
              "tickwidth": 2
             }
            },
            "type": "histogram"
           }
          ],
          "histogram2d": [
           {
            "colorbar": {
             "outlinewidth": 0,
             "tickcolor": "rgb(36,36,36)",
             "ticklen": 8,
             "ticks": "outside",
             "tickwidth": 2
            },
            "colorscale": [
             [
              0,
              "rgb(2,4,25)"
             ],
             [
              0.06274509803921569,
              "rgb(24,15,41)"
             ],
             [
              0.12549019607843137,
              "rgb(47,23,57)"
             ],
             [
              0.18823529411764706,
              "rgb(71,28,72)"
             ],
             [
              0.25098039215686274,
              "rgb(97,30,82)"
             ],
             [
              0.3137254901960784,
              "rgb(123,30,89)"
             ],
             [
              0.3764705882352941,
              "rgb(150,27,91)"
             ],
             [
              0.4392156862745098,
              "rgb(177,22,88)"
             ],
             [
              0.5019607843137255,
              "rgb(203,26,79)"
             ],
             [
              0.5647058823529412,
              "rgb(223,47,67)"
             ],
             [
              0.6274509803921569,
              "rgb(236,76,61)"
             ],
             [
              0.6901960784313725,
              "rgb(242,107,73)"
             ],
             [
              0.7529411764705882,
              "rgb(244,135,95)"
             ],
             [
              0.8156862745098039,
              "rgb(245,162,122)"
             ],
             [
              0.8784313725490196,
              "rgb(246,188,153)"
             ],
             [
              0.9411764705882353,
              "rgb(247,212,187)"
             ],
             [
              1,
              "rgb(250,234,220)"
             ]
            ],
            "type": "histogram2d"
           }
          ],
          "histogram2dcontour": [
           {
            "colorbar": {
             "outlinewidth": 0,
             "tickcolor": "rgb(36,36,36)",
             "ticklen": 8,
             "ticks": "outside",
             "tickwidth": 2
            },
            "colorscale": [
             [
              0,
              "rgb(2,4,25)"
             ],
             [
              0.06274509803921569,
              "rgb(24,15,41)"
             ],
             [
              0.12549019607843137,
              "rgb(47,23,57)"
             ],
             [
              0.18823529411764706,
              "rgb(71,28,72)"
             ],
             [
              0.25098039215686274,
              "rgb(97,30,82)"
             ],
             [
              0.3137254901960784,
              "rgb(123,30,89)"
             ],
             [
              0.3764705882352941,
              "rgb(150,27,91)"
             ],
             [
              0.4392156862745098,
              "rgb(177,22,88)"
             ],
             [
              0.5019607843137255,
              "rgb(203,26,79)"
             ],
             [
              0.5647058823529412,
              "rgb(223,47,67)"
             ],
             [
              0.6274509803921569,
              "rgb(236,76,61)"
             ],
             [
              0.6901960784313725,
              "rgb(242,107,73)"
             ],
             [
              0.7529411764705882,
              "rgb(244,135,95)"
             ],
             [
              0.8156862745098039,
              "rgb(245,162,122)"
             ],
             [
              0.8784313725490196,
              "rgb(246,188,153)"
             ],
             [
              0.9411764705882353,
              "rgb(247,212,187)"
             ],
             [
              1,
              "rgb(250,234,220)"
             ]
            ],
            "type": "histogram2dcontour"
           }
          ],
          "mesh3d": [
           {
            "colorbar": {
             "outlinewidth": 0,
             "tickcolor": "rgb(36,36,36)",
             "ticklen": 8,
             "ticks": "outside",
             "tickwidth": 2
            },
            "type": "mesh3d"
           }
          ],
          "parcoords": [
           {
            "line": {
             "colorbar": {
              "outlinewidth": 0,
              "tickcolor": "rgb(36,36,36)",
              "ticklen": 8,
              "ticks": "outside",
              "tickwidth": 2
             }
            },
            "type": "parcoords"
           }
          ],
          "pie": [
           {
            "automargin": true,
            "type": "pie"
           }
          ],
          "scatter": [
           {
            "marker": {
             "colorbar": {
              "outlinewidth": 0,
              "tickcolor": "rgb(36,36,36)",
              "ticklen": 8,
              "ticks": "outside",
              "tickwidth": 2
             }
            },
            "type": "scatter"
           }
          ],
          "scatter3d": [
           {
            "line": {
             "colorbar": {
              "outlinewidth": 0,
              "tickcolor": "rgb(36,36,36)",
              "ticklen": 8,
              "ticks": "outside",
              "tickwidth": 2
             }
            },
            "marker": {
             "colorbar": {
              "outlinewidth": 0,
              "tickcolor": "rgb(36,36,36)",
              "ticklen": 8,
              "ticks": "outside",
              "tickwidth": 2
             }
            },
            "type": "scatter3d"
           }
          ],
          "scattercarpet": [
           {
            "marker": {
             "colorbar": {
              "outlinewidth": 0,
              "tickcolor": "rgb(36,36,36)",
              "ticklen": 8,
              "ticks": "outside",
              "tickwidth": 2
             }
            },
            "type": "scattercarpet"
           }
          ],
          "scattergeo": [
           {
            "marker": {
             "colorbar": {
              "outlinewidth": 0,
              "tickcolor": "rgb(36,36,36)",
              "ticklen": 8,
              "ticks": "outside",
              "tickwidth": 2
             }
            },
            "type": "scattergeo"
           }
          ],
          "scattergl": [
           {
            "marker": {
             "colorbar": {
              "outlinewidth": 0,
              "tickcolor": "rgb(36,36,36)",
              "ticklen": 8,
              "ticks": "outside",
              "tickwidth": 2
             }
            },
            "type": "scattergl"
           }
          ],
          "scattermapbox": [
           {
            "marker": {
             "colorbar": {
              "outlinewidth": 0,
              "tickcolor": "rgb(36,36,36)",
              "ticklen": 8,
              "ticks": "outside",
              "tickwidth": 2
             }
            },
            "type": "scattermapbox"
           }
          ],
          "scatterpolar": [
           {
            "marker": {
             "colorbar": {
              "outlinewidth": 0,
              "tickcolor": "rgb(36,36,36)",
              "ticklen": 8,
              "ticks": "outside",
              "tickwidth": 2
             }
            },
            "type": "scatterpolar"
           }
          ],
          "scatterpolargl": [
           {
            "marker": {
             "colorbar": {
              "outlinewidth": 0,
              "tickcolor": "rgb(36,36,36)",
              "ticklen": 8,
              "ticks": "outside",
              "tickwidth": 2
             }
            },
            "type": "scatterpolargl"
           }
          ],
          "scatterternary": [
           {
            "marker": {
             "colorbar": {
              "outlinewidth": 0,
              "tickcolor": "rgb(36,36,36)",
              "ticklen": 8,
              "ticks": "outside",
              "tickwidth": 2
             }
            },
            "type": "scatterternary"
           }
          ],
          "surface": [
           {
            "colorbar": {
             "outlinewidth": 0,
             "tickcolor": "rgb(36,36,36)",
             "ticklen": 8,
             "ticks": "outside",
             "tickwidth": 2
            },
            "colorscale": [
             [
              0,
              "rgb(2,4,25)"
             ],
             [
              0.06274509803921569,
              "rgb(24,15,41)"
             ],
             [
              0.12549019607843137,
              "rgb(47,23,57)"
             ],
             [
              0.18823529411764706,
              "rgb(71,28,72)"
             ],
             [
              0.25098039215686274,
              "rgb(97,30,82)"
             ],
             [
              0.3137254901960784,
              "rgb(123,30,89)"
             ],
             [
              0.3764705882352941,
              "rgb(150,27,91)"
             ],
             [
              0.4392156862745098,
              "rgb(177,22,88)"
             ],
             [
              0.5019607843137255,
              "rgb(203,26,79)"
             ],
             [
              0.5647058823529412,
              "rgb(223,47,67)"
             ],
             [
              0.6274509803921569,
              "rgb(236,76,61)"
             ],
             [
              0.6901960784313725,
              "rgb(242,107,73)"
             ],
             [
              0.7529411764705882,
              "rgb(244,135,95)"
             ],
             [
              0.8156862745098039,
              "rgb(245,162,122)"
             ],
             [
              0.8784313725490196,
              "rgb(246,188,153)"
             ],
             [
              0.9411764705882353,
              "rgb(247,212,187)"
             ],
             [
              1,
              "rgb(250,234,220)"
             ]
            ],
            "type": "surface"
           }
          ],
          "table": [
           {
            "cells": {
             "fill": {
              "color": "rgb(231,231,240)"
             },
             "line": {
              "color": "white"
             }
            },
            "header": {
             "fill": {
              "color": "rgb(183,183,191)"
             },
             "line": {
              "color": "white"
             }
            },
            "type": "table"
           }
          ]
         },
         "layout": {
          "annotationdefaults": {
           "arrowcolor": "rgb(67,103,167)"
          },
          "autotypenumbers": "strict",
          "coloraxis": {
           "colorbar": {
            "outlinewidth": 0,
            "tickcolor": "rgb(36,36,36)",
            "ticklen": 8,
            "ticks": "outside",
            "tickwidth": 2
           }
          },
          "colorscale": {
           "sequential": [
            [
             0,
             "rgb(2,4,25)"
            ],
            [
             0.06274509803921569,
             "rgb(24,15,41)"
            ],
            [
             0.12549019607843137,
             "rgb(47,23,57)"
            ],
            [
             0.18823529411764706,
             "rgb(71,28,72)"
            ],
            [
             0.25098039215686274,
             "rgb(97,30,82)"
            ],
            [
             0.3137254901960784,
             "rgb(123,30,89)"
            ],
            [
             0.3764705882352941,
             "rgb(150,27,91)"
            ],
            [
             0.4392156862745098,
             "rgb(177,22,88)"
            ],
            [
             0.5019607843137255,
             "rgb(203,26,79)"
            ],
            [
             0.5647058823529412,
             "rgb(223,47,67)"
            ],
            [
             0.6274509803921569,
             "rgb(236,76,61)"
            ],
            [
             0.6901960784313725,
             "rgb(242,107,73)"
            ],
            [
             0.7529411764705882,
             "rgb(244,135,95)"
            ],
            [
             0.8156862745098039,
             "rgb(245,162,122)"
            ],
            [
             0.8784313725490196,
             "rgb(246,188,153)"
            ],
            [
             0.9411764705882353,
             "rgb(247,212,187)"
            ],
            [
             1,
             "rgb(250,234,220)"
            ]
           ],
           "sequentialminus": [
            [
             0,
             "rgb(2,4,25)"
            ],
            [
             0.06274509803921569,
             "rgb(24,15,41)"
            ],
            [
             0.12549019607843137,
             "rgb(47,23,57)"
            ],
            [
             0.18823529411764706,
             "rgb(71,28,72)"
            ],
            [
             0.25098039215686274,
             "rgb(97,30,82)"
            ],
            [
             0.3137254901960784,
             "rgb(123,30,89)"
            ],
            [
             0.3764705882352941,
             "rgb(150,27,91)"
            ],
            [
             0.4392156862745098,
             "rgb(177,22,88)"
            ],
            [
             0.5019607843137255,
             "rgb(203,26,79)"
            ],
            [
             0.5647058823529412,
             "rgb(223,47,67)"
            ],
            [
             0.6274509803921569,
             "rgb(236,76,61)"
            ],
            [
             0.6901960784313725,
             "rgb(242,107,73)"
            ],
            [
             0.7529411764705882,
             "rgb(244,135,95)"
            ],
            [
             0.8156862745098039,
             "rgb(245,162,122)"
            ],
            [
             0.8784313725490196,
             "rgb(246,188,153)"
            ],
            [
             0.9411764705882353,
             "rgb(247,212,187)"
            ],
            [
             1,
             "rgb(250,234,220)"
            ]
           ]
          },
          "colorway": [
           "rgb(76,114,176)",
           "rgb(221,132,82)",
           "rgb(85,168,104)",
           "rgb(196,78,82)",
           "rgb(129,114,179)",
           "rgb(147,120,96)",
           "rgb(218,139,195)",
           "rgb(140,140,140)",
           "rgb(204,185,116)",
           "rgb(100,181,205)"
          ],
          "font": {
           "color": "rgb(36,36,36)"
          },
          "geo": {
           "bgcolor": "white",
           "lakecolor": "white",
           "landcolor": "rgb(234,234,242)",
           "showlakes": true,
           "showland": true,
           "subunitcolor": "white"
          },
          "hoverlabel": {
           "align": "left"
          },
          "hovermode": "closest",
          "paper_bgcolor": "white",
          "plot_bgcolor": "rgb(234,234,242)",
          "polar": {
           "angularaxis": {
            "gridcolor": "white",
            "linecolor": "white",
            "showgrid": true,
            "ticks": ""
           },
           "bgcolor": "rgb(234,234,242)",
           "radialaxis": {
            "gridcolor": "white",
            "linecolor": "white",
            "showgrid": true,
            "ticks": ""
           }
          },
          "scene": {
           "xaxis": {
            "backgroundcolor": "rgb(234,234,242)",
            "gridcolor": "white",
            "gridwidth": 2,
            "linecolor": "white",
            "showbackground": true,
            "showgrid": true,
            "ticks": "",
            "zerolinecolor": "white"
           },
           "yaxis": {
            "backgroundcolor": "rgb(234,234,242)",
            "gridcolor": "white",
            "gridwidth": 2,
            "linecolor": "white",
            "showbackground": true,
            "showgrid": true,
            "ticks": "",
            "zerolinecolor": "white"
           },
           "zaxis": {
            "backgroundcolor": "rgb(234,234,242)",
            "gridcolor": "white",
            "gridwidth": 2,
            "linecolor": "white",
            "showbackground": true,
            "showgrid": true,
            "ticks": "",
            "zerolinecolor": "white"
           }
          },
          "shapedefaults": {
           "fillcolor": "rgb(67,103,167)",
           "line": {
            "width": 0
           },
           "opacity": 0.5
          },
          "ternary": {
           "aaxis": {
            "gridcolor": "white",
            "linecolor": "white",
            "showgrid": true,
            "ticks": ""
           },
           "baxis": {
            "gridcolor": "white",
            "linecolor": "white",
            "showgrid": true,
            "ticks": ""
           },
           "bgcolor": "rgb(234,234,242)",
           "caxis": {
            "gridcolor": "white",
            "linecolor": "white",
            "showgrid": true,
            "ticks": ""
           }
          },
          "xaxis": {
           "automargin": true,
           "gridcolor": "white",
           "linecolor": "white",
           "showgrid": true,
           "ticks": "",
           "title": {
            "standoff": 15
           },
           "zerolinecolor": "white"
          },
          "yaxis": {
           "automargin": true,
           "gridcolor": "white",
           "linecolor": "white",
           "showgrid": true,
           "ticks": "",
           "title": {
            "standoff": 15
           },
           "zerolinecolor": "white"
          }
         }
        },
        "title": {
         "text": "Monthly sales",
         "x": 0.5
        },
        "xaxis": {
         "anchor": "y",
         "categoryarray": [
          "01",
          "02",
          "03",
          "04",
          "05",
          "06",
          "07",
          "08",
          "09",
          "10",
          "11",
          "12"
         ],
         "categoryorder": "array",
         "domain": [
          0,
          1
         ],
         "title": {
          "text": "month"
         }
        },
        "yaxis": {
         "anchor": "x",
         "domain": [
          0,
          1
         ],
         "title": {
          "text": "price"
         }
        }
       }
      },
      "text/html": [
       "<div>                            <div id=\"f34b0258-2281-4213-bf33-25258e325e47\" class=\"plotly-graph-div\" style=\"height:525px; width:100%;\"></div>            <script type=\"text/javascript\">                require([\"plotly\"], function(Plotly) {                    window.PLOTLYENV=window.PLOTLYENV || {};                                    if (document.getElementById(\"f34b0258-2281-4213-bf33-25258e325e47\")) {                    Plotly.newPlot(                        \"f34b0258-2281-4213-bf33-25258e325e47\",                        [{\"alignmentgroup\": \"True\", \"hovertemplate\": \"month=%{x}<br>price=%{y}<extra></extra>\", \"legendgroup\": \"01\", \"marker\": {\"color\": \"#636efa\"}, \"name\": \"01\", \"offsetgroup\": \"01\", \"orientation\": \"v\", \"showlegend\": true, \"textposition\": \"auto\", \"type\": \"bar\", \"x\": [\"01\"], \"xaxis\": \"x\", \"y\": [1064792], \"yaxis\": \"y\"}, {\"alignmentgroup\": \"True\", \"hovertemplate\": \"month=%{x}<br>price=%{y}<extra></extra>\", \"legendgroup\": \"02\", \"marker\": {\"color\": \"#EF553B\"}, \"name\": \"02\", \"offsetgroup\": \"02\", \"orientation\": \"v\", \"showlegend\": true, \"textposition\": \"auto\", \"type\": \"bar\", \"x\": [\"02\"], \"xaxis\": \"x\", \"y\": [1085549], \"yaxis\": \"y\"}, {\"alignmentgroup\": \"True\", \"hovertemplate\": \"month=%{x}<br>price=%{y}<extra></extra>\", \"legendgroup\": \"03\", \"marker\": {\"color\": \"#00cc96\"}, \"name\": \"03\", \"offsetgroup\": \"03\", \"orientation\": \"v\", \"showlegend\": true, \"textposition\": \"auto\", \"type\": \"bar\", \"x\": [\"03\"], \"xaxis\": \"x\", \"y\": [1350861], \"yaxis\": \"y\"}, {\"alignmentgroup\": \"True\", \"hovertemplate\": \"month=%{x}<br>price=%{y}<extra></extra>\", \"legendgroup\": \"04\", \"marker\": {\"color\": \"#ab63fa\"}, \"name\": \"04\", \"offsetgroup\": \"04\", \"orientation\": \"v\", \"showlegend\": true, \"textposition\": \"auto\", \"type\": \"bar\", \"x\": [\"04\"], \"xaxis\": \"x\", \"y\": [1350276], \"yaxis\": \"y\"}, {\"alignmentgroup\": \"True\", \"hovertemplate\": \"month=%{x}<br>price=%{y}<extra></extra>\", \"legendgroup\": \"05\", \"marker\": {\"color\": \"#FFA15A\"}, \"name\": \"05\", \"offsetgroup\": \"05\", \"orientation\": \"v\", \"showlegend\": true, \"textposition\": \"auto\", \"type\": \"bar\", \"x\": [\"05\"], \"xaxis\": \"x\", \"y\": [1495416], \"yaxis\": \"y\"}, {\"alignmentgroup\": \"True\", \"hovertemplate\": \"month=%{x}<br>price=%{y}<extra></extra>\", \"legendgroup\": \"06\", \"marker\": {\"color\": \"#19d3f3\"}, \"name\": \"06\", \"offsetgroup\": \"06\", \"orientation\": \"v\", \"showlegend\": true, \"textposition\": \"auto\", \"type\": \"bar\", \"x\": [\"06\"], \"xaxis\": \"x\", \"y\": [1291824], \"yaxis\": \"y\"}, {\"alignmentgroup\": \"True\", \"hovertemplate\": \"month=%{x}<br>price=%{y}<extra></extra>\", \"legendgroup\": \"07\", \"marker\": {\"color\": \"#FF6692\"}, \"name\": \"07\", \"offsetgroup\": \"07\", \"orientation\": \"v\", \"showlegend\": true, \"textposition\": \"auto\", \"type\": \"bar\", \"x\": [\"07\"], \"xaxis\": \"x\", \"y\": [1386626], \"yaxis\": \"y\"}, {\"alignmentgroup\": \"True\", \"hovertemplate\": \"month=%{x}<br>price=%{y}<extra></extra>\", \"legendgroup\": \"08\", \"marker\": {\"color\": \"#B6E880\"}, \"name\": \"08\", \"offsetgroup\": \"08\", \"orientation\": \"v\", \"showlegend\": true, \"textposition\": \"auto\", \"type\": \"bar\", \"x\": [\"08\"], \"xaxis\": \"x\", \"y\": [1421576], \"yaxis\": \"y\"}, {\"alignmentgroup\": \"True\", \"hovertemplate\": \"month=%{x}<br>price=%{y}<extra></extra>\", \"legendgroup\": \"09\", \"marker\": {\"color\": \"#FF97FF\"}, \"name\": \"09\", \"offsetgroup\": \"09\", \"orientation\": \"v\", \"showlegend\": true, \"textposition\": \"auto\", \"type\": \"bar\", \"x\": [\"09\"], \"xaxis\": \"x\", \"y\": [621781], \"yaxis\": \"y\"}, {\"alignmentgroup\": \"True\", \"hovertemplate\": \"month=%{x}<br>price=%{y}<extra></extra>\", \"legendgroup\": \"10\", \"marker\": {\"color\": \"#FECB52\"}, \"name\": \"10\", \"offsetgroup\": \"10\", \"orientation\": \"v\", \"showlegend\": true, \"textposition\": \"auto\", \"type\": \"bar\", \"x\": [\"10\"], \"xaxis\": \"x\", \"y\": [710122], \"yaxis\": \"y\"}, {\"alignmentgroup\": \"True\", \"hovertemplate\": \"month=%{x}<br>price=%{y}<extra></extra>\", \"legendgroup\": \"11\", \"marker\": {\"color\": \"#636efa\"}, \"name\": \"11\", \"offsetgroup\": \"11\", \"orientation\": \"v\", \"showlegend\": true, \"textposition\": \"auto\", \"type\": \"bar\", \"x\": [\"11\"], \"xaxis\": \"x\", \"y\": [1004981], \"yaxis\": \"y\"}, {\"alignmentgroup\": \"True\", \"hovertemplate\": \"month=%{x}<br>price=%{y}<extra></extra>\", \"legendgroup\": \"12\", \"marker\": {\"color\": \"#EF553B\"}, \"name\": \"12\", \"offsetgroup\": \"12\", \"orientation\": \"v\", \"showlegend\": true, \"textposition\": \"auto\", \"type\": \"bar\", \"x\": [\"12\"], \"xaxis\": \"x\", \"y\": [740129], \"yaxis\": \"y\"}],                        {\"barmode\": \"relative\", \"legend\": {\"title\": {\"text\": \"month\"}, \"tracegroupgap\": 0}, \"margin\": {\"t\": 60}, \"template\": {\"data\": {\"bar\": [{\"error_x\": {\"color\": \"rgb(36,36,36)\"}, \"error_y\": {\"color\": \"rgb(36,36,36)\"}, \"marker\": {\"line\": {\"color\": \"rgb(234,234,242)\", \"width\": 0.5}}, \"type\": \"bar\"}], \"barpolar\": [{\"marker\": {\"line\": {\"color\": \"rgb(234,234,242)\", \"width\": 0.5}}, \"type\": \"barpolar\"}], \"carpet\": [{\"aaxis\": {\"endlinecolor\": \"rgb(36,36,36)\", \"gridcolor\": \"white\", \"linecolor\": \"white\", \"minorgridcolor\": \"white\", \"startlinecolor\": \"rgb(36,36,36)\"}, \"baxis\": {\"endlinecolor\": \"rgb(36,36,36)\", \"gridcolor\": \"white\", \"linecolor\": \"white\", \"minorgridcolor\": \"white\", \"startlinecolor\": \"rgb(36,36,36)\"}, \"type\": \"carpet\"}], \"choropleth\": [{\"colorbar\": {\"outlinewidth\": 0, \"tickcolor\": \"rgb(36,36,36)\", \"ticklen\": 8, \"ticks\": \"outside\", \"tickwidth\": 2}, \"type\": \"choropleth\"}], \"contour\": [{\"colorbar\": {\"outlinewidth\": 0, \"tickcolor\": \"rgb(36,36,36)\", \"ticklen\": 8, \"ticks\": \"outside\", \"tickwidth\": 2}, \"colorscale\": [[0.0, \"rgb(2,4,25)\"], [0.06274509803921569, \"rgb(24,15,41)\"], [0.12549019607843137, \"rgb(47,23,57)\"], [0.18823529411764706, \"rgb(71,28,72)\"], [0.25098039215686274, \"rgb(97,30,82)\"], [0.3137254901960784, \"rgb(123,30,89)\"], [0.3764705882352941, \"rgb(150,27,91)\"], [0.4392156862745098, \"rgb(177,22,88)\"], [0.5019607843137255, \"rgb(203,26,79)\"], [0.5647058823529412, \"rgb(223,47,67)\"], [0.6274509803921569, \"rgb(236,76,61)\"], [0.6901960784313725, \"rgb(242,107,73)\"], [0.7529411764705882, \"rgb(244,135,95)\"], [0.8156862745098039, \"rgb(245,162,122)\"], [0.8784313725490196, \"rgb(246,188,153)\"], [0.9411764705882353, \"rgb(247,212,187)\"], [1.0, \"rgb(250,234,220)\"]], \"type\": \"contour\"}], \"contourcarpet\": [{\"colorbar\": {\"outlinewidth\": 0, \"tickcolor\": \"rgb(36,36,36)\", \"ticklen\": 8, \"ticks\": \"outside\", \"tickwidth\": 2}, \"type\": \"contourcarpet\"}], \"heatmap\": [{\"colorbar\": {\"outlinewidth\": 0, \"tickcolor\": \"rgb(36,36,36)\", \"ticklen\": 8, \"ticks\": \"outside\", \"tickwidth\": 2}, \"colorscale\": [[0.0, \"rgb(2,4,25)\"], [0.06274509803921569, \"rgb(24,15,41)\"], [0.12549019607843137, \"rgb(47,23,57)\"], [0.18823529411764706, \"rgb(71,28,72)\"], [0.25098039215686274, \"rgb(97,30,82)\"], [0.3137254901960784, \"rgb(123,30,89)\"], [0.3764705882352941, \"rgb(150,27,91)\"], [0.4392156862745098, \"rgb(177,22,88)\"], [0.5019607843137255, \"rgb(203,26,79)\"], [0.5647058823529412, \"rgb(223,47,67)\"], [0.6274509803921569, \"rgb(236,76,61)\"], [0.6901960784313725, \"rgb(242,107,73)\"], [0.7529411764705882, \"rgb(244,135,95)\"], [0.8156862745098039, \"rgb(245,162,122)\"], [0.8784313725490196, \"rgb(246,188,153)\"], [0.9411764705882353, \"rgb(247,212,187)\"], [1.0, \"rgb(250,234,220)\"]], \"type\": \"heatmap\"}], \"heatmapgl\": [{\"colorbar\": {\"outlinewidth\": 0, \"tickcolor\": \"rgb(36,36,36)\", \"ticklen\": 8, \"ticks\": \"outside\", \"tickwidth\": 2}, \"colorscale\": [[0.0, \"rgb(2,4,25)\"], [0.06274509803921569, \"rgb(24,15,41)\"], [0.12549019607843137, \"rgb(47,23,57)\"], [0.18823529411764706, \"rgb(71,28,72)\"], [0.25098039215686274, \"rgb(97,30,82)\"], [0.3137254901960784, \"rgb(123,30,89)\"], [0.3764705882352941, \"rgb(150,27,91)\"], [0.4392156862745098, \"rgb(177,22,88)\"], [0.5019607843137255, \"rgb(203,26,79)\"], [0.5647058823529412, \"rgb(223,47,67)\"], [0.6274509803921569, \"rgb(236,76,61)\"], [0.6901960784313725, \"rgb(242,107,73)\"], [0.7529411764705882, \"rgb(244,135,95)\"], [0.8156862745098039, \"rgb(245,162,122)\"], [0.8784313725490196, \"rgb(246,188,153)\"], [0.9411764705882353, \"rgb(247,212,187)\"], [1.0, \"rgb(250,234,220)\"]], \"type\": \"heatmapgl\"}], \"histogram\": [{\"marker\": {\"colorbar\": {\"outlinewidth\": 0, \"tickcolor\": \"rgb(36,36,36)\", \"ticklen\": 8, \"ticks\": \"outside\", \"tickwidth\": 2}}, \"type\": \"histogram\"}], \"histogram2d\": [{\"colorbar\": {\"outlinewidth\": 0, \"tickcolor\": \"rgb(36,36,36)\", \"ticklen\": 8, \"ticks\": \"outside\", \"tickwidth\": 2}, \"colorscale\": [[0.0, \"rgb(2,4,25)\"], [0.06274509803921569, \"rgb(24,15,41)\"], [0.12549019607843137, \"rgb(47,23,57)\"], [0.18823529411764706, \"rgb(71,28,72)\"], [0.25098039215686274, \"rgb(97,30,82)\"], [0.3137254901960784, \"rgb(123,30,89)\"], [0.3764705882352941, \"rgb(150,27,91)\"], [0.4392156862745098, \"rgb(177,22,88)\"], [0.5019607843137255, \"rgb(203,26,79)\"], [0.5647058823529412, \"rgb(223,47,67)\"], [0.6274509803921569, \"rgb(236,76,61)\"], [0.6901960784313725, \"rgb(242,107,73)\"], [0.7529411764705882, \"rgb(244,135,95)\"], [0.8156862745098039, \"rgb(245,162,122)\"], [0.8784313725490196, \"rgb(246,188,153)\"], [0.9411764705882353, \"rgb(247,212,187)\"], [1.0, \"rgb(250,234,220)\"]], \"type\": \"histogram2d\"}], \"histogram2dcontour\": [{\"colorbar\": {\"outlinewidth\": 0, \"tickcolor\": \"rgb(36,36,36)\", \"ticklen\": 8, \"ticks\": \"outside\", \"tickwidth\": 2}, \"colorscale\": [[0.0, \"rgb(2,4,25)\"], [0.06274509803921569, \"rgb(24,15,41)\"], [0.12549019607843137, \"rgb(47,23,57)\"], [0.18823529411764706, \"rgb(71,28,72)\"], [0.25098039215686274, \"rgb(97,30,82)\"], [0.3137254901960784, \"rgb(123,30,89)\"], [0.3764705882352941, \"rgb(150,27,91)\"], [0.4392156862745098, \"rgb(177,22,88)\"], [0.5019607843137255, \"rgb(203,26,79)\"], [0.5647058823529412, \"rgb(223,47,67)\"], [0.6274509803921569, \"rgb(236,76,61)\"], [0.6901960784313725, \"rgb(242,107,73)\"], [0.7529411764705882, \"rgb(244,135,95)\"], [0.8156862745098039, \"rgb(245,162,122)\"], [0.8784313725490196, \"rgb(246,188,153)\"], [0.9411764705882353, \"rgb(247,212,187)\"], [1.0, \"rgb(250,234,220)\"]], \"type\": \"histogram2dcontour\"}], \"mesh3d\": [{\"colorbar\": {\"outlinewidth\": 0, \"tickcolor\": \"rgb(36,36,36)\", \"ticklen\": 8, \"ticks\": \"outside\", \"tickwidth\": 2}, \"type\": \"mesh3d\"}], \"parcoords\": [{\"line\": {\"colorbar\": {\"outlinewidth\": 0, \"tickcolor\": \"rgb(36,36,36)\", \"ticklen\": 8, \"ticks\": \"outside\", \"tickwidth\": 2}}, \"type\": \"parcoords\"}], \"pie\": [{\"automargin\": true, \"type\": \"pie\"}], \"scatter\": [{\"marker\": {\"colorbar\": {\"outlinewidth\": 0, \"tickcolor\": \"rgb(36,36,36)\", \"ticklen\": 8, \"ticks\": \"outside\", \"tickwidth\": 2}}, \"type\": \"scatter\"}], \"scatter3d\": [{\"line\": {\"colorbar\": {\"outlinewidth\": 0, \"tickcolor\": \"rgb(36,36,36)\", \"ticklen\": 8, \"ticks\": \"outside\", \"tickwidth\": 2}}, \"marker\": {\"colorbar\": {\"outlinewidth\": 0, \"tickcolor\": \"rgb(36,36,36)\", \"ticklen\": 8, \"ticks\": \"outside\", \"tickwidth\": 2}}, \"type\": \"scatter3d\"}], \"scattercarpet\": [{\"marker\": {\"colorbar\": {\"outlinewidth\": 0, \"tickcolor\": \"rgb(36,36,36)\", \"ticklen\": 8, \"ticks\": \"outside\", \"tickwidth\": 2}}, \"type\": \"scattercarpet\"}], \"scattergeo\": [{\"marker\": {\"colorbar\": {\"outlinewidth\": 0, \"tickcolor\": \"rgb(36,36,36)\", \"ticklen\": 8, \"ticks\": \"outside\", \"tickwidth\": 2}}, \"type\": \"scattergeo\"}], \"scattergl\": [{\"marker\": {\"colorbar\": {\"outlinewidth\": 0, \"tickcolor\": \"rgb(36,36,36)\", \"ticklen\": 8, \"ticks\": \"outside\", \"tickwidth\": 2}}, \"type\": \"scattergl\"}], \"scattermapbox\": [{\"marker\": {\"colorbar\": {\"outlinewidth\": 0, \"tickcolor\": \"rgb(36,36,36)\", \"ticklen\": 8, \"ticks\": \"outside\", \"tickwidth\": 2}}, \"type\": \"scattermapbox\"}], \"scatterpolar\": [{\"marker\": {\"colorbar\": {\"outlinewidth\": 0, \"tickcolor\": \"rgb(36,36,36)\", \"ticklen\": 8, \"ticks\": \"outside\", \"tickwidth\": 2}}, \"type\": \"scatterpolar\"}], \"scatterpolargl\": [{\"marker\": {\"colorbar\": {\"outlinewidth\": 0, \"tickcolor\": \"rgb(36,36,36)\", \"ticklen\": 8, \"ticks\": \"outside\", \"tickwidth\": 2}}, \"type\": \"scatterpolargl\"}], \"scatterternary\": [{\"marker\": {\"colorbar\": {\"outlinewidth\": 0, \"tickcolor\": \"rgb(36,36,36)\", \"ticklen\": 8, \"ticks\": \"outside\", \"tickwidth\": 2}}, \"type\": \"scatterternary\"}], \"surface\": [{\"colorbar\": {\"outlinewidth\": 0, \"tickcolor\": \"rgb(36,36,36)\", \"ticklen\": 8, \"ticks\": \"outside\", \"tickwidth\": 2}, \"colorscale\": [[0.0, \"rgb(2,4,25)\"], [0.06274509803921569, \"rgb(24,15,41)\"], [0.12549019607843137, \"rgb(47,23,57)\"], [0.18823529411764706, \"rgb(71,28,72)\"], [0.25098039215686274, \"rgb(97,30,82)\"], [0.3137254901960784, \"rgb(123,30,89)\"], [0.3764705882352941, \"rgb(150,27,91)\"], [0.4392156862745098, \"rgb(177,22,88)\"], [0.5019607843137255, \"rgb(203,26,79)\"], [0.5647058823529412, \"rgb(223,47,67)\"], [0.6274509803921569, \"rgb(236,76,61)\"], [0.6901960784313725, \"rgb(242,107,73)\"], [0.7529411764705882, \"rgb(244,135,95)\"], [0.8156862745098039, \"rgb(245,162,122)\"], [0.8784313725490196, \"rgb(246,188,153)\"], [0.9411764705882353, \"rgb(247,212,187)\"], [1.0, \"rgb(250,234,220)\"]], \"type\": \"surface\"}], \"table\": [{\"cells\": {\"fill\": {\"color\": \"rgb(231,231,240)\"}, \"line\": {\"color\": \"white\"}}, \"header\": {\"fill\": {\"color\": \"rgb(183,183,191)\"}, \"line\": {\"color\": \"white\"}}, \"type\": \"table\"}]}, \"layout\": {\"annotationdefaults\": {\"arrowcolor\": \"rgb(67,103,167)\"}, \"autotypenumbers\": \"strict\", \"coloraxis\": {\"colorbar\": {\"outlinewidth\": 0, \"tickcolor\": \"rgb(36,36,36)\", \"ticklen\": 8, \"ticks\": \"outside\", \"tickwidth\": 2}}, \"colorscale\": {\"sequential\": [[0.0, \"rgb(2,4,25)\"], [0.06274509803921569, \"rgb(24,15,41)\"], [0.12549019607843137, \"rgb(47,23,57)\"], [0.18823529411764706, \"rgb(71,28,72)\"], [0.25098039215686274, \"rgb(97,30,82)\"], [0.3137254901960784, \"rgb(123,30,89)\"], [0.3764705882352941, \"rgb(150,27,91)\"], [0.4392156862745098, \"rgb(177,22,88)\"], [0.5019607843137255, \"rgb(203,26,79)\"], [0.5647058823529412, \"rgb(223,47,67)\"], [0.6274509803921569, \"rgb(236,76,61)\"], [0.6901960784313725, \"rgb(242,107,73)\"], [0.7529411764705882, \"rgb(244,135,95)\"], [0.8156862745098039, \"rgb(245,162,122)\"], [0.8784313725490196, \"rgb(246,188,153)\"], [0.9411764705882353, \"rgb(247,212,187)\"], [1.0, \"rgb(250,234,220)\"]], \"sequentialminus\": [[0.0, \"rgb(2,4,25)\"], [0.06274509803921569, \"rgb(24,15,41)\"], [0.12549019607843137, \"rgb(47,23,57)\"], [0.18823529411764706, \"rgb(71,28,72)\"], [0.25098039215686274, \"rgb(97,30,82)\"], [0.3137254901960784, \"rgb(123,30,89)\"], [0.3764705882352941, \"rgb(150,27,91)\"], [0.4392156862745098, \"rgb(177,22,88)\"], [0.5019607843137255, \"rgb(203,26,79)\"], [0.5647058823529412, \"rgb(223,47,67)\"], [0.6274509803921569, \"rgb(236,76,61)\"], [0.6901960784313725, \"rgb(242,107,73)\"], [0.7529411764705882, \"rgb(244,135,95)\"], [0.8156862745098039, \"rgb(245,162,122)\"], [0.8784313725490196, \"rgb(246,188,153)\"], [0.9411764705882353, \"rgb(247,212,187)\"], [1.0, \"rgb(250,234,220)\"]]}, \"colorway\": [\"rgb(76,114,176)\", \"rgb(221,132,82)\", \"rgb(85,168,104)\", \"rgb(196,78,82)\", \"rgb(129,114,179)\", \"rgb(147,120,96)\", \"rgb(218,139,195)\", \"rgb(140,140,140)\", \"rgb(204,185,116)\", \"rgb(100,181,205)\"], \"font\": {\"color\": \"rgb(36,36,36)\"}, \"geo\": {\"bgcolor\": \"white\", \"lakecolor\": \"white\", \"landcolor\": \"rgb(234,234,242)\", \"showlakes\": true, \"showland\": true, \"subunitcolor\": \"white\"}, \"hoverlabel\": {\"align\": \"left\"}, \"hovermode\": \"closest\", \"paper_bgcolor\": \"white\", \"plot_bgcolor\": \"rgb(234,234,242)\", \"polar\": {\"angularaxis\": {\"gridcolor\": \"white\", \"linecolor\": \"white\", \"showgrid\": true, \"ticks\": \"\"}, \"bgcolor\": \"rgb(234,234,242)\", \"radialaxis\": {\"gridcolor\": \"white\", \"linecolor\": \"white\", \"showgrid\": true, \"ticks\": \"\"}}, \"scene\": {\"xaxis\": {\"backgroundcolor\": \"rgb(234,234,242)\", \"gridcolor\": \"white\", \"gridwidth\": 2, \"linecolor\": \"white\", \"showbackground\": true, \"showgrid\": true, \"ticks\": \"\", \"zerolinecolor\": \"white\"}, \"yaxis\": {\"backgroundcolor\": \"rgb(234,234,242)\", \"gridcolor\": \"white\", \"gridwidth\": 2, \"linecolor\": \"white\", \"showbackground\": true, \"showgrid\": true, \"ticks\": \"\", \"zerolinecolor\": \"white\"}, \"zaxis\": {\"backgroundcolor\": \"rgb(234,234,242)\", \"gridcolor\": \"white\", \"gridwidth\": 2, \"linecolor\": \"white\", \"showbackground\": true, \"showgrid\": true, \"ticks\": \"\", \"zerolinecolor\": \"white\"}}, \"shapedefaults\": {\"fillcolor\": \"rgb(67,103,167)\", \"line\": {\"width\": 0}, \"opacity\": 0.5}, \"ternary\": {\"aaxis\": {\"gridcolor\": \"white\", \"linecolor\": \"white\", \"showgrid\": true, \"ticks\": \"\"}, \"baxis\": {\"gridcolor\": \"white\", \"linecolor\": \"white\", \"showgrid\": true, \"ticks\": \"\"}, \"bgcolor\": \"rgb(234,234,242)\", \"caxis\": {\"gridcolor\": \"white\", \"linecolor\": \"white\", \"showgrid\": true, \"ticks\": \"\"}}, \"xaxis\": {\"automargin\": true, \"gridcolor\": \"white\", \"linecolor\": \"white\", \"showgrid\": true, \"ticks\": \"\", \"title\": {\"standoff\": 15}, \"zerolinecolor\": \"white\"}, \"yaxis\": {\"automargin\": true, \"gridcolor\": \"white\", \"linecolor\": \"white\", \"showgrid\": true, \"ticks\": \"\", \"title\": {\"standoff\": 15}, \"zerolinecolor\": \"white\"}}}, \"title\": {\"text\": \"Monthly sales\", \"x\": 0.5}, \"xaxis\": {\"anchor\": \"y\", \"categoryarray\": [\"01\", \"02\", \"03\", \"04\", \"05\", \"06\", \"07\", \"08\", \"09\", \"10\", \"11\", \"12\"], \"categoryorder\": \"array\", \"domain\": [0.0, 1.0], \"title\": {\"text\": \"month\"}}, \"yaxis\": {\"anchor\": \"x\", \"domain\": [0.0, 1.0], \"title\": {\"text\": \"price\"}}},                        {\"responsive\": true}                    ).then(function(){\n",
       "                            \n",
       "var gd = document.getElementById('f34b0258-2281-4213-bf33-25258e325e47');\n",
       "var x = new MutationObserver(function (mutations, observer) {{\n",
       "        var display = window.getComputedStyle(gd).display;\n",
       "        if (!display || display === 'none') {{\n",
       "            console.log([gd, 'removed!']);\n",
       "            Plotly.purge(gd);\n",
       "            observer.disconnect();\n",
       "        }}\n",
       "}});\n",
       "\n",
       "// Listen for the removal of the full notebook cells\n",
       "var notebookContainer = gd.closest('#notebook-container');\n",
       "if (notebookContainer) {{\n",
       "    x.observe(notebookContainer, {childList: true});\n",
       "}}\n",
       "\n",
       "// Listen for the clearing of the current output cell\n",
       "var outputEl = gd.closest('.output');\n",
       "if (outputEl) {{\n",
       "    x.observe(outputEl, {childList: true});\n",
       "}}\n",
       "\n",
       "                        })                };                });            </script>        </div>"
      ]
     },
     "metadata": {},
     "output_type": "display_data"
    }
   ],
   "source": [
    "monthly_sales = orders_list.groupby([\"month\"],as_index=False)[\"price\"].sum().sort_values('month')\n",
    "\n",
    "fig = px.bar(monthly_sales,x='month', y='price',color = 'month')\n",
    "fig.update_layout(title_text='Monthly sales',title_x=0.5\n",
    "                  ,template='seaborn')\n",
    "fig.show()"
   ]
  },
  {
   "cell_type": "code",
   "execution_count": 24,
   "metadata": {
    "scrolled": true
   },
   "outputs": [
    {
     "data": {
      "application/vnd.plotly.v1+json": {
       "config": {
        "plotlyServerURL": "https://plot.ly"
       },
       "data": [
        {
         "domain": {
          "x": [
           0,
           1
          ],
          "y": [
           0,
           1
          ]
         },
         "hovertemplate": "index=%{label}<br>order_status=%{value}<extra></extra>",
         "labels": [
          "delivered",
          "shipped",
          "canceled",
          "unavailable",
          "invoiced",
          "processing",
          "created",
          "approved"
         ],
         "legendgroup": "",
         "name": "",
         "showlegend": true,
         "type": "pie",
         "values": [
          96478,
          1107,
          625,
          609,
          314,
          301,
          5,
          2
         ]
        }
       ],
       "layout": {
        "legend": {
         "tracegroupgap": 0
        },
        "piecolorway": [
         "rgb(142,1,82)",
         "rgb(197,27,125)",
         "rgb(222,119,174)",
         "rgb(241,182,218)",
         "rgb(253,224,239)",
         "rgb(247,247,247)",
         "rgb(230,245,208)",
         "rgb(184,225,134)",
         "rgb(127,188,65)",
         "rgb(77,146,33)",
         "rgb(39,100,25)"
        ],
        "template": {
         "data": {
          "bar": [
           {
            "error_x": {
             "color": "#2a3f5f"
            },
            "error_y": {
             "color": "#2a3f5f"
            },
            "marker": {
             "line": {
              "color": "#E5ECF6",
              "width": 0.5
             }
            },
            "type": "bar"
           }
          ],
          "barpolar": [
           {
            "marker": {
             "line": {
              "color": "#E5ECF6",
              "width": 0.5
             }
            },
            "type": "barpolar"
           }
          ],
          "carpet": [
           {
            "aaxis": {
             "endlinecolor": "#2a3f5f",
             "gridcolor": "white",
             "linecolor": "white",
             "minorgridcolor": "white",
             "startlinecolor": "#2a3f5f"
            },
            "baxis": {
             "endlinecolor": "#2a3f5f",
             "gridcolor": "white",
             "linecolor": "white",
             "minorgridcolor": "white",
             "startlinecolor": "#2a3f5f"
            },
            "type": "carpet"
           }
          ],
          "choropleth": [
           {
            "colorbar": {
             "outlinewidth": 0,
             "ticks": ""
            },
            "type": "choropleth"
           }
          ],
          "contour": [
           {
            "colorbar": {
             "outlinewidth": 0,
             "ticks": ""
            },
            "colorscale": [
             [
              0,
              "#0d0887"
             ],
             [
              0.1111111111111111,
              "#46039f"
             ],
             [
              0.2222222222222222,
              "#7201a8"
             ],
             [
              0.3333333333333333,
              "#9c179e"
             ],
             [
              0.4444444444444444,
              "#bd3786"
             ],
             [
              0.5555555555555556,
              "#d8576b"
             ],
             [
              0.6666666666666666,
              "#ed7953"
             ],
             [
              0.7777777777777778,
              "#fb9f3a"
             ],
             [
              0.8888888888888888,
              "#fdca26"
             ],
             [
              1,
              "#f0f921"
             ]
            ],
            "type": "contour"
           }
          ],
          "contourcarpet": [
           {
            "colorbar": {
             "outlinewidth": 0,
             "ticks": ""
            },
            "type": "contourcarpet"
           }
          ],
          "heatmap": [
           {
            "colorbar": {
             "outlinewidth": 0,
             "ticks": ""
            },
            "colorscale": [
             [
              0,
              "#0d0887"
             ],
             [
              0.1111111111111111,
              "#46039f"
             ],
             [
              0.2222222222222222,
              "#7201a8"
             ],
             [
              0.3333333333333333,
              "#9c179e"
             ],
             [
              0.4444444444444444,
              "#bd3786"
             ],
             [
              0.5555555555555556,
              "#d8576b"
             ],
             [
              0.6666666666666666,
              "#ed7953"
             ],
             [
              0.7777777777777778,
              "#fb9f3a"
             ],
             [
              0.8888888888888888,
              "#fdca26"
             ],
             [
              1,
              "#f0f921"
             ]
            ],
            "type": "heatmap"
           }
          ],
          "heatmapgl": [
           {
            "colorbar": {
             "outlinewidth": 0,
             "ticks": ""
            },
            "colorscale": [
             [
              0,
              "#0d0887"
             ],
             [
              0.1111111111111111,
              "#46039f"
             ],
             [
              0.2222222222222222,
              "#7201a8"
             ],
             [
              0.3333333333333333,
              "#9c179e"
             ],
             [
              0.4444444444444444,
              "#bd3786"
             ],
             [
              0.5555555555555556,
              "#d8576b"
             ],
             [
              0.6666666666666666,
              "#ed7953"
             ],
             [
              0.7777777777777778,
              "#fb9f3a"
             ],
             [
              0.8888888888888888,
              "#fdca26"
             ],
             [
              1,
              "#f0f921"
             ]
            ],
            "type": "heatmapgl"
           }
          ],
          "histogram": [
           {
            "marker": {
             "colorbar": {
              "outlinewidth": 0,
              "ticks": ""
             }
            },
            "type": "histogram"
           }
          ],
          "histogram2d": [
           {
            "colorbar": {
             "outlinewidth": 0,
             "ticks": ""
            },
            "colorscale": [
             [
              0,
              "#0d0887"
             ],
             [
              0.1111111111111111,
              "#46039f"
             ],
             [
              0.2222222222222222,
              "#7201a8"
             ],
             [
              0.3333333333333333,
              "#9c179e"
             ],
             [
              0.4444444444444444,
              "#bd3786"
             ],
             [
              0.5555555555555556,
              "#d8576b"
             ],
             [
              0.6666666666666666,
              "#ed7953"
             ],
             [
              0.7777777777777778,
              "#fb9f3a"
             ],
             [
              0.8888888888888888,
              "#fdca26"
             ],
             [
              1,
              "#f0f921"
             ]
            ],
            "type": "histogram2d"
           }
          ],
          "histogram2dcontour": [
           {
            "colorbar": {
             "outlinewidth": 0,
             "ticks": ""
            },
            "colorscale": [
             [
              0,
              "#0d0887"
             ],
             [
              0.1111111111111111,
              "#46039f"
             ],
             [
              0.2222222222222222,
              "#7201a8"
             ],
             [
              0.3333333333333333,
              "#9c179e"
             ],
             [
              0.4444444444444444,
              "#bd3786"
             ],
             [
              0.5555555555555556,
              "#d8576b"
             ],
             [
              0.6666666666666666,
              "#ed7953"
             ],
             [
              0.7777777777777778,
              "#fb9f3a"
             ],
             [
              0.8888888888888888,
              "#fdca26"
             ],
             [
              1,
              "#f0f921"
             ]
            ],
            "type": "histogram2dcontour"
           }
          ],
          "mesh3d": [
           {
            "colorbar": {
             "outlinewidth": 0,
             "ticks": ""
            },
            "type": "mesh3d"
           }
          ],
          "parcoords": [
           {
            "line": {
             "colorbar": {
              "outlinewidth": 0,
              "ticks": ""
             }
            },
            "type": "parcoords"
           }
          ],
          "pie": [
           {
            "automargin": true,
            "type": "pie"
           }
          ],
          "scatter": [
           {
            "marker": {
             "colorbar": {
              "outlinewidth": 0,
              "ticks": ""
             }
            },
            "type": "scatter"
           }
          ],
          "scatter3d": [
           {
            "line": {
             "colorbar": {
              "outlinewidth": 0,
              "ticks": ""
             }
            },
            "marker": {
             "colorbar": {
              "outlinewidth": 0,
              "ticks": ""
             }
            },
            "type": "scatter3d"
           }
          ],
          "scattercarpet": [
           {
            "marker": {
             "colorbar": {
              "outlinewidth": 0,
              "ticks": ""
             }
            },
            "type": "scattercarpet"
           }
          ],
          "scattergeo": [
           {
            "marker": {
             "colorbar": {
              "outlinewidth": 0,
              "ticks": ""
             }
            },
            "type": "scattergeo"
           }
          ],
          "scattergl": [
           {
            "marker": {
             "colorbar": {
              "outlinewidth": 0,
              "ticks": ""
             }
            },
            "type": "scattergl"
           }
          ],
          "scattermapbox": [
           {
            "marker": {
             "colorbar": {
              "outlinewidth": 0,
              "ticks": ""
             }
            },
            "type": "scattermapbox"
           }
          ],
          "scatterpolar": [
           {
            "marker": {
             "colorbar": {
              "outlinewidth": 0,
              "ticks": ""
             }
            },
            "type": "scatterpolar"
           }
          ],
          "scatterpolargl": [
           {
            "marker": {
             "colorbar": {
              "outlinewidth": 0,
              "ticks": ""
             }
            },
            "type": "scatterpolargl"
           }
          ],
          "scatterternary": [
           {
            "marker": {
             "colorbar": {
              "outlinewidth": 0,
              "ticks": ""
             }
            },
            "type": "scatterternary"
           }
          ],
          "surface": [
           {
            "colorbar": {
             "outlinewidth": 0,
             "ticks": ""
            },
            "colorscale": [
             [
              0,
              "#0d0887"
             ],
             [
              0.1111111111111111,
              "#46039f"
             ],
             [
              0.2222222222222222,
              "#7201a8"
             ],
             [
              0.3333333333333333,
              "#9c179e"
             ],
             [
              0.4444444444444444,
              "#bd3786"
             ],
             [
              0.5555555555555556,
              "#d8576b"
             ],
             [
              0.6666666666666666,
              "#ed7953"
             ],
             [
              0.7777777777777778,
              "#fb9f3a"
             ],
             [
              0.8888888888888888,
              "#fdca26"
             ],
             [
              1,
              "#f0f921"
             ]
            ],
            "type": "surface"
           }
          ],
          "table": [
           {
            "cells": {
             "fill": {
              "color": "#EBF0F8"
             },
             "line": {
              "color": "white"
             }
            },
            "header": {
             "fill": {
              "color": "#C8D4E3"
             },
             "line": {
              "color": "white"
             }
            },
            "type": "table"
           }
          ]
         },
         "layout": {
          "annotationdefaults": {
           "arrowcolor": "#2a3f5f",
           "arrowhead": 0,
           "arrowwidth": 1
          },
          "autotypenumbers": "strict",
          "coloraxis": {
           "colorbar": {
            "outlinewidth": 0,
            "ticks": ""
           }
          },
          "colorscale": {
           "diverging": [
            [
             0,
             "#8e0152"
            ],
            [
             0.1,
             "#c51b7d"
            ],
            [
             0.2,
             "#de77ae"
            ],
            [
             0.3,
             "#f1b6da"
            ],
            [
             0.4,
             "#fde0ef"
            ],
            [
             0.5,
             "#f7f7f7"
            ],
            [
             0.6,
             "#e6f5d0"
            ],
            [
             0.7,
             "#b8e186"
            ],
            [
             0.8,
             "#7fbc41"
            ],
            [
             0.9,
             "#4d9221"
            ],
            [
             1,
             "#276419"
            ]
           ],
           "sequential": [
            [
             0,
             "#0d0887"
            ],
            [
             0.1111111111111111,
             "#46039f"
            ],
            [
             0.2222222222222222,
             "#7201a8"
            ],
            [
             0.3333333333333333,
             "#9c179e"
            ],
            [
             0.4444444444444444,
             "#bd3786"
            ],
            [
             0.5555555555555556,
             "#d8576b"
            ],
            [
             0.6666666666666666,
             "#ed7953"
            ],
            [
             0.7777777777777778,
             "#fb9f3a"
            ],
            [
             0.8888888888888888,
             "#fdca26"
            ],
            [
             1,
             "#f0f921"
            ]
           ],
           "sequentialminus": [
            [
             0,
             "#0d0887"
            ],
            [
             0.1111111111111111,
             "#46039f"
            ],
            [
             0.2222222222222222,
             "#7201a8"
            ],
            [
             0.3333333333333333,
             "#9c179e"
            ],
            [
             0.4444444444444444,
             "#bd3786"
            ],
            [
             0.5555555555555556,
             "#d8576b"
            ],
            [
             0.6666666666666666,
             "#ed7953"
            ],
            [
             0.7777777777777778,
             "#fb9f3a"
            ],
            [
             0.8888888888888888,
             "#fdca26"
            ],
            [
             1,
             "#f0f921"
            ]
           ]
          },
          "colorway": [
           "#636efa",
           "#EF553B",
           "#00cc96",
           "#ab63fa",
           "#FFA15A",
           "#19d3f3",
           "#FF6692",
           "#B6E880",
           "#FF97FF",
           "#FECB52"
          ],
          "font": {
           "color": "#2a3f5f"
          },
          "geo": {
           "bgcolor": "white",
           "lakecolor": "white",
           "landcolor": "#E5ECF6",
           "showlakes": true,
           "showland": true,
           "subunitcolor": "white"
          },
          "hoverlabel": {
           "align": "left"
          },
          "hovermode": "closest",
          "mapbox": {
           "style": "light"
          },
          "paper_bgcolor": "white",
          "plot_bgcolor": "#E5ECF6",
          "polar": {
           "angularaxis": {
            "gridcolor": "white",
            "linecolor": "white",
            "ticks": ""
           },
           "bgcolor": "#E5ECF6",
           "radialaxis": {
            "gridcolor": "white",
            "linecolor": "white",
            "ticks": ""
           }
          },
          "scene": {
           "xaxis": {
            "backgroundcolor": "#E5ECF6",
            "gridcolor": "white",
            "gridwidth": 2,
            "linecolor": "white",
            "showbackground": true,
            "ticks": "",
            "zerolinecolor": "white"
           },
           "yaxis": {
            "backgroundcolor": "#E5ECF6",
            "gridcolor": "white",
            "gridwidth": 2,
            "linecolor": "white",
            "showbackground": true,
            "ticks": "",
            "zerolinecolor": "white"
           },
           "zaxis": {
            "backgroundcolor": "#E5ECF6",
            "gridcolor": "white",
            "gridwidth": 2,
            "linecolor": "white",
            "showbackground": true,
            "ticks": "",
            "zerolinecolor": "white"
           }
          },
          "shapedefaults": {
           "line": {
            "color": "#2a3f5f"
           }
          },
          "ternary": {
           "aaxis": {
            "gridcolor": "white",
            "linecolor": "white",
            "ticks": ""
           },
           "baxis": {
            "gridcolor": "white",
            "linecolor": "white",
            "ticks": ""
           },
           "bgcolor": "#E5ECF6",
           "caxis": {
            "gridcolor": "white",
            "linecolor": "white",
            "ticks": ""
           }
          },
          "title": {
           "x": 0.05
          },
          "xaxis": {
           "automargin": true,
           "gridcolor": "white",
           "linecolor": "white",
           "ticks": "",
           "title": {
            "standoff": 15
           },
           "zerolinecolor": "white",
           "zerolinewidth": 2
          },
          "yaxis": {
           "automargin": true,
           "gridcolor": "white",
           "linecolor": "white",
           "ticks": "",
           "title": {
            "standoff": 15
           },
           "zerolinecolor": "white",
           "zerolinewidth": 2
          }
         }
        },
        "title": {
         "text": "Percentage counts of order status"
        }
       }
      },
      "text/html": [
       "<div>                            <div id=\"8b5709da-3b08-49ea-b2ea-44dc5fb6b0c7\" class=\"plotly-graph-div\" style=\"height:525px; width:100%;\"></div>            <script type=\"text/javascript\">                require([\"plotly\"], function(Plotly) {                    window.PLOTLYENV=window.PLOTLYENV || {};                                    if (document.getElementById(\"8b5709da-3b08-49ea-b2ea-44dc5fb6b0c7\")) {                    Plotly.newPlot(                        \"8b5709da-3b08-49ea-b2ea-44dc5fb6b0c7\",                        [{\"domain\": {\"x\": [0.0, 1.0], \"y\": [0.0, 1.0]}, \"hovertemplate\": \"index=%{label}<br>order_status=%{value}<extra></extra>\", \"labels\": [\"delivered\", \"shipped\", \"canceled\", \"unavailable\", \"invoiced\", \"processing\", \"created\", \"approved\"], \"legendgroup\": \"\", \"name\": \"\", \"showlegend\": true, \"type\": \"pie\", \"values\": [96478, 1107, 625, 609, 314, 301, 5, 2]}],                        {\"legend\": {\"tracegroupgap\": 0}, \"piecolorway\": [\"rgb(142,1,82)\", \"rgb(197,27,125)\", \"rgb(222,119,174)\", \"rgb(241,182,218)\", \"rgb(253,224,239)\", \"rgb(247,247,247)\", \"rgb(230,245,208)\", \"rgb(184,225,134)\", \"rgb(127,188,65)\", \"rgb(77,146,33)\", \"rgb(39,100,25)\"], \"template\": {\"data\": {\"bar\": [{\"error_x\": {\"color\": \"#2a3f5f\"}, \"error_y\": {\"color\": \"#2a3f5f\"}, \"marker\": {\"line\": {\"color\": \"#E5ECF6\", \"width\": 0.5}}, \"type\": \"bar\"}], \"barpolar\": [{\"marker\": {\"line\": {\"color\": \"#E5ECF6\", \"width\": 0.5}}, \"type\": \"barpolar\"}], \"carpet\": [{\"aaxis\": {\"endlinecolor\": \"#2a3f5f\", \"gridcolor\": \"white\", \"linecolor\": \"white\", \"minorgridcolor\": \"white\", \"startlinecolor\": \"#2a3f5f\"}, \"baxis\": {\"endlinecolor\": \"#2a3f5f\", \"gridcolor\": \"white\", \"linecolor\": \"white\", \"minorgridcolor\": \"white\", \"startlinecolor\": \"#2a3f5f\"}, \"type\": \"carpet\"}], \"choropleth\": [{\"colorbar\": {\"outlinewidth\": 0, \"ticks\": \"\"}, \"type\": \"choropleth\"}], \"contour\": [{\"colorbar\": {\"outlinewidth\": 0, \"ticks\": \"\"}, \"colorscale\": [[0.0, \"#0d0887\"], [0.1111111111111111, \"#46039f\"], [0.2222222222222222, \"#7201a8\"], [0.3333333333333333, \"#9c179e\"], [0.4444444444444444, \"#bd3786\"], [0.5555555555555556, \"#d8576b\"], [0.6666666666666666, \"#ed7953\"], [0.7777777777777778, \"#fb9f3a\"], [0.8888888888888888, \"#fdca26\"], [1.0, \"#f0f921\"]], \"type\": \"contour\"}], \"contourcarpet\": [{\"colorbar\": {\"outlinewidth\": 0, \"ticks\": \"\"}, \"type\": \"contourcarpet\"}], \"heatmap\": [{\"colorbar\": {\"outlinewidth\": 0, \"ticks\": \"\"}, \"colorscale\": [[0.0, \"#0d0887\"], [0.1111111111111111, \"#46039f\"], [0.2222222222222222, \"#7201a8\"], [0.3333333333333333, \"#9c179e\"], [0.4444444444444444, \"#bd3786\"], [0.5555555555555556, \"#d8576b\"], [0.6666666666666666, \"#ed7953\"], [0.7777777777777778, \"#fb9f3a\"], [0.8888888888888888, \"#fdca26\"], [1.0, \"#f0f921\"]], \"type\": \"heatmap\"}], \"heatmapgl\": [{\"colorbar\": {\"outlinewidth\": 0, \"ticks\": \"\"}, \"colorscale\": [[0.0, \"#0d0887\"], [0.1111111111111111, \"#46039f\"], [0.2222222222222222, \"#7201a8\"], [0.3333333333333333, \"#9c179e\"], [0.4444444444444444, \"#bd3786\"], [0.5555555555555556, \"#d8576b\"], [0.6666666666666666, \"#ed7953\"], [0.7777777777777778, \"#fb9f3a\"], [0.8888888888888888, \"#fdca26\"], [1.0, \"#f0f921\"]], \"type\": \"heatmapgl\"}], \"histogram\": [{\"marker\": {\"colorbar\": {\"outlinewidth\": 0, \"ticks\": \"\"}}, \"type\": \"histogram\"}], \"histogram2d\": [{\"colorbar\": {\"outlinewidth\": 0, \"ticks\": \"\"}, \"colorscale\": [[0.0, \"#0d0887\"], [0.1111111111111111, \"#46039f\"], [0.2222222222222222, \"#7201a8\"], [0.3333333333333333, \"#9c179e\"], [0.4444444444444444, \"#bd3786\"], [0.5555555555555556, \"#d8576b\"], [0.6666666666666666, \"#ed7953\"], [0.7777777777777778, \"#fb9f3a\"], [0.8888888888888888, \"#fdca26\"], [1.0, \"#f0f921\"]], \"type\": \"histogram2d\"}], \"histogram2dcontour\": [{\"colorbar\": {\"outlinewidth\": 0, \"ticks\": \"\"}, \"colorscale\": [[0.0, \"#0d0887\"], [0.1111111111111111, \"#46039f\"], [0.2222222222222222, \"#7201a8\"], [0.3333333333333333, \"#9c179e\"], [0.4444444444444444, \"#bd3786\"], [0.5555555555555556, \"#d8576b\"], [0.6666666666666666, \"#ed7953\"], [0.7777777777777778, \"#fb9f3a\"], [0.8888888888888888, \"#fdca26\"], [1.0, \"#f0f921\"]], \"type\": \"histogram2dcontour\"}], \"mesh3d\": [{\"colorbar\": {\"outlinewidth\": 0, \"ticks\": \"\"}, \"type\": \"mesh3d\"}], \"parcoords\": [{\"line\": {\"colorbar\": {\"outlinewidth\": 0, \"ticks\": \"\"}}, \"type\": \"parcoords\"}], \"pie\": [{\"automargin\": true, \"type\": \"pie\"}], \"scatter\": [{\"marker\": {\"colorbar\": {\"outlinewidth\": 0, \"ticks\": \"\"}}, \"type\": \"scatter\"}], \"scatter3d\": [{\"line\": {\"colorbar\": {\"outlinewidth\": 0, \"ticks\": \"\"}}, \"marker\": {\"colorbar\": {\"outlinewidth\": 0, \"ticks\": \"\"}}, \"type\": \"scatter3d\"}], \"scattercarpet\": [{\"marker\": {\"colorbar\": {\"outlinewidth\": 0, \"ticks\": \"\"}}, \"type\": \"scattercarpet\"}], \"scattergeo\": [{\"marker\": {\"colorbar\": {\"outlinewidth\": 0, \"ticks\": \"\"}}, \"type\": \"scattergeo\"}], \"scattergl\": [{\"marker\": {\"colorbar\": {\"outlinewidth\": 0, \"ticks\": \"\"}}, \"type\": \"scattergl\"}], \"scattermapbox\": [{\"marker\": {\"colorbar\": {\"outlinewidth\": 0, \"ticks\": \"\"}}, \"type\": \"scattermapbox\"}], \"scatterpolar\": [{\"marker\": {\"colorbar\": {\"outlinewidth\": 0, \"ticks\": \"\"}}, \"type\": \"scatterpolar\"}], \"scatterpolargl\": [{\"marker\": {\"colorbar\": {\"outlinewidth\": 0, \"ticks\": \"\"}}, \"type\": \"scatterpolargl\"}], \"scatterternary\": [{\"marker\": {\"colorbar\": {\"outlinewidth\": 0, \"ticks\": \"\"}}, \"type\": \"scatterternary\"}], \"surface\": [{\"colorbar\": {\"outlinewidth\": 0, \"ticks\": \"\"}, \"colorscale\": [[0.0, \"#0d0887\"], [0.1111111111111111, \"#46039f\"], [0.2222222222222222, \"#7201a8\"], [0.3333333333333333, \"#9c179e\"], [0.4444444444444444, \"#bd3786\"], [0.5555555555555556, \"#d8576b\"], [0.6666666666666666, \"#ed7953\"], [0.7777777777777778, \"#fb9f3a\"], [0.8888888888888888, \"#fdca26\"], [1.0, \"#f0f921\"]], \"type\": \"surface\"}], \"table\": [{\"cells\": {\"fill\": {\"color\": \"#EBF0F8\"}, \"line\": {\"color\": \"white\"}}, \"header\": {\"fill\": {\"color\": \"#C8D4E3\"}, \"line\": {\"color\": \"white\"}}, \"type\": \"table\"}]}, \"layout\": {\"annotationdefaults\": {\"arrowcolor\": \"#2a3f5f\", \"arrowhead\": 0, \"arrowwidth\": 1}, \"autotypenumbers\": \"strict\", \"coloraxis\": {\"colorbar\": {\"outlinewidth\": 0, \"ticks\": \"\"}}, \"colorscale\": {\"diverging\": [[0, \"#8e0152\"], [0.1, \"#c51b7d\"], [0.2, \"#de77ae\"], [0.3, \"#f1b6da\"], [0.4, \"#fde0ef\"], [0.5, \"#f7f7f7\"], [0.6, \"#e6f5d0\"], [0.7, \"#b8e186\"], [0.8, \"#7fbc41\"], [0.9, \"#4d9221\"], [1, \"#276419\"]], \"sequential\": [[0.0, \"#0d0887\"], [0.1111111111111111, \"#46039f\"], [0.2222222222222222, \"#7201a8\"], [0.3333333333333333, \"#9c179e\"], [0.4444444444444444, \"#bd3786\"], [0.5555555555555556, \"#d8576b\"], [0.6666666666666666, \"#ed7953\"], [0.7777777777777778, \"#fb9f3a\"], [0.8888888888888888, \"#fdca26\"], [1.0, \"#f0f921\"]], \"sequentialminus\": [[0.0, \"#0d0887\"], [0.1111111111111111, \"#46039f\"], [0.2222222222222222, \"#7201a8\"], [0.3333333333333333, \"#9c179e\"], [0.4444444444444444, \"#bd3786\"], [0.5555555555555556, \"#d8576b\"], [0.6666666666666666, \"#ed7953\"], [0.7777777777777778, \"#fb9f3a\"], [0.8888888888888888, \"#fdca26\"], [1.0, \"#f0f921\"]]}, \"colorway\": [\"#636efa\", \"#EF553B\", \"#00cc96\", \"#ab63fa\", \"#FFA15A\", \"#19d3f3\", \"#FF6692\", \"#B6E880\", \"#FF97FF\", \"#FECB52\"], \"font\": {\"color\": \"#2a3f5f\"}, \"geo\": {\"bgcolor\": \"white\", \"lakecolor\": \"white\", \"landcolor\": \"#E5ECF6\", \"showlakes\": true, \"showland\": true, \"subunitcolor\": \"white\"}, \"hoverlabel\": {\"align\": \"left\"}, \"hovermode\": \"closest\", \"mapbox\": {\"style\": \"light\"}, \"paper_bgcolor\": \"white\", \"plot_bgcolor\": \"#E5ECF6\", \"polar\": {\"angularaxis\": {\"gridcolor\": \"white\", \"linecolor\": \"white\", \"ticks\": \"\"}, \"bgcolor\": \"#E5ECF6\", \"radialaxis\": {\"gridcolor\": \"white\", \"linecolor\": \"white\", \"ticks\": \"\"}}, \"scene\": {\"xaxis\": {\"backgroundcolor\": \"#E5ECF6\", \"gridcolor\": \"white\", \"gridwidth\": 2, \"linecolor\": \"white\", \"showbackground\": true, \"ticks\": \"\", \"zerolinecolor\": \"white\"}, \"yaxis\": {\"backgroundcolor\": \"#E5ECF6\", \"gridcolor\": \"white\", \"gridwidth\": 2, \"linecolor\": \"white\", \"showbackground\": true, \"ticks\": \"\", \"zerolinecolor\": \"white\"}, \"zaxis\": {\"backgroundcolor\": \"#E5ECF6\", \"gridcolor\": \"white\", \"gridwidth\": 2, \"linecolor\": \"white\", \"showbackground\": true, \"ticks\": \"\", \"zerolinecolor\": \"white\"}}, \"shapedefaults\": {\"line\": {\"color\": \"#2a3f5f\"}}, \"ternary\": {\"aaxis\": {\"gridcolor\": \"white\", \"linecolor\": \"white\", \"ticks\": \"\"}, \"baxis\": {\"gridcolor\": \"white\", \"linecolor\": \"white\", \"ticks\": \"\"}, \"bgcolor\": \"#E5ECF6\", \"caxis\": {\"gridcolor\": \"white\", \"linecolor\": \"white\", \"ticks\": \"\"}}, \"title\": {\"x\": 0.05}, \"xaxis\": {\"automargin\": true, \"gridcolor\": \"white\", \"linecolor\": \"white\", \"ticks\": \"\", \"title\": {\"standoff\": 15}, \"zerolinecolor\": \"white\", \"zerolinewidth\": 2}, \"yaxis\": {\"automargin\": true, \"gridcolor\": \"white\", \"linecolor\": \"white\", \"ticks\": \"\", \"title\": {\"standoff\": 15}, \"zerolinecolor\": \"white\", \"zerolinewidth\": 2}}}, \"title\": {\"text\": \"Percentage counts of order status\"}},                        {\"responsive\": true}                    ).then(function(){\n",
       "                            \n",
       "var gd = document.getElementById('8b5709da-3b08-49ea-b2ea-44dc5fb6b0c7');\n",
       "var x = new MutationObserver(function (mutations, observer) {{\n",
       "        var display = window.getComputedStyle(gd).display;\n",
       "        if (!display || display === 'none') {{\n",
       "            console.log([gd, 'removed!']);\n",
       "            Plotly.purge(gd);\n",
       "            observer.disconnect();\n",
       "        }}\n",
       "}});\n",
       "\n",
       "// Listen for the removal of the full notebook cells\n",
       "var notebookContainer = gd.closest('#notebook-container');\n",
       "if (notebookContainer) {{\n",
       "    x.observe(notebookContainer, {childList: true});\n",
       "}}\n",
       "\n",
       "// Listen for the clearing of the current output cell\n",
       "var outputEl = gd.closest('.output');\n",
       "if (outputEl) {{\n",
       "    x.observe(outputEl, {childList: true});\n",
       "}}\n",
       "\n",
       "                        })                };                });            </script>        </div>"
      ]
     },
     "metadata": {},
     "output_type": "display_data"
    }
   ],
   "source": [
    "#order_status\n",
    "order_status_levels = pd.DataFrame(orders.order_status.value_counts().reset_index())\n",
    "px.pie(order_status_levels,values='order_status',names='index',\n",
    "      title='Percentage counts of order status',\n",
    "      color_discrete_sequence=px.colors.diverging.PiYG)"
   ]
  },
  {
   "cell_type": "code",
   "execution_count": 25,
   "metadata": {
    "scrolled": false
   },
   "outputs": [
    {
     "data": {
      "application/vnd.plotly.v1+json": {
       "config": {
        "plotlyServerURL": "https://plot.ly"
       },
       "data": [
        {
         "alignmentgroup": "True",
         "hovertemplate": "index=%{x}<br>seller_state=%{marker.color}<extra></extra>",
         "legendgroup": "",
         "marker": {
          "color": [
           1849,
           349,
           244,
           190,
           171
          ],
          "coloraxis": "coloraxis"
         },
         "name": "",
         "offsetgroup": "",
         "orientation": "v",
         "showlegend": false,
         "textposition": "auto",
         "type": "bar",
         "x": [
          "SP",
          "PR",
          "MG",
          "SC",
          "RJ"
         ],
         "xaxis": "x",
         "y": [
          1849,
          349,
          244,
          190,
          171
         ],
         "yaxis": "y"
        }
       ],
       "layout": {
        "barmode": "relative",
        "coloraxis": {
         "colorbar": {
          "title": {
           "text": "seller_state"
          }
         },
         "colorscale": [
          [
           0,
           "#0d0887"
          ],
          [
           0.1111111111111111,
           "#46039f"
          ],
          [
           0.2222222222222222,
           "#7201a8"
          ],
          [
           0.3333333333333333,
           "#9c179e"
          ],
          [
           0.4444444444444444,
           "#bd3786"
          ],
          [
           0.5555555555555556,
           "#d8576b"
          ],
          [
           0.6666666666666666,
           "#ed7953"
          ],
          [
           0.7777777777777778,
           "#fb9f3a"
          ],
          [
           0.8888888888888888,
           "#fdca26"
          ],
          [
           1,
           "#f0f921"
          ]
         ]
        },
        "legend": {
         "tracegroupgap": 0
        },
        "margin": {
         "t": 60
        },
        "template": {
         "data": {
          "pie": [
           {
            "automargin": true,
            "type": "pie"
           }
          ]
         },
         "layout": {
          "xaxis": {
           "showgrid": true,
           "title": {
            "standoff": 15
           }
          },
          "yaxis": {
           "showgrid": true,
           "title": {
            "standoff": 15
           }
          }
         }
        },
        "title": {
         "text": "State-wise Sellers Count",
         "x": 0.5
        },
        "xaxis": {
         "anchor": "y",
         "domain": [
          0,
          1
         ],
         "title": {
          "text": "index"
         }
        },
        "yaxis": {
         "anchor": "x",
         "domain": [
          0,
          1
         ],
         "title": {
          "text": "seller_state"
         }
        }
       }
      },
      "text/html": [
       "<div>                            <div id=\"8996b5a0-4217-432c-9ee5-2c985bb2d600\" class=\"plotly-graph-div\" style=\"height:525px; width:100%;\"></div>            <script type=\"text/javascript\">                require([\"plotly\"], function(Plotly) {                    window.PLOTLYENV=window.PLOTLYENV || {};                                    if (document.getElementById(\"8996b5a0-4217-432c-9ee5-2c985bb2d600\")) {                    Plotly.newPlot(                        \"8996b5a0-4217-432c-9ee5-2c985bb2d600\",                        [{\"alignmentgroup\": \"True\", \"hovertemplate\": \"index=%{x}<br>seller_state=%{marker.color}<extra></extra>\", \"legendgroup\": \"\", \"marker\": {\"color\": [1849, 349, 244, 190, 171], \"coloraxis\": \"coloraxis\"}, \"name\": \"\", \"offsetgroup\": \"\", \"orientation\": \"v\", \"showlegend\": false, \"textposition\": \"auto\", \"type\": \"bar\", \"x\": [\"SP\", \"PR\", \"MG\", \"SC\", \"RJ\"], \"xaxis\": \"x\", \"y\": [1849, 349, 244, 190, 171], \"yaxis\": \"y\"}],                        {\"barmode\": \"relative\", \"coloraxis\": {\"colorbar\": {\"title\": {\"text\": \"seller_state\"}}, \"colorscale\": [[0.0, \"#0d0887\"], [0.1111111111111111, \"#46039f\"], [0.2222222222222222, \"#7201a8\"], [0.3333333333333333, \"#9c179e\"], [0.4444444444444444, \"#bd3786\"], [0.5555555555555556, \"#d8576b\"], [0.6666666666666666, \"#ed7953\"], [0.7777777777777778, \"#fb9f3a\"], [0.8888888888888888, \"#fdca26\"], [1.0, \"#f0f921\"]]}, \"legend\": {\"tracegroupgap\": 0}, \"margin\": {\"t\": 60}, \"template\": {\"data\": {\"pie\": [{\"automargin\": true, \"type\": \"pie\"}]}, \"layout\": {\"xaxis\": {\"showgrid\": true, \"title\": {\"standoff\": 15}}, \"yaxis\": {\"showgrid\": true, \"title\": {\"standoff\": 15}}}}, \"title\": {\"text\": \"State-wise Sellers Count\", \"x\": 0.5}, \"xaxis\": {\"anchor\": \"y\", \"domain\": [0.0, 1.0], \"title\": {\"text\": \"index\"}}, \"yaxis\": {\"anchor\": \"x\", \"domain\": [0.0, 1.0], \"title\": {\"text\": \"seller_state\"}}},                        {\"responsive\": true}                    ).then(function(){\n",
       "                            \n",
       "var gd = document.getElementById('8996b5a0-4217-432c-9ee5-2c985bb2d600');\n",
       "var x = new MutationObserver(function (mutations, observer) {{\n",
       "        var display = window.getComputedStyle(gd).display;\n",
       "        if (!display || display === 'none') {{\n",
       "            console.log([gd, 'removed!']);\n",
       "            Plotly.purge(gd);\n",
       "            observer.disconnect();\n",
       "        }}\n",
       "}});\n",
       "\n",
       "// Listen for the removal of the full notebook cells\n",
       "var notebookContainer = gd.closest('#notebook-container');\n",
       "if (notebookContainer) {{\n",
       "    x.observe(notebookContainer, {childList: true});\n",
       "}}\n",
       "\n",
       "// Listen for the clearing of the current output cell\n",
       "var outputEl = gd.closest('.output');\n",
       "if (outputEl) {{\n",
       "    x.observe(outputEl, {childList: true});\n",
       "}}\n",
       "\n",
       "                        })                };                });            </script>        </div>"
      ]
     },
     "metadata": {},
     "output_type": "display_data"
    }
   ],
   "source": [
    "s_state= sellers.seller_state.value_counts().reset_index().head()\n",
    "fig = px.bar(s_state,x='index', y='seller_state',color = 'seller_state')\n",
    "fig.update_layout(title_text='State-wise Sellers Count',title_x=0.5\n",
    "                  ,template='gridon')\n",
    "fig.show()"
   ]
  },
  {
   "cell_type": "code",
   "execution_count": 26,
   "metadata": {},
   "outputs": [
    {
     "data": {
      "image/png": "[encoded data removed]",
      "text/plain": [
       "<Figure size 1440x576 with 1 Axes>"
      ]
     },
     "metadata": {
      "needs_background": "light"
     },
     "output_type": "display_data"
    }
   ],
   "source": [
    "#top 10 states as per number of orders\n",
    "data.groupby(data['customer_state'])['order_purchase_timestamp'].count().sort_values()[:10].plot(kind='barh',figsize=(20,8),color='green')\n",
    "plt.legend()\n",
    "plt.show()"
   ]
  },
  {
   "cell_type": "code",
   "execution_count": 27,
   "metadata": {
    "scrolled": false
   },
   "outputs": [
    {
     "data": {
      "image/png": "[encoded data removed]",
      "text/plain": [
       "<Figure size 1440x576 with 1 Axes>"
      ]
     },
     "metadata": {
      "needs_background": "light"
     },
     "output_type": "display_data"
    }
   ],
   "source": [
    "#category wise sales with their rating(top 20)\n",
    "data.groupby(data['product_category_name'])['price'].sum().sort_values(ascending=False)[:20].plot(kind='bar',figsize=(20,8))\n",
    "plt.legend()\n",
    "plt.show()"
   ]
  },
  {
   "cell_type": "code",
   "execution_count": 28,
   "metadata": {},
   "outputs": [
    {
     "data": {
      "image/png": "[encoded data removed]",
      "text/plain": [
       "<Figure size 1152x576 with 1 Axes>"
      ]
     },
     "metadata": {
      "needs_background": "light"
     },
     "output_type": "display_data"
    }
   ],
   "source": [
    "#Box plot for price with review score\n",
    "plt.figure(figsize= (16,8))\n",
    "sns.boxplot(x='review_score',y='price', data=data)\n",
    "plt.show()"
   ]
  },
  {
   "cell_type": "code",
   "execution_count": 29,
   "metadata": {
    "scrolled": false
   },
   "outputs": [
    {
     "data": {
      "text/plain": [
       "<AxesSubplot:xlabel='seller_state,customer_state,order_id'>"
      ]
     },
     "execution_count": 29,
     "metadata": {},
     "output_type": "execute_result"
    },
    {
     "data": {
      "image/png": "[encoded data removed]",
      "text/plain": [
       "<Figure size 864x360 with 1 Axes>"
      ]
     },
     "metadata": {
      "needs_background": "light"
     },
     "output_type": "display_data"
    }
   ],
   "source": [
    "#Count the number of origem states and destination states \n",
    "data.groupby(['seller_state', 'customer_state']).order_id.value_counts().nlargest(20).plot(kind='bar',figsize=(12,5))"
   ]
  },
  {
   "cell_type": "code",
   "execution_count": 30,
   "metadata": {},
   "outputs": [
    {
     "data": {
      "text/plain": [
       "<AxesSubplot:xlabel='seller_state'>"
      ]
     },
     "execution_count": 30,
     "metadata": {},
     "output_type": "execute_result"
    },
    {
     "data": {
      "image/png": "[encoded data removed]",
      "text/plain": [
       "<Figure size 576x360 with 1 Axes>"
      ]
     },
     "metadata": {
      "needs_background": "light"
     },
     "output_type": "display_data"
    }
   ],
   "source": [
    "#sellers with the worst review scores by state\n",
    "data.groupby(['seller_state']).review_score.mean().nsmallest(30).plot(kind='bar',figsize=(8,5))"
   ]
  },
  {
   "cell_type": "code",
   "execution_count": 31,
   "metadata": {
    "scrolled": false
   },
   "outputs": [
    {
     "data": {
      "image/png": "[encoded data removed]",
      "text/plain": [
       "<Figure size 1008x576 with 1 Axes>"
      ]
     },
     "metadata": {
      "needs_background": "light"
     },
     "output_type": "display_data"
    }
   ],
   "source": [
    "#plot showing relationship among number of photos and the count of number of orders\n",
    "d = data.groupby(data['product_photos_count'].astype(str).astype(float))['order_purchase_timestamp'].count()\n",
    "d.plot(kind='bar',figsize=(14,8),color='c')\n",
    "d.plot(kind='line',figsize=(14,8),color='b')\n",
    "plt.legend()\n",
    "plt.show()"
   ]
  },
  {
   "cell_type": "code",
   "execution_count": 32,
   "metadata": {
    "scrolled": false
   },
   "outputs": [
    {
     "data": {
      "application/vnd.plotly.v1+json": {
       "config": {
        "plotlyServerURL": "https://plot.ly"
       },
       "data": [
        {
         "domain": {
          "x": [
           0,
           1
          ],
          "y": [
           0,
           1
          ]
         },
         "hovertemplate": "payment_type=%{label}<br>customer_id=%{value}<extra></extra>",
         "labels": [
          "boleto",
          "credit_card",
          "debit_card",
          "voucher"
         ],
         "legendgroup": "",
         "name": "",
         "showlegend": true,
         "type": "pie",
         "values": [
          22189,
          84183,
          1633,
          6068
         ]
        }
       ],
       "layout": {
        "legend": {
         "tracegroupgap": 0
        },
        "piecolorway": [
         "rgb(121, 130, 52)",
         "rgb(163, 173, 98)",
         "rgb(208, 211, 162)",
         "rgb(253, 251, 228)",
         "rgb(240, 198, 195)",
         "rgb(223, 145, 163)",
         "rgb(212, 103, 128)"
        ],
        "template": {
         "data": {
          "bar": [
           {
            "error_x": {
             "color": "#2a3f5f"
            },
            "error_y": {
             "color": "#2a3f5f"
            },
            "marker": {
             "line": {
              "color": "#E5ECF6",
              "width": 0.5
             }
            },
            "type": "bar"
           }
          ],
          "barpolar": [
           {
            "marker": {
             "line": {
              "color": "#E5ECF6",
              "width": 0.5
             }
            },
            "type": "barpolar"
           }
          ],
          "carpet": [
           {
            "aaxis": {
             "endlinecolor": "#2a3f5f",
             "gridcolor": "white",
             "linecolor": "white",
             "minorgridcolor": "white",
             "startlinecolor": "#2a3f5f"
            },
            "baxis": {
             "endlinecolor": "#2a3f5f",
             "gridcolor": "white",
             "linecolor": "white",
             "minorgridcolor": "white",
             "startlinecolor": "#2a3f5f"
            },
            "type": "carpet"
           }
          ],
          "choropleth": [
           {
            "colorbar": {
             "outlinewidth": 0,
             "ticks": ""
            },
            "type": "choropleth"
           }
          ],
          "contour": [
           {
            "colorbar": {
             "outlinewidth": 0,
             "ticks": ""
            },
            "colorscale": [
             [
              0,
              "#0d0887"
             ],
             [
              0.1111111111111111,
              "#46039f"
             ],
             [
              0.2222222222222222,
              "#7201a8"
             ],
             [
              0.3333333333333333,
              "#9c179e"
             ],
             [
              0.4444444444444444,
              "#bd3786"
             ],
             [
              0.5555555555555556,
              "#d8576b"
             ],
             [
              0.6666666666666666,
              "#ed7953"
             ],
             [
              0.7777777777777778,
              "#fb9f3a"
             ],
             [
              0.8888888888888888,
              "#fdca26"
             ],
             [
              1,
              "#f0f921"
             ]
            ],
            "type": "contour"
           }
          ],
          "contourcarpet": [
           {
            "colorbar": {
             "outlinewidth": 0,
             "ticks": ""
            },
            "type": "contourcarpet"
           }
          ],
          "heatmap": [
           {
            "colorbar": {
             "outlinewidth": 0,
             "ticks": ""
            },
            "colorscale": [
             [
              0,
              "#0d0887"
             ],
             [
              0.1111111111111111,
              "#46039f"
             ],
             [
              0.2222222222222222,
              "#7201a8"
             ],
             [
              0.3333333333333333,
              "#9c179e"
             ],
             [
              0.4444444444444444,
              "#bd3786"
             ],
             [
              0.5555555555555556,
              "#d8576b"
             ],
             [
              0.6666666666666666,
              "#ed7953"
             ],
             [
              0.7777777777777778,
              "#fb9f3a"
             ],
             [
              0.8888888888888888,
              "#fdca26"
             ],
             [
              1,
              "#f0f921"
             ]
            ],
            "type": "heatmap"
           }
          ],
          "heatmapgl": [
           {
            "colorbar": {
             "outlinewidth": 0,
             "ticks": ""
            },
            "colorscale": [
             [
              0,
              "#0d0887"
             ],
             [
              0.1111111111111111,
              "#46039f"
             ],
             [
              0.2222222222222222,
              "#7201a8"
             ],
             [
              0.3333333333333333,
              "#9c179e"
             ],
             [
              0.4444444444444444,
              "#bd3786"
             ],
             [
              0.5555555555555556,
              "#d8576b"
             ],
             [
              0.6666666666666666,
              "#ed7953"
             ],
             [
              0.7777777777777778,
              "#fb9f3a"
             ],
             [
              0.8888888888888888,
              "#fdca26"
             ],
             [
              1,
              "#f0f921"
             ]
            ],
            "type": "heatmapgl"
           }
          ],
          "histogram": [
           {
            "marker": {
             "colorbar": {
              "outlinewidth": 0,
              "ticks": ""
             }
            },
            "type": "histogram"
           }
          ],
          "histogram2d": [
           {
            "colorbar": {
             "outlinewidth": 0,
             "ticks": ""
            },
            "colorscale": [
             [
              0,
              "#0d0887"
             ],
             [
              0.1111111111111111,
              "#46039f"
             ],
             [
              0.2222222222222222,
              "#7201a8"
             ],
             [
              0.3333333333333333,
              "#9c179e"
             ],
             [
              0.4444444444444444,
              "#bd3786"
             ],
             [
              0.5555555555555556,
              "#d8576b"
             ],
             [
              0.6666666666666666,
              "#ed7953"
             ],
             [
              0.7777777777777778,
              "#fb9f3a"
             ],
             [
              0.8888888888888888,
              "#fdca26"
             ],
             [
              1,
              "#f0f921"
             ]
            ],
            "type": "histogram2d"
           }
          ],
          "histogram2dcontour": [
           {
            "colorbar": {
             "outlinewidth": 0,
             "ticks": ""
            },
            "colorscale": [
             [
              0,
              "#0d0887"
             ],
             [
              0.1111111111111111,
              "#46039f"
             ],
             [
              0.2222222222222222,
              "#7201a8"
             ],
             [
              0.3333333333333333,
              "#9c179e"
             ],
             [
              0.4444444444444444,
              "#bd3786"
             ],
             [
              0.5555555555555556,
              "#d8576b"
             ],
             [
              0.6666666666666666,
              "#ed7953"
             ],
             [
              0.7777777777777778,
              "#fb9f3a"
             ],
             [
              0.8888888888888888,
              "#fdca26"
             ],
             [
              1,
              "#f0f921"
             ]
            ],
            "type": "histogram2dcontour"
           }
          ],
          "mesh3d": [
           {
            "colorbar": {
             "outlinewidth": 0,
             "ticks": ""
            },
            "type": "mesh3d"
           }
          ],
          "parcoords": [
           {
            "line": {
             "colorbar": {
              "outlinewidth": 0,
              "ticks": ""
             }
            },
            "type": "parcoords"
           }
          ],
          "pie": [
           {
            "automargin": true,
            "type": "pie"
           }
          ],
          "scatter": [
           {
            "marker": {
             "colorbar": {
              "outlinewidth": 0,
              "ticks": ""
             }
            },
            "type": "scatter"
           }
          ],
          "scatter3d": [
           {
            "line": {
             "colorbar": {
              "outlinewidth": 0,
              "ticks": ""
             }
            },
            "marker": {
             "colorbar": {
              "outlinewidth": 0,
              "ticks": ""
             }
            },
            "type": "scatter3d"
           }
          ],
          "scattercarpet": [
           {
            "marker": {
             "colorbar": {
              "outlinewidth": 0,
              "ticks": ""
             }
            },
            "type": "scattercarpet"
           }
          ],
          "scattergeo": [
           {
            "marker": {
             "colorbar": {
              "outlinewidth": 0,
              "ticks": ""
             }
            },
            "type": "scattergeo"
           }
          ],
          "scattergl": [
           {
            "marker": {
             "colorbar": {
              "outlinewidth": 0,
              "ticks": ""
             }
            },
            "type": "scattergl"
           }
          ],
          "scattermapbox": [
           {
            "marker": {
             "colorbar": {
              "outlinewidth": 0,
              "ticks": ""
             }
            },
            "type": "scattermapbox"
           }
          ],
          "scatterpolar": [
           {
            "marker": {
             "colorbar": {
              "outlinewidth": 0,
              "ticks": ""
             }
            },
            "type": "scatterpolar"
           }
          ],
          "scatterpolargl": [
           {
            "marker": {
             "colorbar": {
              "outlinewidth": 0,
              "ticks": ""
             }
            },
            "type": "scatterpolargl"
           }
          ],
          "scatterternary": [
           {
            "marker": {
             "colorbar": {
              "outlinewidth": 0,
              "ticks": ""
             }
            },
            "type": "scatterternary"
           }
          ],
          "surface": [
           {
            "colorbar": {
             "outlinewidth": 0,
             "ticks": ""
            },
            "colorscale": [
             [
              0,
              "#0d0887"
             ],
             [
              0.1111111111111111,
              "#46039f"
             ],
             [
              0.2222222222222222,
              "#7201a8"
             ],
             [
              0.3333333333333333,
              "#9c179e"
             ],
             [
              0.4444444444444444,
              "#bd3786"
             ],
             [
              0.5555555555555556,
              "#d8576b"
             ],
             [
              0.6666666666666666,
              "#ed7953"
             ],
             [
              0.7777777777777778,
              "#fb9f3a"
             ],
             [
              0.8888888888888888,
              "#fdca26"
             ],
             [
              1,
              "#f0f921"
             ]
            ],
            "type": "surface"
           }
          ],
          "table": [
           {
            "cells": {
             "fill": {
              "color": "#EBF0F8"
             },
             "line": {
              "color": "white"
             }
            },
            "header": {
             "fill": {
              "color": "#C8D4E3"
             },
             "line": {
              "color": "white"
             }
            },
            "type": "table"
           }
          ]
         },
         "layout": {
          "annotationdefaults": {
           "arrowcolor": "#2a3f5f",
           "arrowhead": 0,
           "arrowwidth": 1
          },
          "autotypenumbers": "strict",
          "coloraxis": {
           "colorbar": {
            "outlinewidth": 0,
            "ticks": ""
           }
          },
          "colorscale": {
           "diverging": [
            [
             0,
             "#8e0152"
            ],
            [
             0.1,
             "#c51b7d"
            ],
            [
             0.2,
             "#de77ae"
            ],
            [
             0.3,
             "#f1b6da"
            ],
            [
             0.4,
             "#fde0ef"
            ],
            [
             0.5,
             "#f7f7f7"
            ],
            [
             0.6,
             "#e6f5d0"
            ],
            [
             0.7,
             "#b8e186"
            ],
            [
             0.8,
             "#7fbc41"
            ],
            [
             0.9,
             "#4d9221"
            ],
            [
             1,
             "#276419"
            ]
           ],
           "sequential": [
            [
             0,
             "#0d0887"
            ],
            [
             0.1111111111111111,
             "#46039f"
            ],
            [
             0.2222222222222222,
             "#7201a8"
            ],
            [
             0.3333333333333333,
             "#9c179e"
            ],
            [
             0.4444444444444444,
             "#bd3786"
            ],
            [
             0.5555555555555556,
             "#d8576b"
            ],
            [
             0.6666666666666666,
             "#ed7953"
            ],
            [
             0.7777777777777778,
             "#fb9f3a"
            ],
            [
             0.8888888888888888,
             "#fdca26"
            ],
            [
             1,
             "#f0f921"
            ]
           ],
           "sequentialminus": [
            [
             0,
             "#0d0887"
            ],
            [
             0.1111111111111111,
             "#46039f"
            ],
            [
             0.2222222222222222,
             "#7201a8"
            ],
            [
             0.3333333333333333,
             "#9c179e"
            ],
            [
             0.4444444444444444,
             "#bd3786"
            ],
            [
             0.5555555555555556,
             "#d8576b"
            ],
            [
             0.6666666666666666,
             "#ed7953"
            ],
            [
             0.7777777777777778,
             "#fb9f3a"
            ],
            [
             0.8888888888888888,
             "#fdca26"
            ],
            [
             1,
             "#f0f921"
            ]
           ]
          },
          "colorway": [
           "#636efa",
           "#EF553B",
           "#00cc96",
           "#ab63fa",
           "#FFA15A",
           "#19d3f3",
           "#FF6692",
           "#B6E880",
           "#FF97FF",
           "#FECB52"
          ],
          "font": {
           "color": "#2a3f5f"
          },
          "geo": {
           "bgcolor": "white",
           "lakecolor": "white",
           "landcolor": "#E5ECF6",
           "showlakes": true,
           "showland": true,
           "subunitcolor": "white"
          },
          "hoverlabel": {
           "align": "left"
          },
          "hovermode": "closest",
          "mapbox": {
           "style": "light"
          },
          "paper_bgcolor": "white",
          "plot_bgcolor": "#E5ECF6",
          "polar": {
           "angularaxis": {
            "gridcolor": "white",
            "linecolor": "white",
            "ticks": ""
           },
           "bgcolor": "#E5ECF6",
           "radialaxis": {
            "gridcolor": "white",
            "linecolor": "white",
            "ticks": ""
           }
          },
          "scene": {
           "xaxis": {
            "backgroundcolor": "#E5ECF6",
            "gridcolor": "white",
            "gridwidth": 2,
            "linecolor": "white",
            "showbackground": true,
            "ticks": "",
            "zerolinecolor": "white"
           },
           "yaxis": {
            "backgroundcolor": "#E5ECF6",
            "gridcolor": "white",
            "gridwidth": 2,
            "linecolor": "white",
            "showbackground": true,
            "ticks": "",
            "zerolinecolor": "white"
           },
           "zaxis": {
            "backgroundcolor": "#E5ECF6",
            "gridcolor": "white",
            "gridwidth": 2,
            "linecolor": "white",
            "showbackground": true,
            "ticks": "",
            "zerolinecolor": "white"
           }
          },
          "shapedefaults": {
           "line": {
            "color": "#2a3f5f"
           }
          },
          "ternary": {
           "aaxis": {
            "gridcolor": "white",
            "linecolor": "white",
            "ticks": ""
           },
           "baxis": {
            "gridcolor": "white",
            "linecolor": "white",
            "ticks": ""
           },
           "bgcolor": "#E5ECF6",
           "caxis": {
            "gridcolor": "white",
            "linecolor": "white",
            "ticks": ""
           }
          },
          "title": {
           "x": 0.05
          },
          "xaxis": {
           "automargin": true,
           "gridcolor": "white",
           "linecolor": "white",
           "ticks": "",
           "title": {
            "standoff": 15
           },
           "zerolinecolor": "white",
           "zerolinewidth": 2
          },
          "yaxis": {
           "automargin": true,
           "gridcolor": "white",
           "linecolor": "white",
           "ticks": "",
           "title": {
            "standoff": 15
           },
           "zerolinecolor": "white",
           "zerolinewidth": 2
          }
         }
        },
        "title": {
         "text": "Percentage count of payment_type"
        }
       }
      },
      "text/html": [
       "<div>                            <div id=\"ac194773-5651-4a2c-a0f7-d9b7c01844b4\" class=\"plotly-graph-div\" style=\"height:525px; width:100%;\"></div>            <script type=\"text/javascript\">                require([\"plotly\"], function(Plotly) {                    window.PLOTLYENV=window.PLOTLYENV || {};                                    if (document.getElementById(\"ac194773-5651-4a2c-a0f7-d9b7c01844b4\")) {                    Plotly.newPlot(                        \"ac194773-5651-4a2c-a0f7-d9b7c01844b4\",                        [{\"domain\": {\"x\": [0.0, 1.0], \"y\": [0.0, 1.0]}, \"hovertemplate\": \"payment_type=%{label}<br>customer_id=%{value}<extra></extra>\", \"labels\": [\"boleto\", \"credit_card\", \"debit_card\", \"voucher\"], \"legendgroup\": \"\", \"name\": \"\", \"showlegend\": true, \"type\": \"pie\", \"values\": [22189, 84183, 1633, 6068]}],                        {\"legend\": {\"tracegroupgap\": 0}, \"piecolorway\": [\"rgb(121, 130, 52)\", \"rgb(163, 173, 98)\", \"rgb(208, 211, 162)\", \"rgb(253, 251, 228)\", \"rgb(240, 198, 195)\", \"rgb(223, 145, 163)\", \"rgb(212, 103, 128)\"], \"template\": {\"data\": {\"bar\": [{\"error_x\": {\"color\": \"#2a3f5f\"}, \"error_y\": {\"color\": \"#2a3f5f\"}, \"marker\": {\"line\": {\"color\": \"#E5ECF6\", \"width\": 0.5}}, \"type\": \"bar\"}], \"barpolar\": [{\"marker\": {\"line\": {\"color\": \"#E5ECF6\", \"width\": 0.5}}, \"type\": \"barpolar\"}], \"carpet\": [{\"aaxis\": {\"endlinecolor\": \"#2a3f5f\", \"gridcolor\": \"white\", \"linecolor\": \"white\", \"minorgridcolor\": \"white\", \"startlinecolor\": \"#2a3f5f\"}, \"baxis\": {\"endlinecolor\": \"#2a3f5f\", \"gridcolor\": \"white\", \"linecolor\": \"white\", \"minorgridcolor\": \"white\", \"startlinecolor\": \"#2a3f5f\"}, \"type\": \"carpet\"}], \"choropleth\": [{\"colorbar\": {\"outlinewidth\": 0, \"ticks\": \"\"}, \"type\": \"choropleth\"}], \"contour\": [{\"colorbar\": {\"outlinewidth\": 0, \"ticks\": \"\"}, \"colorscale\": [[0.0, \"#0d0887\"], [0.1111111111111111, \"#46039f\"], [0.2222222222222222, \"#7201a8\"], [0.3333333333333333, \"#9c179e\"], [0.4444444444444444, \"#bd3786\"], [0.5555555555555556, \"#d8576b\"], [0.6666666666666666, \"#ed7953\"], [0.7777777777777778, \"#fb9f3a\"], [0.8888888888888888, \"#fdca26\"], [1.0, \"#f0f921\"]], \"type\": \"contour\"}], \"contourcarpet\": [{\"colorbar\": {\"outlinewidth\": 0, \"ticks\": \"\"}, \"type\": \"contourcarpet\"}], \"heatmap\": [{\"colorbar\": {\"outlinewidth\": 0, \"ticks\": \"\"}, \"colorscale\": [[0.0, \"#0d0887\"], [0.1111111111111111, \"#46039f\"], [0.2222222222222222, \"#7201a8\"], [0.3333333333333333, \"#9c179e\"], [0.4444444444444444, \"#bd3786\"], [0.5555555555555556, \"#d8576b\"], [0.6666666666666666, \"#ed7953\"], [0.7777777777777778, \"#fb9f3a\"], [0.8888888888888888, \"#fdca26\"], [1.0, \"#f0f921\"]], \"type\": \"heatmap\"}], \"heatmapgl\": [{\"colorbar\": {\"outlinewidth\": 0, \"ticks\": \"\"}, \"colorscale\": [[0.0, \"#0d0887\"], [0.1111111111111111, \"#46039f\"], [0.2222222222222222, \"#7201a8\"], [0.3333333333333333, \"#9c179e\"], [0.4444444444444444, \"#bd3786\"], [0.5555555555555556, \"#d8576b\"], [0.6666666666666666, \"#ed7953\"], [0.7777777777777778, \"#fb9f3a\"], [0.8888888888888888, \"#fdca26\"], [1.0, \"#f0f921\"]], \"type\": \"heatmapgl\"}], \"histogram\": [{\"marker\": {\"colorbar\": {\"outlinewidth\": 0, \"ticks\": \"\"}}, \"type\": \"histogram\"}], \"histogram2d\": [{\"colorbar\": {\"outlinewidth\": 0, \"ticks\": \"\"}, \"colorscale\": [[0.0, \"#0d0887\"], [0.1111111111111111, \"#46039f\"], [0.2222222222222222, \"#7201a8\"], [0.3333333333333333, \"#9c179e\"], [0.4444444444444444, \"#bd3786\"], [0.5555555555555556, \"#d8576b\"], [0.6666666666666666, \"#ed7953\"], [0.7777777777777778, \"#fb9f3a\"], [0.8888888888888888, \"#fdca26\"], [1.0, \"#f0f921\"]], \"type\": \"histogram2d\"}], \"histogram2dcontour\": [{\"colorbar\": {\"outlinewidth\": 0, \"ticks\": \"\"}, \"colorscale\": [[0.0, \"#0d0887\"], [0.1111111111111111, \"#46039f\"], [0.2222222222222222, \"#7201a8\"], [0.3333333333333333, \"#9c179e\"], [0.4444444444444444, \"#bd3786\"], [0.5555555555555556, \"#d8576b\"], [0.6666666666666666, \"#ed7953\"], [0.7777777777777778, \"#fb9f3a\"], [0.8888888888888888, \"#fdca26\"], [1.0, \"#f0f921\"]], \"type\": \"histogram2dcontour\"}], \"mesh3d\": [{\"colorbar\": {\"outlinewidth\": 0, \"ticks\": \"\"}, \"type\": \"mesh3d\"}], \"parcoords\": [{\"line\": {\"colorbar\": {\"outlinewidth\": 0, \"ticks\": \"\"}}, \"type\": \"parcoords\"}], \"pie\": [{\"automargin\": true, \"type\": \"pie\"}], \"scatter\": [{\"marker\": {\"colorbar\": {\"outlinewidth\": 0, \"ticks\": \"\"}}, \"type\": \"scatter\"}], \"scatter3d\": [{\"line\": {\"colorbar\": {\"outlinewidth\": 0, \"ticks\": \"\"}}, \"marker\": {\"colorbar\": {\"outlinewidth\": 0, \"ticks\": \"\"}}, \"type\": \"scatter3d\"}], \"scattercarpet\": [{\"marker\": {\"colorbar\": {\"outlinewidth\": 0, \"ticks\": \"\"}}, \"type\": \"scattercarpet\"}], \"scattergeo\": [{\"marker\": {\"colorbar\": {\"outlinewidth\": 0, \"ticks\": \"\"}}, \"type\": \"scattergeo\"}], \"scattergl\": [{\"marker\": {\"colorbar\": {\"outlinewidth\": 0, \"ticks\": \"\"}}, \"type\": \"scattergl\"}], \"scattermapbox\": [{\"marker\": {\"colorbar\": {\"outlinewidth\": 0, \"ticks\": \"\"}}, \"type\": \"scattermapbox\"}], \"scatterpolar\": [{\"marker\": {\"colorbar\": {\"outlinewidth\": 0, \"ticks\": \"\"}}, \"type\": \"scatterpolar\"}], \"scatterpolargl\": [{\"marker\": {\"colorbar\": {\"outlinewidth\": 0, \"ticks\": \"\"}}, \"type\": \"scatterpolargl\"}], \"scatterternary\": [{\"marker\": {\"colorbar\": {\"outlinewidth\": 0, \"ticks\": \"\"}}, \"type\": \"scatterternary\"}], \"surface\": [{\"colorbar\": {\"outlinewidth\": 0, \"ticks\": \"\"}, \"colorscale\": [[0.0, \"#0d0887\"], [0.1111111111111111, \"#46039f\"], [0.2222222222222222, \"#7201a8\"], [0.3333333333333333, \"#9c179e\"], [0.4444444444444444, \"#bd3786\"], [0.5555555555555556, \"#d8576b\"], [0.6666666666666666, \"#ed7953\"], [0.7777777777777778, \"#fb9f3a\"], [0.8888888888888888, \"#fdca26\"], [1.0, \"#f0f921\"]], \"type\": \"surface\"}], \"table\": [{\"cells\": {\"fill\": {\"color\": \"#EBF0F8\"}, \"line\": {\"color\": \"white\"}}, \"header\": {\"fill\": {\"color\": \"#C8D4E3\"}, \"line\": {\"color\": \"white\"}}, \"type\": \"table\"}]}, \"layout\": {\"annotationdefaults\": {\"arrowcolor\": \"#2a3f5f\", \"arrowhead\": 0, \"arrowwidth\": 1}, \"autotypenumbers\": \"strict\", \"coloraxis\": {\"colorbar\": {\"outlinewidth\": 0, \"ticks\": \"\"}}, \"colorscale\": {\"diverging\": [[0, \"#8e0152\"], [0.1, \"#c51b7d\"], [0.2, \"#de77ae\"], [0.3, \"#f1b6da\"], [0.4, \"#fde0ef\"], [0.5, \"#f7f7f7\"], [0.6, \"#e6f5d0\"], [0.7, \"#b8e186\"], [0.8, \"#7fbc41\"], [0.9, \"#4d9221\"], [1, \"#276419\"]], \"sequential\": [[0.0, \"#0d0887\"], [0.1111111111111111, \"#46039f\"], [0.2222222222222222, \"#7201a8\"], [0.3333333333333333, \"#9c179e\"], [0.4444444444444444, \"#bd3786\"], [0.5555555555555556, \"#d8576b\"], [0.6666666666666666, \"#ed7953\"], [0.7777777777777778, \"#fb9f3a\"], [0.8888888888888888, \"#fdca26\"], [1.0, \"#f0f921\"]], \"sequentialminus\": [[0.0, \"#0d0887\"], [0.1111111111111111, \"#46039f\"], [0.2222222222222222, \"#7201a8\"], [0.3333333333333333, \"#9c179e\"], [0.4444444444444444, \"#bd3786\"], [0.5555555555555556, \"#d8576b\"], [0.6666666666666666, \"#ed7953\"], [0.7777777777777778, \"#fb9f3a\"], [0.8888888888888888, \"#fdca26\"], [1.0, \"#f0f921\"]]}, \"colorway\": [\"#636efa\", \"#EF553B\", \"#00cc96\", \"#ab63fa\", \"#FFA15A\", \"#19d3f3\", \"#FF6692\", \"#B6E880\", \"#FF97FF\", \"#FECB52\"], \"font\": {\"color\": \"#2a3f5f\"}, \"geo\": {\"bgcolor\": \"white\", \"lakecolor\": \"white\", \"landcolor\": \"#E5ECF6\", \"showlakes\": true, \"showland\": true, \"subunitcolor\": \"white\"}, \"hoverlabel\": {\"align\": \"left\"}, \"hovermode\": \"closest\", \"mapbox\": {\"style\": \"light\"}, \"paper_bgcolor\": \"white\", \"plot_bgcolor\": \"#E5ECF6\", \"polar\": {\"angularaxis\": {\"gridcolor\": \"white\", \"linecolor\": \"white\", \"ticks\": \"\"}, \"bgcolor\": \"#E5ECF6\", \"radialaxis\": {\"gridcolor\": \"white\", \"linecolor\": \"white\", \"ticks\": \"\"}}, \"scene\": {\"xaxis\": {\"backgroundcolor\": \"#E5ECF6\", \"gridcolor\": \"white\", \"gridwidth\": 2, \"linecolor\": \"white\", \"showbackground\": true, \"ticks\": \"\", \"zerolinecolor\": \"white\"}, \"yaxis\": {\"backgroundcolor\": \"#E5ECF6\", \"gridcolor\": \"white\", \"gridwidth\": 2, \"linecolor\": \"white\", \"showbackground\": true, \"ticks\": \"\", \"zerolinecolor\": \"white\"}, \"zaxis\": {\"backgroundcolor\": \"#E5ECF6\", \"gridcolor\": \"white\", \"gridwidth\": 2, \"linecolor\": \"white\", \"showbackground\": true, \"ticks\": \"\", \"zerolinecolor\": \"white\"}}, \"shapedefaults\": {\"line\": {\"color\": \"#2a3f5f\"}}, \"ternary\": {\"aaxis\": {\"gridcolor\": \"white\", \"linecolor\": \"white\", \"ticks\": \"\"}, \"baxis\": {\"gridcolor\": \"white\", \"linecolor\": \"white\", \"ticks\": \"\"}, \"bgcolor\": \"#E5ECF6\", \"caxis\": {\"gridcolor\": \"white\", \"linecolor\": \"white\", \"ticks\": \"\"}}, \"title\": {\"x\": 0.05}, \"xaxis\": {\"automargin\": true, \"gridcolor\": \"white\", \"linecolor\": \"white\", \"ticks\": \"\", \"title\": {\"standoff\": 15}, \"zerolinecolor\": \"white\", \"zerolinewidth\": 2}, \"yaxis\": {\"automargin\": true, \"gridcolor\": \"white\", \"linecolor\": \"white\", \"ticks\": \"\", \"title\": {\"standoff\": 15}, \"zerolinecolor\": \"white\", \"zerolinewidth\": 2}}}, \"title\": {\"text\": \"Percentage count of payment_type\"}},                        {\"responsive\": true}                    ).then(function(){\n",
       "                            \n",
       "var gd = document.getElementById('ac194773-5651-4a2c-a0f7-d9b7c01844b4');\n",
       "var x = new MutationObserver(function (mutations, observer) {{\n",
       "        var display = window.getComputedStyle(gd).display;\n",
       "        if (!display || display === 'none') {{\n",
       "            console.log([gd, 'removed!']);\n",
       "            Plotly.purge(gd);\n",
       "            observer.disconnect();\n",
       "        }}\n",
       "}});\n",
       "\n",
       "// Listen for the removal of the full notebook cells\n",
       "var notebookContainer = gd.closest('#notebook-container');\n",
       "if (notebookContainer) {{\n",
       "    x.observe(notebookContainer, {childList: true});\n",
       "}}\n",
       "\n",
       "// Listen for the clearing of the current output cell\n",
       "var outputEl = gd.closest('.output');\n",
       "if (outputEl) {{\n",
       "    x.observe(outputEl, {childList: true});\n",
       "}}\n",
       "\n",
       "                        })                };                });            </script>        </div>"
      ]
     },
     "metadata": {},
     "output_type": "display_data"
    }
   ],
   "source": [
    "CP= data[['customer_id','payment_type']]\n",
    "\n",
    "group_1=CP.groupby(['payment_type'],as_index=False).count()\n",
    "group_1\n",
    "\n",
    "px.pie(group_1,values='customer_id',names='payment_type',\n",
    "      title='Percentage count of payment_type',\n",
    "      color_discrete_sequence=px.colors.diverging.Armyrose)\n"
   ]
  },
  {
   "cell_type": "code",
   "execution_count": 33,
   "metadata": {
    "scrolled": false
   },
   "outputs": [
    {
     "data": {
      "application/vnd.plotly.v1+json": {
       "config": {
        "plotlyServerURL": "https://plot.ly"
       },
       "data": [
        {
         "alignmentgroup": "True",
         "hovertemplate": "customer_id=%{x}<br>order_id=%{y}<extra></extra>",
         "legendgroup": "270c23a11d",
         "marker": {
          "color": "#636efa"
         },
         "name": "270c23a11d",
         "offsetgroup": "270c23a11d",
         "orientation": "v",
         "showlegend": true,
         "textposition": "auto",
         "type": "bar",
         "x": [
          "270c23a11d"
         ],
         "xaxis": "x",
         "y": [
          63
         ],
         "yaxis": "y"
        },
        {
         "alignmentgroup": "True",
         "hovertemplate": "customer_id=%{x}<br>order_id=%{y}<extra></extra>",
         "legendgroup": "13aa59158d",
         "marker": {
          "color": "#EF553B"
         },
         "name": "13aa59158d",
         "offsetgroup": "13aa59158d",
         "orientation": "v",
         "showlegend": true,
         "textposition": "auto",
         "type": "bar",
         "x": [
          "13aa59158d"
         ],
         "xaxis": "x",
         "y": [
          38
         ],
         "yaxis": "y"
        },
        {
         "alignmentgroup": "True",
         "hovertemplate": "customer_id=%{x}<br>order_id=%{y}<extra></extra>",
         "legendgroup": "92cd3ec6e2",
         "marker": {
          "color": "#00cc96"
         },
         "name": "92cd3ec6e2",
         "offsetgroup": "92cd3ec6e2",
         "orientation": "v",
         "showlegend": true,
         "textposition": "auto",
         "type": "bar",
         "x": [
          "92cd3ec6e2"
         ],
         "xaxis": "x",
         "y": [
          26
         ],
         "yaxis": "y"
        },
        {
         "alignmentgroup": "True",
         "hovertemplate": "customer_id=%{x}<br>order_id=%{y}<extra></extra>",
         "legendgroup": "d22f25a9fa",
         "marker": {
          "color": "#ab63fa"
         },
         "name": "d22f25a9fa",
         "offsetgroup": "d22f25a9fa",
         "orientation": "v",
         "showlegend": true,
         "textposition": "auto",
         "type": "bar",
         "x": [
          "d22f25a9fa"
         ],
         "xaxis": "x",
         "y": [
          24
         ],
         "yaxis": "y"
        },
        {
         "alignmentgroup": "True",
         "hovertemplate": "customer_id=%{x}<br>order_id=%{y}<extra></extra>",
         "legendgroup": "86cc80fef0",
         "marker": {
          "color": "#FFA15A"
         },
         "name": "86cc80fef0",
         "offsetgroup": "86cc80fef0",
         "orientation": "v",
         "showlegend": true,
         "textposition": "auto",
         "type": "bar",
         "x": [
          "86cc80fef0"
         ],
         "xaxis": "x",
         "y": [
          24
         ],
         "yaxis": "y"
        },
        {
         "alignmentgroup": "True",
         "hovertemplate": "customer_id=%{x}<br>order_id=%{y}<extra></extra>",
         "legendgroup": "63b964e79d",
         "marker": {
          "color": "#19d3f3"
         },
         "name": "63b964e79d",
         "offsetgroup": "63b964e79d",
         "orientation": "v",
         "showlegend": true,
         "textposition": "auto",
         "type": "bar",
         "x": [
          "63b964e79d"
         ],
         "xaxis": "x",
         "y": [
          24
         ],
         "yaxis": "y"
        },
        {
         "alignmentgroup": "True",
         "hovertemplate": "customer_id=%{x}<br>order_id=%{y}<extra></extra>",
         "legendgroup": "2ba91e12e5",
         "marker": {
          "color": "#FF6692"
         },
         "name": "2ba91e12e5",
         "offsetgroup": "2ba91e12e5",
         "orientation": "v",
         "showlegend": true,
         "textposition": "auto",
         "type": "bar",
         "x": [
          "2ba91e12e5"
         ],
         "xaxis": "x",
         "y": [
          24
         ],
         "yaxis": "y"
        },
        {
         "alignmentgroup": "True",
         "hovertemplate": "customer_id=%{x}<br>order_id=%{y}<extra></extra>",
         "legendgroup": "6ee2f17e3b",
         "marker": {
          "color": "#B6E880"
         },
         "name": "6ee2f17e3b",
         "offsetgroup": "6ee2f17e3b",
         "orientation": "v",
         "showlegend": true,
         "textposition": "auto",
         "type": "bar",
         "x": [
          "6ee2f17e3b"
         ],
         "xaxis": "x",
         "y": [
          24
         ],
         "yaxis": "y"
        },
        {
         "alignmentgroup": "True",
         "hovertemplate": "customer_id=%{x}<br>order_id=%{y}<extra></extra>",
         "legendgroup": "b246eeed30",
         "marker": {
          "color": "#FF97FF"
         },
         "name": "b246eeed30",
         "offsetgroup": "b246eeed30",
         "orientation": "v",
         "showlegend": true,
         "textposition": "auto",
         "type": "bar",
         "x": [
          "b246eeed30"
         ],
         "xaxis": "x",
         "y": [
          22
         ],
         "yaxis": "y"
        },
        {
         "alignmentgroup": "True",
         "hovertemplate": "customer_id=%{x}<br>order_id=%{y}<extra></extra>",
         "legendgroup": "be1c4e52bb",
         "marker": {
          "color": "#FECB52"
         },
         "name": "be1c4e52bb",
         "offsetgroup": "be1c4e52bb",
         "orientation": "v",
         "showlegend": true,
         "textposition": "auto",
         "type": "bar",
         "x": [
          "be1c4e52bb"
         ],
         "xaxis": "x",
         "y": [
          22
         ],
         "yaxis": "y"
        }
       ],
       "layout": {
        "barmode": "relative",
        "legend": {
         "title": {
          "text": "customer_id"
         },
         "tracegroupgap": 0
        },
        "margin": {
         "t": 60
        },
        "template": {
         "data": {
          "pie": [
           {
            "automargin": true,
            "type": "pie"
           }
          ]
         },
         "layout": {
          "xaxis": {
           "showgrid": true,
           "title": {
            "standoff": 15
           }
          },
          "yaxis": {
           "showgrid": true,
           "title": {
            "standoff": 15
           }
          }
         }
        },
        "title": {
         "text": "highest orders by customer",
         "x": 0.5
        },
        "xaxis": {
         "anchor": "y",
         "categoryarray": [
          "270c23a11d",
          "13aa59158d",
          "92cd3ec6e2",
          "d22f25a9fa",
          "86cc80fef0",
          "63b964e79d",
          "2ba91e12e5",
          "6ee2f17e3b",
          "b246eeed30",
          "be1c4e52bb"
         ],
         "categoryorder": "array",
         "domain": [
          0,
          1
         ],
         "title": {
          "text": "customer_id"
         }
        },
        "yaxis": {
         "anchor": "x",
         "domain": [
          0,
          1
         ],
         "title": {
          "text": "order_id"
         }
        }
       }
      },
      "text/html": [
       "<div>                            <div id=\"4130b0ef-e32f-4ffa-958a-75a6c3c5cb66\" class=\"plotly-graph-div\" style=\"height:525px; width:100%;\"></div>            <script type=\"text/javascript\">                require([\"plotly\"], function(Plotly) {                    window.PLOTLYENV=window.PLOTLYENV || {};                                    if (document.getElementById(\"4130b0ef-e32f-4ffa-958a-75a6c3c5cb66\")) {                    Plotly.newPlot(                        \"4130b0ef-e32f-4ffa-958a-75a6c3c5cb66\",                        [{\"alignmentgroup\": \"True\", \"hovertemplate\": \"customer_id=%{x}<br>order_id=%{y}<extra></extra>\", \"legendgroup\": \"270c23a11d\", \"marker\": {\"color\": \"#636efa\"}, \"name\": \"270c23a11d\", \"offsetgroup\": \"270c23a11d\", \"orientation\": \"v\", \"showlegend\": true, \"textposition\": \"auto\", \"type\": \"bar\", \"x\": [\"270c23a11d\"], \"xaxis\": \"x\", \"y\": [63], \"yaxis\": \"y\"}, {\"alignmentgroup\": \"True\", \"hovertemplate\": \"customer_id=%{x}<br>order_id=%{y}<extra></extra>\", \"legendgroup\": \"13aa59158d\", \"marker\": {\"color\": \"#EF553B\"}, \"name\": \"13aa59158d\", \"offsetgroup\": \"13aa59158d\", \"orientation\": \"v\", \"showlegend\": true, \"textposition\": \"auto\", \"type\": \"bar\", \"x\": [\"13aa59158d\"], \"xaxis\": \"x\", \"y\": [38], \"yaxis\": \"y\"}, {\"alignmentgroup\": \"True\", \"hovertemplate\": \"customer_id=%{x}<br>order_id=%{y}<extra></extra>\", \"legendgroup\": \"92cd3ec6e2\", \"marker\": {\"color\": \"#00cc96\"}, \"name\": \"92cd3ec6e2\", \"offsetgroup\": \"92cd3ec6e2\", \"orientation\": \"v\", \"showlegend\": true, \"textposition\": \"auto\", \"type\": \"bar\", \"x\": [\"92cd3ec6e2\"], \"xaxis\": \"x\", \"y\": [26], \"yaxis\": \"y\"}, {\"alignmentgroup\": \"True\", \"hovertemplate\": \"customer_id=%{x}<br>order_id=%{y}<extra></extra>\", \"legendgroup\": \"d22f25a9fa\", \"marker\": {\"color\": \"#ab63fa\"}, \"name\": \"d22f25a9fa\", \"offsetgroup\": \"d22f25a9fa\", \"orientation\": \"v\", \"showlegend\": true, \"textposition\": \"auto\", \"type\": \"bar\", \"x\": [\"d22f25a9fa\"], \"xaxis\": \"x\", \"y\": [24], \"yaxis\": \"y\"}, {\"alignmentgroup\": \"True\", \"hovertemplate\": \"customer_id=%{x}<br>order_id=%{y}<extra></extra>\", \"legendgroup\": \"86cc80fef0\", \"marker\": {\"color\": \"#FFA15A\"}, \"name\": \"86cc80fef0\", \"offsetgroup\": \"86cc80fef0\", \"orientation\": \"v\", \"showlegend\": true, \"textposition\": \"auto\", \"type\": \"bar\", \"x\": [\"86cc80fef0\"], \"xaxis\": \"x\", \"y\": [24], \"yaxis\": \"y\"}, {\"alignmentgroup\": \"True\", \"hovertemplate\": \"customer_id=%{x}<br>order_id=%{y}<extra></extra>\", \"legendgroup\": \"63b964e79d\", \"marker\": {\"color\": \"#19d3f3\"}, \"name\": \"63b964e79d\", \"offsetgroup\": \"63b964e79d\", \"orientation\": \"v\", \"showlegend\": true, \"textposition\": \"auto\", \"type\": \"bar\", \"x\": [\"63b964e79d\"], \"xaxis\": \"x\", \"y\": [24], \"yaxis\": \"y\"}, {\"alignmentgroup\": \"True\", \"hovertemplate\": \"customer_id=%{x}<br>order_id=%{y}<extra></extra>\", \"legendgroup\": \"2ba91e12e5\", \"marker\": {\"color\": \"#FF6692\"}, \"name\": \"2ba91e12e5\", \"offsetgroup\": \"2ba91e12e5\", \"orientation\": \"v\", \"showlegend\": true, \"textposition\": \"auto\", \"type\": \"bar\", \"x\": [\"2ba91e12e5\"], \"xaxis\": \"x\", \"y\": [24], \"yaxis\": \"y\"}, {\"alignmentgroup\": \"True\", \"hovertemplate\": \"customer_id=%{x}<br>order_id=%{y}<extra></extra>\", \"legendgroup\": \"6ee2f17e3b\", \"marker\": {\"color\": \"#B6E880\"}, \"name\": \"6ee2f17e3b\", \"offsetgroup\": \"6ee2f17e3b\", \"orientation\": \"v\", \"showlegend\": true, \"textposition\": \"auto\", \"type\": \"bar\", \"x\": [\"6ee2f17e3b\"], \"xaxis\": \"x\", \"y\": [24], \"yaxis\": \"y\"}, {\"alignmentgroup\": \"True\", \"hovertemplate\": \"customer_id=%{x}<br>order_id=%{y}<extra></extra>\", \"legendgroup\": \"b246eeed30\", \"marker\": {\"color\": \"#FF97FF\"}, \"name\": \"b246eeed30\", \"offsetgroup\": \"b246eeed30\", \"orientation\": \"v\", \"showlegend\": true, \"textposition\": \"auto\", \"type\": \"bar\", \"x\": [\"b246eeed30\"], \"xaxis\": \"x\", \"y\": [22], \"yaxis\": \"y\"}, {\"alignmentgroup\": \"True\", \"hovertemplate\": \"customer_id=%{x}<br>order_id=%{y}<extra></extra>\", \"legendgroup\": \"be1c4e52bb\", \"marker\": {\"color\": \"#FECB52\"}, \"name\": \"be1c4e52bb\", \"offsetgroup\": \"be1c4e52bb\", \"orientation\": \"v\", \"showlegend\": true, \"textposition\": \"auto\", \"type\": \"bar\", \"x\": [\"be1c4e52bb\"], \"xaxis\": \"x\", \"y\": [22], \"yaxis\": \"y\"}],                        {\"barmode\": \"relative\", \"legend\": {\"title\": {\"text\": \"customer_id\"}, \"tracegroupgap\": 0}, \"margin\": {\"t\": 60}, \"template\": {\"data\": {\"pie\": [{\"automargin\": true, \"type\": \"pie\"}]}, \"layout\": {\"xaxis\": {\"showgrid\": true, \"title\": {\"standoff\": 15}}, \"yaxis\": {\"showgrid\": true, \"title\": {\"standoff\": 15}}}}, \"title\": {\"text\": \"highest orders by customer\", \"x\": 0.5}, \"xaxis\": {\"anchor\": \"y\", \"categoryarray\": [\"270c23a11d\", \"13aa59158d\", \"92cd3ec6e2\", \"d22f25a9fa\", \"86cc80fef0\", \"63b964e79d\", \"2ba91e12e5\", \"6ee2f17e3b\", \"b246eeed30\", \"be1c4e52bb\"], \"categoryorder\": \"array\", \"domain\": [0.0, 1.0], \"title\": {\"text\": \"customer_id\"}}, \"yaxis\": {\"anchor\": \"x\", \"domain\": [0.0, 1.0], \"title\": {\"text\": \"order_id\"}}},                        {\"responsive\": true}                    ).then(function(){\n",
       "                            \n",
       "var gd = document.getElementById('4130b0ef-e32f-4ffa-958a-75a6c3c5cb66');\n",
       "var x = new MutationObserver(function (mutations, observer) {{\n",
       "        var display = window.getComputedStyle(gd).display;\n",
       "        if (!display || display === 'none') {{\n",
       "            console.log([gd, 'removed!']);\n",
       "            Plotly.purge(gd);\n",
       "            observer.disconnect();\n",
       "        }}\n",
       "}});\n",
       "\n",
       "// Listen for the removal of the full notebook cells\n",
       "var notebookContainer = gd.closest('#notebook-container');\n",
       "if (notebookContainer) {{\n",
       "    x.observe(notebookContainer, {childList: true});\n",
       "}}\n",
       "\n",
       "// Listen for the clearing of the current output cell\n",
       "var outputEl = gd.closest('.output');\n",
       "if (outputEl) {{\n",
       "    x.observe(outputEl, {childList: true});\n",
       "}}\n",
       "\n",
       "                        })                };                });            </script>        </div>"
      ]
     },
     "metadata": {},
     "output_type": "display_data"
    }
   ],
   "source": [
    "CP= data[['customer_id','order_id']]\n",
    "\n",
    "group_2=CP.groupby(['customer_id'],as_index=False).count().sort_values('order_id',ascending = False).head(10)\n",
    "group_2\n",
    "\n",
    "fig = px.bar(group_2,x='customer_id', y='order_id',color = 'customer_id')\n",
    "fig.update_layout(title_text='highest orders by customer',title_x=0.5\n",
    "                  ,template='gridon')\n",
    "fig.show()"
   ]
  },
  {
   "cell_type": "code",
   "execution_count": 34,
   "metadata": {
    "scrolled": true
   },
   "outputs": [
    {
     "data": {
      "application/vnd.plotly.v1+json": {
       "config": {
        "plotlyServerURL": "https://plot.ly"
       },
       "data": [
        {
         "alignmentgroup": "True",
         "hovertemplate": "product_id=%{x}<br>order_id=%{y}<extra></extra>",
         "legendgroup": "aca2eb7d00",
         "marker": {
          "color": "#636efa"
         },
         "name": "aca2eb7d00",
         "offsetgroup": "aca2eb7d00",
         "orientation": "v",
         "showlegend": true,
         "textposition": "auto",
         "type": "bar",
         "x": [
          "aca2eb7d00"
         ],
         "xaxis": "x",
         "y": [
          529
         ],
         "yaxis": "y"
        },
        {
         "alignmentgroup": "True",
         "hovertemplate": "product_id=%{x}<br>order_id=%{y}<extra></extra>",
         "legendgroup": "99a4788cb2",
         "marker": {
          "color": "#EF553B"
         },
         "name": "99a4788cb2",
         "offsetgroup": "99a4788cb2",
         "orientation": "v",
         "showlegend": true,
         "textposition": "auto",
         "type": "bar",
         "x": [
          "99a4788cb2"
         ],
         "xaxis": "x",
         "y": [
          516
         ],
         "yaxis": "y"
        },
        {
         "alignmentgroup": "True",
         "hovertemplate": "product_id=%{x}<br>order_id=%{y}<extra></extra>",
         "legendgroup": "422879e10f",
         "marker": {
          "color": "#00cc96"
         },
         "name": "422879e10f",
         "offsetgroup": "422879e10f",
         "orientation": "v",
         "showlegend": true,
         "textposition": "auto",
         "type": "bar",
         "x": [
          "422879e10f"
         ],
         "xaxis": "x",
         "y": [
          508
         ],
         "yaxis": "y"
        },
        {
         "alignmentgroup": "True",
         "hovertemplate": "product_id=%{x}<br>order_id=%{y}<extra></extra>",
         "legendgroup": "389d119b48",
         "marker": {
          "color": "#ab63fa"
         },
         "name": "389d119b48",
         "offsetgroup": "389d119b48",
         "orientation": "v",
         "showlegend": true,
         "textposition": "auto",
         "type": "bar",
         "x": [
          "389d119b48"
         ],
         "xaxis": "x",
         "y": [
          403
         ],
         "yaxis": "y"
        },
        {
         "alignmentgroup": "True",
         "hovertemplate": "product_id=%{x}<br>order_id=%{y}<extra></extra>",
         "legendgroup": "368c6c7308",
         "marker": {
          "color": "#FFA15A"
         },
         "name": "368c6c7308",
         "offsetgroup": "368c6c7308",
         "orientation": "v",
         "showlegend": true,
         "textposition": "auto",
         "type": "bar",
         "x": [
          "368c6c7308"
         ],
         "xaxis": "x",
         "y": [
          398
         ],
         "yaxis": "y"
        },
        {
         "alignmentgroup": "True",
         "hovertemplate": "product_id=%{x}<br>order_id=%{y}<extra></extra>",
         "legendgroup": "53759a2ecd",
         "marker": {
          "color": "#19d3f3"
         },
         "name": "53759a2ecd",
         "offsetgroup": "53759a2ecd",
         "orientation": "v",
         "showlegend": true,
         "textposition": "auto",
         "type": "bar",
         "x": [
          "53759a2ecd"
         ],
         "xaxis": "x",
         "y": [
          391
         ],
         "yaxis": "y"
        },
        {
         "alignmentgroup": "True",
         "hovertemplate": "product_id=%{x}<br>order_id=%{y}<extra></extra>",
         "legendgroup": "d1c427060a",
         "marker": {
          "color": "#FF6692"
         },
         "name": "d1c427060a",
         "offsetgroup": "d1c427060a",
         "orientation": "v",
         "showlegend": true,
         "textposition": "auto",
         "type": "bar",
         "x": [
          "d1c427060a"
         ],
         "xaxis": "x",
         "y": [
          346
         ],
         "yaxis": "y"
        },
        {
         "alignmentgroup": "True",
         "hovertemplate": "product_id=%{x}<br>order_id=%{y}<extra></extra>",
         "legendgroup": "53b36df67e",
         "marker": {
          "color": "#B6E880"
         },
         "name": "53b36df67e",
         "offsetgroup": "53b36df67e",
         "orientation": "v",
         "showlegend": true,
         "textposition": "auto",
         "type": "bar",
         "x": [
          "53b36df67e"
         ],
         "xaxis": "x",
         "y": [
          325
         ],
         "yaxis": "y"
        },
        {
         "alignmentgroup": "True",
         "hovertemplate": "product_id=%{x}<br>order_id=%{y}<extra></extra>",
         "legendgroup": "154e7e31eb",
         "marker": {
          "color": "#FF97FF"
         },
         "name": "154e7e31eb",
         "offsetgroup": "154e7e31eb",
         "orientation": "v",
         "showlegend": true,
         "textposition": "auto",
         "type": "bar",
         "x": [
          "154e7e31eb"
         ],
         "xaxis": "x",
         "y": [
          287
         ],
         "yaxis": "y"
        },
        {
         "alignmentgroup": "True",
         "hovertemplate": "product_id=%{x}<br>order_id=%{y}<extra></extra>",
         "legendgroup": "3dd2a17168",
         "marker": {
          "color": "#FECB52"
         },
         "name": "3dd2a17168",
         "offsetgroup": "3dd2a17168",
         "orientation": "v",
         "showlegend": true,
         "textposition": "auto",
         "type": "bar",
         "x": [
          "3dd2a17168"
         ],
         "xaxis": "x",
         "y": [
          276
         ],
         "yaxis": "y"
        }
       ],
       "layout": {
        "barmode": "relative",
        "legend": {
         "title": {
          "text": "product_id"
         },
         "tracegroupgap": 0
        },
        "margin": {
         "t": 60
        },
        "template": {
         "data": {
          "pie": [
           {
            "automargin": true,
            "type": "pie"
           }
          ]
         },
         "layout": {
          "xaxis": {
           "showgrid": true,
           "title": {
            "standoff": 15
           }
          },
          "yaxis": {
           "showgrid": true,
           "title": {
            "standoff": 15
           }
          }
         }
        },
        "title": {
         "text": "highest sales in product id",
         "x": 0.5
        },
        "xaxis": {
         "anchor": "y",
         "categoryarray": [
          "aca2eb7d00",
          "99a4788cb2",
          "422879e10f",
          "389d119b48",
          "368c6c7308",
          "53759a2ecd",
          "d1c427060a",
          "53b36df67e",
          "154e7e31eb",
          "3dd2a17168"
         ],
         "categoryorder": "array",
         "domain": [
          0,
          1
         ],
         "title": {
          "text": "product_id"
         }
        },
        "yaxis": {
         "anchor": "x",
         "domain": [
          0,
          1
         ],
         "title": {
          "text": "order_id"
         }
        }
       }
      },
      "text/html": [
       "<div>                            <div id=\"30b8389f-c599-4a27-8f56-4686d6f59681\" class=\"plotly-graph-div\" style=\"height:525px; width:100%;\"></div>            <script type=\"text/javascript\">                require([\"plotly\"], function(Plotly) {                    window.PLOTLYENV=window.PLOTLYENV || {};                                    if (document.getElementById(\"30b8389f-c599-4a27-8f56-4686d6f59681\")) {                    Plotly.newPlot(                        \"30b8389f-c599-4a27-8f56-4686d6f59681\",                        [{\"alignmentgroup\": \"True\", \"hovertemplate\": \"product_id=%{x}<br>order_id=%{y}<extra></extra>\", \"legendgroup\": \"aca2eb7d00\", \"marker\": {\"color\": \"#636efa\"}, \"name\": \"aca2eb7d00\", \"offsetgroup\": \"aca2eb7d00\", \"orientation\": \"v\", \"showlegend\": true, \"textposition\": \"auto\", \"type\": \"bar\", \"x\": [\"aca2eb7d00\"], \"xaxis\": \"x\", \"y\": [529], \"yaxis\": \"y\"}, {\"alignmentgroup\": \"True\", \"hovertemplate\": \"product_id=%{x}<br>order_id=%{y}<extra></extra>\", \"legendgroup\": \"99a4788cb2\", \"marker\": {\"color\": \"#EF553B\"}, \"name\": \"99a4788cb2\", \"offsetgroup\": \"99a4788cb2\", \"orientation\": \"v\", \"showlegend\": true, \"textposition\": \"auto\", \"type\": \"bar\", \"x\": [\"99a4788cb2\"], \"xaxis\": \"x\", \"y\": [516], \"yaxis\": \"y\"}, {\"alignmentgroup\": \"True\", \"hovertemplate\": \"product_id=%{x}<br>order_id=%{y}<extra></extra>\", \"legendgroup\": \"422879e10f\", \"marker\": {\"color\": \"#00cc96\"}, \"name\": \"422879e10f\", \"offsetgroup\": \"422879e10f\", \"orientation\": \"v\", \"showlegend\": true, \"textposition\": \"auto\", \"type\": \"bar\", \"x\": [\"422879e10f\"], \"xaxis\": \"x\", \"y\": [508], \"yaxis\": \"y\"}, {\"alignmentgroup\": \"True\", \"hovertemplate\": \"product_id=%{x}<br>order_id=%{y}<extra></extra>\", \"legendgroup\": \"389d119b48\", \"marker\": {\"color\": \"#ab63fa\"}, \"name\": \"389d119b48\", \"offsetgroup\": \"389d119b48\", \"orientation\": \"v\", \"showlegend\": true, \"textposition\": \"auto\", \"type\": \"bar\", \"x\": [\"389d119b48\"], \"xaxis\": \"x\", \"y\": [403], \"yaxis\": \"y\"}, {\"alignmentgroup\": \"True\", \"hovertemplate\": \"product_id=%{x}<br>order_id=%{y}<extra></extra>\", \"legendgroup\": \"368c6c7308\", \"marker\": {\"color\": \"#FFA15A\"}, \"name\": \"368c6c7308\", \"offsetgroup\": \"368c6c7308\", \"orientation\": \"v\", \"showlegend\": true, \"textposition\": \"auto\", \"type\": \"bar\", \"x\": [\"368c6c7308\"], \"xaxis\": \"x\", \"y\": [398], \"yaxis\": \"y\"}, {\"alignmentgroup\": \"True\", \"hovertemplate\": \"product_id=%{x}<br>order_id=%{y}<extra></extra>\", \"legendgroup\": \"53759a2ecd\", \"marker\": {\"color\": \"#19d3f3\"}, \"name\": \"53759a2ecd\", \"offsetgroup\": \"53759a2ecd\", \"orientation\": \"v\", \"showlegend\": true, \"textposition\": \"auto\", \"type\": \"bar\", \"x\": [\"53759a2ecd\"], \"xaxis\": \"x\", \"y\": [391], \"yaxis\": \"y\"}, {\"alignmentgroup\": \"True\", \"hovertemplate\": \"product_id=%{x}<br>order_id=%{y}<extra></extra>\", \"legendgroup\": \"d1c427060a\", \"marker\": {\"color\": \"#FF6692\"}, \"name\": \"d1c427060a\", \"offsetgroup\": \"d1c427060a\", \"orientation\": \"v\", \"showlegend\": true, \"textposition\": \"auto\", \"type\": \"bar\", \"x\": [\"d1c427060a\"], \"xaxis\": \"x\", \"y\": [346], \"yaxis\": \"y\"}, {\"alignmentgroup\": \"True\", \"hovertemplate\": \"product_id=%{x}<br>order_id=%{y}<extra></extra>\", \"legendgroup\": \"53b36df67e\", \"marker\": {\"color\": \"#B6E880\"}, \"name\": \"53b36df67e\", \"offsetgroup\": \"53b36df67e\", \"orientation\": \"v\", \"showlegend\": true, \"textposition\": \"auto\", \"type\": \"bar\", \"x\": [\"53b36df67e\"], \"xaxis\": \"x\", \"y\": [325], \"yaxis\": \"y\"}, {\"alignmentgroup\": \"True\", \"hovertemplate\": \"product_id=%{x}<br>order_id=%{y}<extra></extra>\", \"legendgroup\": \"154e7e31eb\", \"marker\": {\"color\": \"#FF97FF\"}, \"name\": \"154e7e31eb\", \"offsetgroup\": \"154e7e31eb\", \"orientation\": \"v\", \"showlegend\": true, \"textposition\": \"auto\", \"type\": \"bar\", \"x\": [\"154e7e31eb\"], \"xaxis\": \"x\", \"y\": [287], \"yaxis\": \"y\"}, {\"alignmentgroup\": \"True\", \"hovertemplate\": \"product_id=%{x}<br>order_id=%{y}<extra></extra>\", \"legendgroup\": \"3dd2a17168\", \"marker\": {\"color\": \"#FECB52\"}, \"name\": \"3dd2a17168\", \"offsetgroup\": \"3dd2a17168\", \"orientation\": \"v\", \"showlegend\": true, \"textposition\": \"auto\", \"type\": \"bar\", \"x\": [\"3dd2a17168\"], \"xaxis\": \"x\", \"y\": [276], \"yaxis\": \"y\"}],                        {\"barmode\": \"relative\", \"legend\": {\"title\": {\"text\": \"product_id\"}, \"tracegroupgap\": 0}, \"margin\": {\"t\": 60}, \"template\": {\"data\": {\"pie\": [{\"automargin\": true, \"type\": \"pie\"}]}, \"layout\": {\"xaxis\": {\"showgrid\": true, \"title\": {\"standoff\": 15}}, \"yaxis\": {\"showgrid\": true, \"title\": {\"standoff\": 15}}}}, \"title\": {\"text\": \"highest sales in product id\", \"x\": 0.5}, \"xaxis\": {\"anchor\": \"y\", \"categoryarray\": [\"aca2eb7d00\", \"99a4788cb2\", \"422879e10f\", \"389d119b48\", \"368c6c7308\", \"53759a2ecd\", \"d1c427060a\", \"53b36df67e\", \"154e7e31eb\", \"3dd2a17168\"], \"categoryorder\": \"array\", \"domain\": [0.0, 1.0], \"title\": {\"text\": \"product_id\"}}, \"yaxis\": {\"anchor\": \"x\", \"domain\": [0.0, 1.0], \"title\": {\"text\": \"order_id\"}}},                        {\"responsive\": true}                    ).then(function(){\n",
       "                            \n",
       "var gd = document.getElementById('30b8389f-c599-4a27-8f56-4686d6f59681');\n",
       "var x = new MutationObserver(function (mutations, observer) {{\n",
       "        var display = window.getComputedStyle(gd).display;\n",
       "        if (!display || display === 'none') {{\n",
       "            console.log([gd, 'removed!']);\n",
       "            Plotly.purge(gd);\n",
       "            observer.disconnect();\n",
       "        }}\n",
       "}});\n",
       "\n",
       "// Listen for the removal of the full notebook cells\n",
       "var notebookContainer = gd.closest('#notebook-container');\n",
       "if (notebookContainer) {{\n",
       "    x.observe(notebookContainer, {childList: true});\n",
       "}}\n",
       "\n",
       "// Listen for the clearing of the current output cell\n",
       "var outputEl = gd.closest('.output');\n",
       "if (outputEl) {{\n",
       "    x.observe(outputEl, {childList: true});\n",
       "}}\n",
       "\n",
       "                        })                };                });            </script>        </div>"
      ]
     },
     "metadata": {},
     "output_type": "display_data"
    }
   ],
   "source": [
    "PO= data[['product_id','order_id']]\n",
    "\n",
    "group_3=PO.groupby(['product_id'],as_index=False).count().sort_values('order_id',ascending = False).head(10)\n",
    "group_3\n",
    "\n",
    "fig = px.bar(group_3,x='product_id', y='order_id',color = 'product_id')\n",
    "fig.update_layout(title_text='highest sales in product id',title_x=0.5\n",
    "                  ,template='gridon')\n",
    "fig.show()"
   ]
  },
  {
   "cell_type": "code",
   "execution_count": 35,
   "metadata": {
    "scrolled": true
   },
   "outputs": [
    {
     "data": {
      "application/vnd.plotly.v1+json": {
       "config": {
        "plotlyServerURL": "https://plot.ly"
       },
       "data": [
        {
         "alignmentgroup": "True",
         "hovertemplate": "product_category_name=%{x}<br>order_id=%{y}<extra></extra>",
         "legendgroup": "bed_bath_table",
         "marker": {
          "color": "#636efa"
         },
         "name": "bed_bath_table",
         "offsetgroup": "bed_bath_table",
         "orientation": "v",
         "showlegend": true,
         "textposition": "auto",
         "type": "bar",
         "x": [
          "bed_bath_table"
         ],
         "xaxis": "x",
         "y": [
          11815
         ],
         "yaxis": "y"
        },
        {
         "alignmentgroup": "True",
         "hovertemplate": "product_category_name=%{x}<br>order_id=%{y}<extra></extra>",
         "legendgroup": "health_beauty",
         "marker": {
          "color": "#EF553B"
         },
         "name": "health_beauty",
         "offsetgroup": "health_beauty",
         "orientation": "v",
         "showlegend": true,
         "textposition": "auto",
         "type": "bar",
         "x": [
          "health_beauty"
         ],
         "xaxis": "x",
         "y": [
          9816
         ],
         "yaxis": "y"
        },
        {
         "alignmentgroup": "True",
         "hovertemplate": "product_category_name=%{x}<br>order_id=%{y}<extra></extra>",
         "legendgroup": "sports_leisure",
         "marker": {
          "color": "#00cc96"
         },
         "name": "sports_leisure",
         "offsetgroup": "sports_leisure",
         "orientation": "v",
         "showlegend": true,
         "textposition": "auto",
         "type": "bar",
         "x": [
          "sports_leisure"
         ],
         "xaxis": "x",
         "y": [
          8790
         ],
         "yaxis": "y"
        },
        {
         "alignmentgroup": "True",
         "hovertemplate": "product_category_name=%{x}<br>order_id=%{y}<extra></extra>",
         "legendgroup": "furniture_decor",
         "marker": {
          "color": "#ab63fa"
         },
         "name": "furniture_decor",
         "offsetgroup": "furniture_decor",
         "orientation": "v",
         "showlegend": true,
         "textposition": "auto",
         "type": "bar",
         "x": [
          "furniture_decor"
         ],
         "xaxis": "x",
         "y": [
          8640
         ],
         "yaxis": "y"
        },
        {
         "alignmentgroup": "True",
         "hovertemplate": "product_category_name=%{x}<br>order_id=%{y}<extra></extra>",
         "legendgroup": "computers_accessories",
         "marker": {
          "color": "#FFA15A"
         },
         "name": "computers_accessories",
         "offsetgroup": "computers_accessories",
         "orientation": "v",
         "showlegend": true,
         "textposition": "auto",
         "type": "bar",
         "x": [
          "computers_accessories"
         ],
         "xaxis": "x",
         "y": [
          7963
         ],
         "yaxis": "y"
        },
        {
         "alignmentgroup": "True",
         "hovertemplate": "product_category_name=%{x}<br>order_id=%{y}<extra></extra>",
         "legendgroup": "housewares",
         "marker": {
          "color": "#19d3f3"
         },
         "name": "housewares",
         "offsetgroup": "housewares",
         "orientation": "v",
         "showlegend": true,
         "textposition": "auto",
         "type": "bar",
         "x": [
          "housewares"
         ],
         "xaxis": "x",
         "y": [
          7196
         ],
         "yaxis": "y"
        },
        {
         "alignmentgroup": "True",
         "hovertemplate": "product_category_name=%{x}<br>order_id=%{y}<extra></extra>",
         "legendgroup": "watches_gifts",
         "marker": {
          "color": "#FF6692"
         },
         "name": "watches_gifts",
         "offsetgroup": "watches_gifts",
         "orientation": "v",
         "showlegend": true,
         "textposition": "auto",
         "type": "bar",
         "x": [
          "watches_gifts"
         ],
         "xaxis": "x",
         "y": [
          6075
         ],
         "yaxis": "y"
        },
        {
         "alignmentgroup": "True",
         "hovertemplate": "product_category_name=%{x}<br>order_id=%{y}<extra></extra>",
         "legendgroup": "telephony",
         "marker": {
          "color": "#B6E880"
         },
         "name": "telephony",
         "offsetgroup": "telephony",
         "orientation": "v",
         "showlegend": true,
         "textposition": "auto",
         "type": "bar",
         "x": [
          "telephony"
         ],
         "xaxis": "x",
         "y": [
          4605
         ],
         "yaxis": "y"
        },
        {
         "alignmentgroup": "True",
         "hovertemplate": "product_category_name=%{x}<br>order_id=%{y}<extra></extra>",
         "legendgroup": "garden_tools",
         "marker": {
          "color": "#FF97FF"
         },
         "name": "garden_tools",
         "offsetgroup": "garden_tools",
         "orientation": "v",
         "showlegend": true,
         "textposition": "auto",
         "type": "bar",
         "x": [
          "garden_tools"
         ],
         "xaxis": "x",
         "y": [
          4479
         ],
         "yaxis": "y"
        },
        {
         "alignmentgroup": "True",
         "hovertemplate": "product_category_name=%{x}<br>order_id=%{y}<extra></extra>",
         "legendgroup": "auto",
         "marker": {
          "color": "#FECB52"
         },
         "name": "auto",
         "offsetgroup": "auto",
         "orientation": "v",
         "showlegend": true,
         "textposition": "auto",
         "type": "bar",
         "x": [
          "auto"
         ],
         "xaxis": "x",
         "y": [
          4301
         ],
         "yaxis": "y"
        }
       ],
       "layout": {
        "barmode": "relative",
        "legend": {
         "title": {
          "text": "product_category_name"
         },
         "tracegroupgap": 0
        },
        "margin": {
         "t": 60
        },
        "template": {
         "data": {
          "pie": [
           {
            "automargin": true,
            "type": "pie"
           }
          ]
         },
         "layout": {
          "xaxis": {
           "showgrid": true,
           "title": {
            "standoff": 15
           }
          },
          "yaxis": {
           "showgrid": true,
           "title": {
            "standoff": 15
           }
          }
         }
        },
        "title": {
         "text": "highest sales in product category",
         "x": 0.5
        },
        "xaxis": {
         "anchor": "y",
         "categoryarray": [
          "bed_bath_table",
          "health_beauty",
          "sports_leisure",
          "furniture_decor",
          "computers_accessories",
          "housewares",
          "watches_gifts",
          "telephony",
          "garden_tools",
          "auto"
         ],
         "categoryorder": "array",
         "domain": [
          0,
          1
         ],
         "title": {
          "text": "product_category_name"
         }
        },
        "yaxis": {
         "anchor": "x",
         "domain": [
          0,
          1
         ],
         "title": {
          "text": "order_id"
         }
        }
       }
      },
      "text/html": [
       "<div>                            <div id=\"4828e255-3602-4901-a602-a3decde828e1\" class=\"plotly-graph-div\" style=\"height:525px; width:100%;\"></div>            <script type=\"text/javascript\">                require([\"plotly\"], function(Plotly) {                    window.PLOTLYENV=window.PLOTLYENV || {};                                    if (document.getElementById(\"4828e255-3602-4901-a602-a3decde828e1\")) {                    Plotly.newPlot(                        \"4828e255-3602-4901-a602-a3decde828e1\",                        [{\"alignmentgroup\": \"True\", \"hovertemplate\": \"product_category_name=%{x}<br>order_id=%{y}<extra></extra>\", \"legendgroup\": \"bed_bath_table\", \"marker\": {\"color\": \"#636efa\"}, \"name\": \"bed_bath_table\", \"offsetgroup\": \"bed_bath_table\", \"orientation\": \"v\", \"showlegend\": true, \"textposition\": \"auto\", \"type\": \"bar\", \"x\": [\"bed_bath_table\"], \"xaxis\": \"x\", \"y\": [11815], \"yaxis\": \"y\"}, {\"alignmentgroup\": \"True\", \"hovertemplate\": \"product_category_name=%{x}<br>order_id=%{y}<extra></extra>\", \"legendgroup\": \"health_beauty\", \"marker\": {\"color\": \"#EF553B\"}, \"name\": \"health_beauty\", \"offsetgroup\": \"health_beauty\", \"orientation\": \"v\", \"showlegend\": true, \"textposition\": \"auto\", \"type\": \"bar\", \"x\": [\"health_beauty\"], \"xaxis\": \"x\", \"y\": [9816], \"yaxis\": \"y\"}, {\"alignmentgroup\": \"True\", \"hovertemplate\": \"product_category_name=%{x}<br>order_id=%{y}<extra></extra>\", \"legendgroup\": \"sports_leisure\", \"marker\": {\"color\": \"#00cc96\"}, \"name\": \"sports_leisure\", \"offsetgroup\": \"sports_leisure\", \"orientation\": \"v\", \"showlegend\": true, \"textposition\": \"auto\", \"type\": \"bar\", \"x\": [\"sports_leisure\"], \"xaxis\": \"x\", \"y\": [8790], \"yaxis\": \"y\"}, {\"alignmentgroup\": \"True\", \"hovertemplate\": \"product_category_name=%{x}<br>order_id=%{y}<extra></extra>\", \"legendgroup\": \"furniture_decor\", \"marker\": {\"color\": \"#ab63fa\"}, \"name\": \"furniture_decor\", \"offsetgroup\": \"furniture_decor\", \"orientation\": \"v\", \"showlegend\": true, \"textposition\": \"auto\", \"type\": \"bar\", \"x\": [\"furniture_decor\"], \"xaxis\": \"x\", \"y\": [8640], \"yaxis\": \"y\"}, {\"alignmentgroup\": \"True\", \"hovertemplate\": \"product_category_name=%{x}<br>order_id=%{y}<extra></extra>\", \"legendgroup\": \"computers_accessories\", \"marker\": {\"color\": \"#FFA15A\"}, \"name\": \"computers_accessories\", \"offsetgroup\": \"computers_accessories\", \"orientation\": \"v\", \"showlegend\": true, \"textposition\": \"auto\", \"type\": \"bar\", \"x\": [\"computers_accessories\"], \"xaxis\": \"x\", \"y\": [7963], \"yaxis\": \"y\"}, {\"alignmentgroup\": \"True\", \"hovertemplate\": \"product_category_name=%{x}<br>order_id=%{y}<extra></extra>\", \"legendgroup\": \"housewares\", \"marker\": {\"color\": \"#19d3f3\"}, \"name\": \"housewares\", \"offsetgroup\": \"housewares\", \"orientation\": \"v\", \"showlegend\": true, \"textposition\": \"auto\", \"type\": \"bar\", \"x\": [\"housewares\"], \"xaxis\": \"x\", \"y\": [7196], \"yaxis\": \"y\"}, {\"alignmentgroup\": \"True\", \"hovertemplate\": \"product_category_name=%{x}<br>order_id=%{y}<extra></extra>\", \"legendgroup\": \"watches_gifts\", \"marker\": {\"color\": \"#FF6692\"}, \"name\": \"watches_gifts\", \"offsetgroup\": \"watches_gifts\", \"orientation\": \"v\", \"showlegend\": true, \"textposition\": \"auto\", \"type\": \"bar\", \"x\": [\"watches_gifts\"], \"xaxis\": \"x\", \"y\": [6075], \"yaxis\": \"y\"}, {\"alignmentgroup\": \"True\", \"hovertemplate\": \"product_category_name=%{x}<br>order_id=%{y}<extra></extra>\", \"legendgroup\": \"telephony\", \"marker\": {\"color\": \"#B6E880\"}, \"name\": \"telephony\", \"offsetgroup\": \"telephony\", \"orientation\": \"v\", \"showlegend\": true, \"textposition\": \"auto\", \"type\": \"bar\", \"x\": [\"telephony\"], \"xaxis\": \"x\", \"y\": [4605], \"yaxis\": \"y\"}, {\"alignmentgroup\": \"True\", \"hovertemplate\": \"product_category_name=%{x}<br>order_id=%{y}<extra></extra>\", \"legendgroup\": \"garden_tools\", \"marker\": {\"color\": \"#FF97FF\"}, \"name\": \"garden_tools\", \"offsetgroup\": \"garden_tools\", \"orientation\": \"v\", \"showlegend\": true, \"textposition\": \"auto\", \"type\": \"bar\", \"x\": [\"garden_tools\"], \"xaxis\": \"x\", \"y\": [4479], \"yaxis\": \"y\"}, {\"alignmentgroup\": \"True\", \"hovertemplate\": \"product_category_name=%{x}<br>order_id=%{y}<extra></extra>\", \"legendgroup\": \"auto\", \"marker\": {\"color\": \"#FECB52\"}, \"name\": \"auto\", \"offsetgroup\": \"auto\", \"orientation\": \"v\", \"showlegend\": true, \"textposition\": \"auto\", \"type\": \"bar\", \"x\": [\"auto\"], \"xaxis\": \"x\", \"y\": [4301], \"yaxis\": \"y\"}],                        {\"barmode\": \"relative\", \"legend\": {\"title\": {\"text\": \"product_category_name\"}, \"tracegroupgap\": 0}, \"margin\": {\"t\": 60}, \"template\": {\"data\": {\"pie\": [{\"automargin\": true, \"type\": \"pie\"}]}, \"layout\": {\"xaxis\": {\"showgrid\": true, \"title\": {\"standoff\": 15}}, \"yaxis\": {\"showgrid\": true, \"title\": {\"standoff\": 15}}}}, \"title\": {\"text\": \"highest sales in product category\", \"x\": 0.5}, \"xaxis\": {\"anchor\": \"y\", \"categoryarray\": [\"bed_bath_table\", \"health_beauty\", \"sports_leisure\", \"furniture_decor\", \"computers_accessories\", \"housewares\", \"watches_gifts\", \"telephony\", \"garden_tools\", \"auto\"], \"categoryorder\": \"array\", \"domain\": [0.0, 1.0], \"title\": {\"text\": \"product_category_name\"}}, \"yaxis\": {\"anchor\": \"x\", \"domain\": [0.0, 1.0], \"title\": {\"text\": \"order_id\"}}},                        {\"responsive\": true}                    ).then(function(){\n",
       "                            \n",
       "var gd = document.getElementById('4828e255-3602-4901-a602-a3decde828e1');\n",
       "var x = new MutationObserver(function (mutations, observer) {{\n",
       "        var display = window.getComputedStyle(gd).display;\n",
       "        if (!display || display === 'none') {{\n",
       "            console.log([gd, 'removed!']);\n",
       "            Plotly.purge(gd);\n",
       "            observer.disconnect();\n",
       "        }}\n",
       "}});\n",
       "\n",
       "// Listen for the removal of the full notebook cells\n",
       "var notebookContainer = gd.closest('#notebook-container');\n",
       "if (notebookContainer) {{\n",
       "    x.observe(notebookContainer, {childList: true});\n",
       "}}\n",
       "\n",
       "// Listen for the clearing of the current output cell\n",
       "var outputEl = gd.closest('.output');\n",
       "if (outputEl) {{\n",
       "    x.observe(outputEl, {childList: true});\n",
       "}}\n",
       "\n",
       "                        })                };                });            </script>        </div>"
      ]
     },
     "metadata": {},
     "output_type": "display_data"
    }
   ],
   "source": [
    "PO= data[['product_category_name','order_id']]\n",
    "\n",
    "group_4=PO.groupby(['product_category_name'],as_index=False).count().sort_values('order_id',ascending = False).head(10)\n",
    "group_4\n",
    "\n",
    "\n",
    "fig = px.bar(group_4,x='product_category_name', y='order_id',color = 'product_category_name')\n",
    "fig.update_layout(title_text='highest sales in product category',title_x=0.5\n",
    "                  ,template='gridon')\n",
    "fig.show()"
   ]
  },
  {
   "cell_type": "markdown",
   "metadata": {},
   "source": [
    "# Feature Engineering"
   ]
  },
  {
   "cell_type": "code",
   "execution_count": 36,
   "metadata": {
    "scrolled": true
   },
   "outputs": [
    {
     "data": {
      "text/plain": [
       "Index(['order_id', 'customer_id', 'order_status', 'order_purchase_timestamp',\n",
       "       'order_approved_at', 'order_delivered_to_carrier_date',\n",
       "       'order_delivered_to_customer_date', 'order_estimated_delivery_date',\n",
       "       'product_id', 'seller_id', 'price', 'order_purchase_date', 'year',\n",
       "       'month', 'day', 'seller_state', 'payment_type', 'payment_value',\n",
       "       'customer_unique_id', 'customer_state', 'review_id', 'review_score',\n",
       "       'survey_sent_date', 'survey_answer_timestamp', 'product_photos_count',\n",
       "       'product_length_cm', 'product_height_cm', 'product_width_cm',\n",
       "       'product_category_name', 'product_weight_kg'],\n",
       "      dtype='object')"
      ]
     },
     "execution_count": 36,
     "metadata": {},
     "output_type": "execute_result"
    }
   ],
   "source": [
    "data.columns"
   ]
  },
  {
   "cell_type": "markdown",
   "metadata": {},
   "source": [
    "feature engineering"
   ]
  },
  {
   "cell_type": "code",
   "execution_count": 37,
   "metadata": {},
   "outputs": [],
   "source": [
    "#converting the timestamp format data to date data as we need just the date and not the exact time\n",
    "data['order_purchase_timestamp'] = pd.to_datetime(data['order_purchase_timestamp']).dt.date\n",
    "data['order_estimated_delivery_date'] = pd.to_datetime(data['order_estimated_delivery_date']).dt.date\n",
    "data['order_delivered_to_customer_date'] = pd.to_datetime(data['order_delivered_to_customer_date']).dt.date"
   ]
  },
  {
   "cell_type": "code",
   "execution_count": 38,
   "metadata": {},
   "outputs": [],
   "source": [
    "#subtracting the order_purchase_time to rest time based feature and converting date time into string to remove the timestamp notation \n",
    "data['delivery_days'] = data['order_delivered_to_customer_date'].sub(data['order_purchase_timestamp'],axis=0).astype(str)\n",
    "data['estimated_days'] = data['order_estimated_delivery_date'].sub(data['order_purchase_timestamp'],axis=0).astype(str)"
   ]
  },
  {
   "cell_type": "code",
   "execution_count": 39,
   "metadata": {},
   "outputs": [],
   "source": [
    "#replacing the time stamp notation and converting type to int\n",
    "data['delivery_days'] = data['delivery_days'].str.replace(\" days\",\"\")\n",
    "data['estimated_days'] = data['estimated_days'].str.replace(\" days\",\"\")"
   ]
  },
  {
   "cell_type": "code",
   "execution_count": 40,
   "metadata": {
    "scrolled": true
   },
   "outputs": [],
   "source": [
    "data['delivery_days'] = data['delivery_days'].str.split(' ').str[0].astype(int)\n",
    "data['estimated_days'] = data['estimated_days'].str.split(' ').str[0].astype(int)"
   ]
  },
  {
   "cell_type": "code",
   "execution_count": 41,
   "metadata": {},
   "outputs": [],
   "source": [
    "data['arrival_time'] = (data['estimated_days'] - data['delivery_days']).apply(lambda x: 'Early/OnTime' if x > 0 else 'Late')"
   ]
  },
  {
   "cell_type": "code",
   "execution_count": 42,
   "metadata": {
    "scrolled": false
   },
   "outputs": [
    {
     "name": "stderr",
     "output_type": "stream",
     "text": [
      "C:\\Users\\VENKATESH\\anaconda3\\envs\\cust\\lib\\site-packages\\seaborn\\distributions.py:2557: FutureWarning:\n",
      "\n",
      "`distplot` is a deprecated function and will be removed in a future version. Please adapt your code to use either `displot` (a figure-level function with similar flexibility) or `histplot` (an axes-level function for histograms).\n",
      "\n",
      "C:\\Users\\VENKATESH\\anaconda3\\envs\\cust\\lib\\site-packages\\seaborn\\distributions.py:2557: FutureWarning:\n",
      "\n",
      "`distplot` is a deprecated function and will be removed in a future version. Please adapt your code to use either `displot` (a figure-level function with similar flexibility) or `histplot` (an axes-level function for histograms).\n",
      "\n"
     ]
    },
    {
     "data": {
      "image/png": "[encoded data removed]",
      "text/plain": [
       "<Figure size 679.125x576 with 1 Axes>"
      ]
     },
     "metadata": {
      "needs_background": "light"
     },
     "output_type": "display_data"
    }
   ],
   "source": [
    "sns.FacetGrid(data, hue=\"arrival_time\", height=8) \\\n",
    "   .map(sns.distplot, 'review_score') \\\n",
    "   .add_legend();\n",
    "plt.show();"
   ]
  },
  {
   "cell_type": "code",
   "execution_count": 43,
   "metadata": {},
   "outputs": [
    {
     "name": "stdout",
     "output_type": "stream",
     "text": [
      "(627,)\n",
      "Percentage of extermely late delivered packages in the dataset is: 0.55%\n"
     ]
    }
   ],
   "source": [
    "#dropping exceptional delivery or possible outliers\n",
    "ix = data[(data['delivery_days'] > 60) | (data['estimated_days'] > 60) ].index\n",
    "print(ix.shape)\n",
    "\n",
    "print('Percentage of extermely late delivered packages in the dataset is: {}%'.format(round((((ix.shape[0])/(data.shape[0])))*100,3)))\n",
    "#we can remove those outliers\n",
    "data.drop(ix,inplace=True)"
   ]
  },
  {
   "cell_type": "code",
   "execution_count": 44,
   "metadata": {},
   "outputs": [],
   "source": [
    "#binning and grouping delivery times into groups or classes\n",
    "\n",
    "delivery_feedbacks = []\n",
    "estimated_del_feedbacks = []\n",
    "d_days = data.delivery_days.values.tolist()\n",
    "est_days = data.estimated_days.values.tolist()\n",
    "\n",
    "#actural delivery days\n",
    "for i in d_days:\n",
    "    if i in range(0,8):\n",
    "        delivery_feedbacks.append('Very_Fast')\n",
    "    elif i in range(8,16):\n",
    "        delivery_feedbacks.append('Fast')\n",
    "    elif i in range(16,25):\n",
    "        delivery_feedbacks.append('Neutral')\n",
    "    elif i in range(25,40):\n",
    "        delivery_feedbacks.append('Slow')\n",
    "    elif i in range(40,61):\n",
    "        delivery_feedbacks.append('Worst')\n",
    "\n",
    "#estimated delivery days\n",
    "for i in est_days:\n",
    "    if i in range(0,8):\n",
    "        estimated_del_feedbacks.append('Very_Fast')\n",
    "    elif i in range(8,16):\n",
    "        estimated_del_feedbacks.append('Fast')\n",
    "    elif i in range(16,25):\n",
    "        estimated_del_feedbacks.append('Neutral')\n",
    "    elif i in range(25,40):\n",
    "        estimated_del_feedbacks.append('Slow')\n",
    "    elif i in range(40,61):\n",
    "        estimated_del_feedbacks.append('Worst')\n"
   ]
  },
  {
   "cell_type": "code",
   "execution_count": 45,
   "metadata": {},
   "outputs": [],
   "source": [
    "#putting list values into the dataframe as feature\n",
    "data['delivery_impression'] = delivery_feedbacks\n",
    "data['estimated_del_impression'] = estimated_del_feedbacks"
   ]
  },
  {
   "cell_type": "code",
   "execution_count": 46,
   "metadata": {
    "scrolled": true
   },
   "outputs": [
    {
     "data": {
      "text/plain": [
       "113446"
      ]
     },
     "execution_count": 46,
     "metadata": {},
     "output_type": "execute_result"
    }
   ],
   "source": [
    "from collections import Counter\n",
    "#finding all those customers who have made multiple product purchases\n",
    "order_counts = [k for k,v in Counter(data.customer_unique_id).items() if v > 1]\n",
    "existing_cust = []\n",
    "for i in data.customer_unique_id.values:\n",
    "    if i in order_counts:\n",
    "        existing_cust.append(1)\n",
    "    else:\n",
    "        existing_cust.append(0)\n",
    "len(existing_cust)"
   ]
  },
  {
   "cell_type": "code",
   "execution_count": 47,
   "metadata": {},
   "outputs": [],
   "source": [
    "data['existing_cust'] = existing_cust"
   ]
  },
  {
   "cell_type": "code",
   "execution_count": 48,
   "metadata": {
    "scrolled": true
   },
   "outputs": [
    {
     "data": {
      "text/plain": [
       "<AxesSubplot:ylabel='review_score'>"
      ]
     },
     "execution_count": 48,
     "metadata": {},
     "output_type": "execute_result"
    },
    {
     "data": {
      "image/png": "[encoded data removed]",
      "text/plain": [
       "<Figure size 1440x576 with 1 Axes>"
      ]
     },
     "metadata": {
      "needs_background": "light"
     },
     "output_type": "display_data"
    }
   ],
   "source": [
    "#Delivery Days histogram with review rating as hue\n",
    "df_plot = data.groupby(['delivery_impression', 'review_score']).size().reset_index().pivot(columns='delivery_impression', index='review_score', values=0)\n",
    "df_plot.plot(kind='barh',stacked=True,figsize=(20,8))"
   ]
  },
  {
   "cell_type": "code",
   "execution_count": 49,
   "metadata": {},
   "outputs": [],
   "source": [
    "#if score<=3, set score = 0 \n",
    "data.loc[data['review_score'] < 3 ,'Score'] = 0\n",
    "data.loc[data['review_score'] > 3,'Score'] = 1\n",
    "#removing neutral reviews\n",
    "data.drop(data[data['review_score'] == 3].index,inplace=True)\n",
    "data.drop('review_score',axis=1,inplace=True)"
   ]
  },
  {
   "cell_type": "code",
   "execution_count": 50,
   "metadata": {},
   "outputs": [
    {
     "data": {
      "text/plain": [
       "Index(['order_id', 'customer_id', 'order_status', 'order_purchase_timestamp',\n",
       "       'order_approved_at', 'order_delivered_to_carrier_date',\n",
       "       'order_delivered_to_customer_date', 'order_estimated_delivery_date',\n",
       "       'product_id', 'seller_id', 'price', 'order_purchase_date', 'year',\n",
       "       'month', 'day', 'seller_state', 'payment_type', 'payment_value',\n",
       "       'customer_unique_id', 'customer_state', 'review_id', 'survey_sent_date',\n",
       "       'survey_answer_timestamp', 'product_photos_count', 'product_length_cm',\n",
       "       'product_height_cm', 'product_width_cm', 'product_category_name',\n",
       "       'product_weight_kg', 'delivery_days', 'estimated_days', 'arrival_time',\n",
       "       'delivery_impression', 'estimated_del_impression', 'existing_cust',\n",
       "       'Score'],\n",
       "      dtype='object')"
      ]
     },
     "execution_count": 50,
     "metadata": {},
     "output_type": "execute_result"
    }
   ],
   "source": [
    "data.columns"
   ]
  },
  {
   "cell_type": "code",
   "execution_count": 51,
   "metadata": {},
   "outputs": [],
   "source": [
    "#dropping features\n",
    "data.drop(['customer_unique_id','seller_id','product_id','order_id','customer_id','order_status',\n",
    "           'order_approved_at','order_delivered_to_carrier_date','order_delivered_to_customer_date',\n",
    "           'order_estimated_delivery_date','order_purchase_date','year','month','day',\n",
    "           'review_id','survey_sent_date','survey_answer_timestamp','product_length_cm',\n",
    "           'product_height_cm', 'product_width_cm','product_weight_kg','order_purchase_timestamp'],axis=1,inplace=True)\n",
    "           "
   ]
  },
  {
   "cell_type": "code",
   "execution_count": 52,
   "metadata": {
    "scrolled": true
   },
   "outputs": [
    {
     "data": {
      "text/plain": [
       "Index(['price', 'seller_state', 'payment_type', 'payment_value',\n",
       "       'customer_state', 'product_photos_count', 'product_category_name',\n",
       "       'delivery_days', 'estimated_days', 'arrival_time',\n",
       "       'delivery_impression', 'estimated_del_impression', 'existing_cust',\n",
       "       'Score'],\n",
       "      dtype='object')"
      ]
     },
     "execution_count": 52,
     "metadata": {},
     "output_type": "execute_result"
    }
   ],
   "source": [
    "data.columns"
   ]
  },
  {
   "cell_type": "code",
   "execution_count": 53,
   "metadata": {
    "scrolled": false
   },
   "outputs": [
    {
     "data": {
      "text/html": [
       "<div>\n",
       "<style scoped>\n",
       "    .dataframe tbody tr th:only-of-type {\n",
       "        vertical-align: middle;\n",
       "    }\n",
       "\n",
       "    .dataframe tbody tr th {\n",
       "        vertical-align: top;\n",
       "    }\n",
       "\n",
       "    .dataframe thead th {\n",
       "        text-align: right;\n",
       "    }\n",
       "</style>\n",
       "<table border=\"1\" class=\"dataframe\">\n",
       "  <thead>\n",
       "    <tr style=\"text-align: right;\">\n",
       "      <th></th>\n",
       "      <th>price</th>\n",
       "      <th>seller_state</th>\n",
       "      <th>payment_type</th>\n",
       "      <th>payment_value</th>\n",
       "      <th>customer_state</th>\n",
       "      <th>product_photos_count</th>\n",
       "      <th>product_category_name</th>\n",
       "      <th>delivery_days</th>\n",
       "      <th>estimated_days</th>\n",
       "      <th>arrival_time</th>\n",
       "      <th>delivery_impression</th>\n",
       "      <th>estimated_del_impression</th>\n",
       "      <th>existing_cust</th>\n",
       "      <th>Score</th>\n",
       "    </tr>\n",
       "  </thead>\n",
       "  <tbody>\n",
       "    <tr>\n",
       "      <th>0</th>\n",
       "      <td>29</td>\n",
       "      <td>SP</td>\n",
       "      <td>credit_card</td>\n",
       "      <td>18</td>\n",
       "      <td>SP</td>\n",
       "      <td>4.0</td>\n",
       "      <td>housewares</td>\n",
       "      <td>8</td>\n",
       "      <td>16</td>\n",
       "      <td>Early/OnTime</td>\n",
       "      <td>Fast</td>\n",
       "      <td>Neutral</td>\n",
       "      <td>1</td>\n",
       "      <td>1.0</td>\n",
       "    </tr>\n",
       "    <tr>\n",
       "      <th>1</th>\n",
       "      <td>29</td>\n",
       "      <td>SP</td>\n",
       "      <td>voucher</td>\n",
       "      <td>2</td>\n",
       "      <td>SP</td>\n",
       "      <td>4.0</td>\n",
       "      <td>housewares</td>\n",
       "      <td>8</td>\n",
       "      <td>16</td>\n",
       "      <td>Early/OnTime</td>\n",
       "      <td>Fast</td>\n",
       "      <td>Neutral</td>\n",
       "      <td>1</td>\n",
       "      <td>1.0</td>\n",
       "    </tr>\n",
       "    <tr>\n",
       "      <th>2</th>\n",
       "      <td>29</td>\n",
       "      <td>SP</td>\n",
       "      <td>voucher</td>\n",
       "      <td>18</td>\n",
       "      <td>SP</td>\n",
       "      <td>4.0</td>\n",
       "      <td>housewares</td>\n",
       "      <td>8</td>\n",
       "      <td>16</td>\n",
       "      <td>Early/OnTime</td>\n",
       "      <td>Fast</td>\n",
       "      <td>Neutral</td>\n",
       "      <td>1</td>\n",
       "      <td>1.0</td>\n",
       "    </tr>\n",
       "    <tr>\n",
       "      <th>3</th>\n",
       "      <td>29</td>\n",
       "      <td>SP</td>\n",
       "      <td>credit_card</td>\n",
       "      <td>37</td>\n",
       "      <td>SP</td>\n",
       "      <td>4.0</td>\n",
       "      <td>housewares</td>\n",
       "      <td>3</td>\n",
       "      <td>13</td>\n",
       "      <td>Early/OnTime</td>\n",
       "      <td>Very_Fast</td>\n",
       "      <td>Fast</td>\n",
       "      <td>0</td>\n",
       "      <td>1.0</td>\n",
       "    </tr>\n",
       "    <tr>\n",
       "      <th>4</th>\n",
       "      <td>29</td>\n",
       "      <td>SP</td>\n",
       "      <td>credit_card</td>\n",
       "      <td>37</td>\n",
       "      <td>SP</td>\n",
       "      <td>4.0</td>\n",
       "      <td>housewares</td>\n",
       "      <td>5</td>\n",
       "      <td>13</td>\n",
       "      <td>Early/OnTime</td>\n",
       "      <td>Very_Fast</td>\n",
       "      <td>Fast</td>\n",
       "      <td>0</td>\n",
       "      <td>1.0</td>\n",
       "    </tr>\n",
       "  </tbody>\n",
       "</table>\n",
       "</div>"
      ],
      "text/plain": [
       "   price seller_state payment_type  payment_value customer_state  \\\n",
       "0     29           SP  credit_card             18             SP   \n",
       "1     29           SP      voucher              2             SP   \n",
       "2     29           SP      voucher             18             SP   \n",
       "3     29           SP  credit_card             37             SP   \n",
       "4     29           SP  credit_card             37             SP   \n",
       "\n",
       "   product_photos_count product_category_name  delivery_days  estimated_days  \\\n",
       "0                   4.0            housewares              8              16   \n",
       "1                   4.0            housewares              8              16   \n",
       "2                   4.0            housewares              8              16   \n",
       "3                   4.0            housewares              3              13   \n",
       "4                   4.0            housewares              5              13   \n",
       "\n",
       "   arrival_time delivery_impression estimated_del_impression  existing_cust  \\\n",
       "0  Early/OnTime                Fast                  Neutral              1   \n",
       "1  Early/OnTime                Fast                  Neutral              1   \n",
       "2  Early/OnTime                Fast                  Neutral              1   \n",
       "3  Early/OnTime           Very_Fast                     Fast              0   \n",
       "4  Early/OnTime           Very_Fast                     Fast              0   \n",
       "\n",
       "   Score  \n",
       "0    1.0  \n",
       "1    1.0  \n",
       "2    1.0  \n",
       "3    1.0  \n",
       "4    1.0  "
      ]
     },
     "execution_count": 53,
     "metadata": {},
     "output_type": "execute_result"
    }
   ],
   "source": [
    "data.head()"
   ]
  },
  {
   "cell_type": "code",
   "execution_count": 54,
   "metadata": {},
   "outputs": [
    {
     "data": {
      "text/plain": [
       "['Fast', 'Neutral', 'Slow', 'Very_Fast', 'Worst']"
      ]
     },
     "execution_count": 54,
     "metadata": {},
     "output_type": "execute_result"
    }
   ],
   "source": [
    "a = list(data['delivery_impression'].unique())\n",
    "a.sort()\n",
    "a"
   ]
  },
  {
   "cell_type": "markdown",
   "metadata": {},
   "source": [
    "# Modelling"
   ]
  },
  {
   "cell_type": "code",
   "execution_count": 55,
   "metadata": {},
   "outputs": [],
   "source": [
    "from sklearn.model_selection import train_test_split\n",
    "from sklearn.preprocessing import StandardScaler,OneHotEncoder\n",
    "from sklearn.metrics import f1_score,accuracy_score\n",
    "from sklearn.linear_model import LogisticRegression\n",
    "from sklearn import metrics\n",
    "from sklearn.metrics import confusion_matrix"
   ]
  },
  {
   "cell_type": "code",
   "execution_count": 56,
   "metadata": {},
   "outputs": [],
   "source": [
    "#spliting data to train and test data\n",
    "X = data.drop('Score',axis=1)\n",
    "Y = data.Score.values"
   ]
  },
  {
   "cell_type": "code",
   "execution_count": 57,
   "metadata": {},
   "outputs": [],
   "source": [
    "numeric_features = ['price','payment_value','product_photos_count','delivery_days','estimated_days']"
   ]
  },
  {
   "cell_type": "code",
   "execution_count": 58,
   "metadata": {},
   "outputs": [],
   "source": [
    "categorical_feature = ['payment_type','customer_state','seller_state','product_category_name','arrival_time',\n",
    "                               'delivery_impression','estimated_del_impression','existing_cust']"
   ]
  },
  {
   "cell_type": "code",
   "execution_count": 59,
   "metadata": {
    "scrolled": false
   },
   "outputs": [
    {
     "data": {
      "text/html": [
       "<div>\n",
       "<style scoped>\n",
       "    .dataframe tbody tr th:only-of-type {\n",
       "        vertical-align: middle;\n",
       "    }\n",
       "\n",
       "    .dataframe tbody tr th {\n",
       "        vertical-align: top;\n",
       "    }\n",
       "\n",
       "    .dataframe thead th {\n",
       "        text-align: right;\n",
       "    }\n",
       "</style>\n",
       "<table border=\"1\" class=\"dataframe\">\n",
       "  <thead>\n",
       "    <tr style=\"text-align: right;\">\n",
       "      <th></th>\n",
       "      <th>price</th>\n",
       "      <th>seller_state</th>\n",
       "      <th>payment_type</th>\n",
       "      <th>payment_value</th>\n",
       "      <th>customer_state</th>\n",
       "      <th>product_photos_count</th>\n",
       "      <th>product_category_name</th>\n",
       "      <th>delivery_days</th>\n",
       "      <th>estimated_days</th>\n",
       "      <th>arrival_time</th>\n",
       "      <th>delivery_impression</th>\n",
       "      <th>estimated_del_impression</th>\n",
       "      <th>existing_cust</th>\n",
       "    </tr>\n",
       "  </thead>\n",
       "  <tbody>\n",
       "    <tr>\n",
       "      <th>0</th>\n",
       "      <td>-0.491016</td>\n",
       "      <td>SP</td>\n",
       "      <td>credit_card</td>\n",
       "      <td>-0.569521</td>\n",
       "      <td>SP</td>\n",
       "      <td>1.043748</td>\n",
       "      <td>housewares</td>\n",
       "      <td>-0.488630</td>\n",
       "      <td>-0.976763</td>\n",
       "      <td>Early/OnTime</td>\n",
       "      <td>Fast</td>\n",
       "      <td>Neutral</td>\n",
       "      <td>1</td>\n",
       "    </tr>\n",
       "    <tr>\n",
       "      <th>1</th>\n",
       "      <td>-0.491016</td>\n",
       "      <td>SP</td>\n",
       "      <td>voucher</td>\n",
       "      <td>-0.628793</td>\n",
       "      <td>SP</td>\n",
       "      <td>1.043748</td>\n",
       "      <td>housewares</td>\n",
       "      <td>-0.488630</td>\n",
       "      <td>-0.976763</td>\n",
       "      <td>Early/OnTime</td>\n",
       "      <td>Fast</td>\n",
       "      <td>Neutral</td>\n",
       "      <td>1</td>\n",
       "    </tr>\n",
       "    <tr>\n",
       "      <th>2</th>\n",
       "      <td>-0.491016</td>\n",
       "      <td>SP</td>\n",
       "      <td>voucher</td>\n",
       "      <td>-0.569521</td>\n",
       "      <td>SP</td>\n",
       "      <td>1.043748</td>\n",
       "      <td>housewares</td>\n",
       "      <td>-0.488630</td>\n",
       "      <td>-0.976763</td>\n",
       "      <td>Early/OnTime</td>\n",
       "      <td>Fast</td>\n",
       "      <td>Neutral</td>\n",
       "      <td>1</td>\n",
       "    </tr>\n",
       "    <tr>\n",
       "      <th>3</th>\n",
       "      <td>-0.491016</td>\n",
       "      <td>SP</td>\n",
       "      <td>credit_card</td>\n",
       "      <td>-0.499135</td>\n",
       "      <td>SP</td>\n",
       "      <td>1.043748</td>\n",
       "      <td>housewares</td>\n",
       "      <td>-1.095309</td>\n",
       "      <td>-1.330383</td>\n",
       "      <td>Early/OnTime</td>\n",
       "      <td>Very_Fast</td>\n",
       "      <td>Fast</td>\n",
       "      <td>0</td>\n",
       "    </tr>\n",
       "    <tr>\n",
       "      <th>4</th>\n",
       "      <td>-0.491016</td>\n",
       "      <td>SP</td>\n",
       "      <td>credit_card</td>\n",
       "      <td>-0.499135</td>\n",
       "      <td>SP</td>\n",
       "      <td>1.043748</td>\n",
       "      <td>housewares</td>\n",
       "      <td>-0.852637</td>\n",
       "      <td>-1.330383</td>\n",
       "      <td>Early/OnTime</td>\n",
       "      <td>Very_Fast</td>\n",
       "      <td>Fast</td>\n",
       "      <td>0</td>\n",
       "    </tr>\n",
       "    <tr>\n",
       "      <th>...</th>\n",
       "      <td>...</td>\n",
       "      <td>...</td>\n",
       "      <td>...</td>\n",
       "      <td>...</td>\n",
       "      <td>...</td>\n",
       "      <td>...</td>\n",
       "      <td>...</td>\n",
       "      <td>...</td>\n",
       "      <td>...</td>\n",
       "      <td>...</td>\n",
       "      <td>...</td>\n",
       "      <td>...</td>\n",
       "      <td>...</td>\n",
       "    </tr>\n",
       "    <tr>\n",
       "      <th>118307</th>\n",
       "      <td>-0.410284</td>\n",
       "      <td>SC</td>\n",
       "      <td>credit_card</td>\n",
       "      <td>-0.139798</td>\n",
       "      <td>MG</td>\n",
       "      <td>-0.119957</td>\n",
       "      <td>sports_leisure</td>\n",
       "      <td>-0.124622</td>\n",
       "      <td>-0.505271</td>\n",
       "      <td>Early/OnTime</td>\n",
       "      <td>Fast</td>\n",
       "      <td>Neutral</td>\n",
       "      <td>1</td>\n",
       "    </tr>\n",
       "    <tr>\n",
       "      <th>118310</th>\n",
       "      <td>-0.221909</td>\n",
       "      <td>SP</td>\n",
       "      <td>boleto</td>\n",
       "      <td>-0.291682</td>\n",
       "      <td>SP</td>\n",
       "      <td>-0.119957</td>\n",
       "      <td>construction_tools_lights</td>\n",
       "      <td>-0.488630</td>\n",
       "      <td>-0.623144</td>\n",
       "      <td>Early/OnTime</td>\n",
       "      <td>Fast</td>\n",
       "      <td>Neutral</td>\n",
       "      <td>0</td>\n",
       "    </tr>\n",
       "    <tr>\n",
       "      <th>118312</th>\n",
       "      <td>1.500377</td>\n",
       "      <td>SP</td>\n",
       "      <td>debit_card</td>\n",
       "      <td>1.008600</td>\n",
       "      <td>CE</td>\n",
       "      <td>-0.119957</td>\n",
       "      <td>furniture_decor</td>\n",
       "      <td>-0.367294</td>\n",
       "      <td>-0.151651</td>\n",
       "      <td>Early/OnTime</td>\n",
       "      <td>Fast</td>\n",
       "      <td>Neutral</td>\n",
       "      <td>0</td>\n",
       "    </tr>\n",
       "    <tr>\n",
       "      <th>118313</th>\n",
       "      <td>0.531591</td>\n",
       "      <td>SP</td>\n",
       "      <td>credit_card</td>\n",
       "      <td>0.267698</td>\n",
       "      <td>MG</td>\n",
       "      <td>-0.701810</td>\n",
       "      <td>furniture_decor</td>\n",
       "      <td>1.088737</td>\n",
       "      <td>-0.858890</td>\n",
       "      <td>Late</td>\n",
       "      <td>Neutral</td>\n",
       "      <td>Neutral</td>\n",
       "      <td>0</td>\n",
       "    </tr>\n",
       "    <tr>\n",
       "      <th>118314</th>\n",
       "      <td>-0.566366</td>\n",
       "      <td>SP</td>\n",
       "      <td>boleto</td>\n",
       "      <td>-0.532476</td>\n",
       "      <td>SP</td>\n",
       "      <td>-0.701810</td>\n",
       "      <td>perfumery</td>\n",
       "      <td>-0.731302</td>\n",
       "      <td>-1.212510</td>\n",
       "      <td>Early/OnTime</td>\n",
       "      <td>Very_Fast</td>\n",
       "      <td>Fast</td>\n",
       "      <td>0</td>\n",
       "    </tr>\n",
       "  </tbody>\n",
       "</table>\n",
       "<p>103859 rows × 13 columns</p>\n",
       "</div>"
      ],
      "text/plain": [
       "           price seller_state payment_type  payment_value customer_state  \\\n",
       "0      -0.491016           SP  credit_card      -0.569521             SP   \n",
       "1      -0.491016           SP      voucher      -0.628793             SP   \n",
       "2      -0.491016           SP      voucher      -0.569521             SP   \n",
       "3      -0.491016           SP  credit_card      -0.499135             SP   \n",
       "4      -0.491016           SP  credit_card      -0.499135             SP   \n",
       "...          ...          ...          ...            ...            ...   \n",
       "118307 -0.410284           SC  credit_card      -0.139798             MG   \n",
       "118310 -0.221909           SP       boleto      -0.291682             SP   \n",
       "118312  1.500377           SP   debit_card       1.008600             CE   \n",
       "118313  0.531591           SP  credit_card       0.267698             MG   \n",
       "118314 -0.566366           SP       boleto      -0.532476             SP   \n",
       "\n",
       "        product_photos_count      product_category_name  delivery_days  \\\n",
       "0                   1.043748                 housewares      -0.488630   \n",
       "1                   1.043748                 housewares      -0.488630   \n",
       "2                   1.043748                 housewares      -0.488630   \n",
       "3                   1.043748                 housewares      -1.095309   \n",
       "4                   1.043748                 housewares      -0.852637   \n",
       "...                      ...                        ...            ...   \n",
       "118307             -0.119957             sports_leisure      -0.124622   \n",
       "118310             -0.119957  construction_tools_lights      -0.488630   \n",
       "118312             -0.119957            furniture_decor      -0.367294   \n",
       "118313             -0.701810            furniture_decor       1.088737   \n",
       "118314             -0.701810                  perfumery      -0.731302   \n",
       "\n",
       "        estimated_days  arrival_time delivery_impression  \\\n",
       "0            -0.976763  Early/OnTime                Fast   \n",
       "1            -0.976763  Early/OnTime                Fast   \n",
       "2            -0.976763  Early/OnTime                Fast   \n",
       "3            -1.330383  Early/OnTime           Very_Fast   \n",
       "4            -1.330383  Early/OnTime           Very_Fast   \n",
       "...                ...           ...                 ...   \n",
       "118307       -0.505271  Early/OnTime                Fast   \n",
       "118310       -0.623144  Early/OnTime                Fast   \n",
       "118312       -0.151651  Early/OnTime                Fast   \n",
       "118313       -0.858890          Late             Neutral   \n",
       "118314       -1.212510  Early/OnTime           Very_Fast   \n",
       "\n",
       "       estimated_del_impression  existing_cust  \n",
       "0                       Neutral              1  \n",
       "1                       Neutral              1  \n",
       "2                       Neutral              1  \n",
       "3                          Fast              0  \n",
       "4                          Fast              0  \n",
       "...                         ...            ...  \n",
       "118307                  Neutral              1  \n",
       "118310                  Neutral              0  \n",
       "118312                  Neutral              0  \n",
       "118313                  Neutral              0  \n",
       "118314                     Fast              0  \n",
       "\n",
       "[103859 rows x 13 columns]"
      ]
     },
     "execution_count": 59,
     "metadata": {},
     "output_type": "execute_result"
    }
   ],
   "source": [
    "ss = StandardScaler()\n",
    "\n",
    "# ss, now u go and study these numeric columns --> i.e. fit() over it\n",
    "ss.fit(X[numeric_features])\n",
    "\n",
    "# ss, now appear for the test\n",
    "X[numeric_features] = ss.transform(X[numeric_features])\n",
    "X"
   ]
  },
  {
   "cell_type": "code",
   "execution_count": 60,
   "metadata": {
    "scrolled": false
   },
   "outputs": [
    {
     "data": {
      "text/html": [
       "<div>\n",
       "<style scoped>\n",
       "    .dataframe tbody tr th:only-of-type {\n",
       "        vertical-align: middle;\n",
       "    }\n",
       "\n",
       "    .dataframe tbody tr th {\n",
       "        vertical-align: top;\n",
       "    }\n",
       "\n",
       "    .dataframe thead th {\n",
       "        text-align: right;\n",
       "    }\n",
       "</style>\n",
       "<table border=\"1\" class=\"dataframe\">\n",
       "  <thead>\n",
       "    <tr style=\"text-align: right;\">\n",
       "      <th></th>\n",
       "      <th>price</th>\n",
       "      <th>payment_value</th>\n",
       "      <th>product_photos_count</th>\n",
       "      <th>delivery_days</th>\n",
       "      <th>estimated_days</th>\n",
       "      <th>payment_type_boleto</th>\n",
       "      <th>payment_type_credit_card</th>\n",
       "      <th>payment_type_debit_card</th>\n",
       "      <th>payment_type_voucher</th>\n",
       "      <th>customer_state_AC</th>\n",
       "      <th>...</th>\n",
       "      <th>delivery_impression_Slow</th>\n",
       "      <th>delivery_impression_Very_Fast</th>\n",
       "      <th>delivery_impression_Worst</th>\n",
       "      <th>estimated_del_impression_Fast</th>\n",
       "      <th>estimated_del_impression_Neutral</th>\n",
       "      <th>estimated_del_impression_Slow</th>\n",
       "      <th>estimated_del_impression_Very_Fast</th>\n",
       "      <th>estimated_del_impression_Worst</th>\n",
       "      <th>existing_cust_0</th>\n",
       "      <th>existing_cust_1</th>\n",
       "    </tr>\n",
       "  </thead>\n",
       "  <tbody>\n",
       "    <tr>\n",
       "      <th>0</th>\n",
       "      <td>-0.491016</td>\n",
       "      <td>-0.569521</td>\n",
       "      <td>1.043748</td>\n",
       "      <td>-0.488630</td>\n",
       "      <td>-0.976763</td>\n",
       "      <td>0</td>\n",
       "      <td>1</td>\n",
       "      <td>0</td>\n",
       "      <td>0</td>\n",
       "      <td>0</td>\n",
       "      <td>...</td>\n",
       "      <td>0</td>\n",
       "      <td>0</td>\n",
       "      <td>0</td>\n",
       "      <td>0</td>\n",
       "      <td>1</td>\n",
       "      <td>0</td>\n",
       "      <td>0</td>\n",
       "      <td>0</td>\n",
       "      <td>0</td>\n",
       "      <td>1</td>\n",
       "    </tr>\n",
       "    <tr>\n",
       "      <th>1</th>\n",
       "      <td>-0.491016</td>\n",
       "      <td>-0.628793</td>\n",
       "      <td>1.043748</td>\n",
       "      <td>-0.488630</td>\n",
       "      <td>-0.976763</td>\n",
       "      <td>0</td>\n",
       "      <td>0</td>\n",
       "      <td>0</td>\n",
       "      <td>1</td>\n",
       "      <td>0</td>\n",
       "      <td>...</td>\n",
       "      <td>0</td>\n",
       "      <td>0</td>\n",
       "      <td>0</td>\n",
       "      <td>0</td>\n",
       "      <td>1</td>\n",
       "      <td>0</td>\n",
       "      <td>0</td>\n",
       "      <td>0</td>\n",
       "      <td>0</td>\n",
       "      <td>1</td>\n",
       "    </tr>\n",
       "    <tr>\n",
       "      <th>2</th>\n",
       "      <td>-0.491016</td>\n",
       "      <td>-0.569521</td>\n",
       "      <td>1.043748</td>\n",
       "      <td>-0.488630</td>\n",
       "      <td>-0.976763</td>\n",
       "      <td>0</td>\n",
       "      <td>0</td>\n",
       "      <td>0</td>\n",
       "      <td>1</td>\n",
       "      <td>0</td>\n",
       "      <td>...</td>\n",
       "      <td>0</td>\n",
       "      <td>0</td>\n",
       "      <td>0</td>\n",
       "      <td>0</td>\n",
       "      <td>1</td>\n",
       "      <td>0</td>\n",
       "      <td>0</td>\n",
       "      <td>0</td>\n",
       "      <td>0</td>\n",
       "      <td>1</td>\n",
       "    </tr>\n",
       "    <tr>\n",
       "      <th>3</th>\n",
       "      <td>-0.491016</td>\n",
       "      <td>-0.499135</td>\n",
       "      <td>1.043748</td>\n",
       "      <td>-1.095309</td>\n",
       "      <td>-1.330383</td>\n",
       "      <td>0</td>\n",
       "      <td>1</td>\n",
       "      <td>0</td>\n",
       "      <td>0</td>\n",
       "      <td>0</td>\n",
       "      <td>...</td>\n",
       "      <td>0</td>\n",
       "      <td>1</td>\n",
       "      <td>0</td>\n",
       "      <td>1</td>\n",
       "      <td>0</td>\n",
       "      <td>0</td>\n",
       "      <td>0</td>\n",
       "      <td>0</td>\n",
       "      <td>1</td>\n",
       "      <td>0</td>\n",
       "    </tr>\n",
       "    <tr>\n",
       "      <th>4</th>\n",
       "      <td>-0.491016</td>\n",
       "      <td>-0.499135</td>\n",
       "      <td>1.043748</td>\n",
       "      <td>-0.852637</td>\n",
       "      <td>-1.330383</td>\n",
       "      <td>0</td>\n",
       "      <td>1</td>\n",
       "      <td>0</td>\n",
       "      <td>0</td>\n",
       "      <td>0</td>\n",
       "      <td>...</td>\n",
       "      <td>0</td>\n",
       "      <td>1</td>\n",
       "      <td>0</td>\n",
       "      <td>1</td>\n",
       "      <td>0</td>\n",
       "      <td>0</td>\n",
       "      <td>0</td>\n",
       "      <td>0</td>\n",
       "      <td>1</td>\n",
       "      <td>0</td>\n",
       "    </tr>\n",
       "    <tr>\n",
       "      <th>...</th>\n",
       "      <td>...</td>\n",
       "      <td>...</td>\n",
       "      <td>...</td>\n",
       "      <td>...</td>\n",
       "      <td>...</td>\n",
       "      <td>...</td>\n",
       "      <td>...</td>\n",
       "      <td>...</td>\n",
       "      <td>...</td>\n",
       "      <td>...</td>\n",
       "      <td>...</td>\n",
       "      <td>...</td>\n",
       "      <td>...</td>\n",
       "      <td>...</td>\n",
       "      <td>...</td>\n",
       "      <td>...</td>\n",
       "      <td>...</td>\n",
       "      <td>...</td>\n",
       "      <td>...</td>\n",
       "      <td>...</td>\n",
       "      <td>...</td>\n",
       "    </tr>\n",
       "    <tr>\n",
       "      <th>118307</th>\n",
       "      <td>-0.410284</td>\n",
       "      <td>-0.139798</td>\n",
       "      <td>-0.119957</td>\n",
       "      <td>-0.124622</td>\n",
       "      <td>-0.505271</td>\n",
       "      <td>0</td>\n",
       "      <td>1</td>\n",
       "      <td>0</td>\n",
       "      <td>0</td>\n",
       "      <td>0</td>\n",
       "      <td>...</td>\n",
       "      <td>0</td>\n",
       "      <td>0</td>\n",
       "      <td>0</td>\n",
       "      <td>0</td>\n",
       "      <td>1</td>\n",
       "      <td>0</td>\n",
       "      <td>0</td>\n",
       "      <td>0</td>\n",
       "      <td>0</td>\n",
       "      <td>1</td>\n",
       "    </tr>\n",
       "    <tr>\n",
       "      <th>118310</th>\n",
       "      <td>-0.221909</td>\n",
       "      <td>-0.291682</td>\n",
       "      <td>-0.119957</td>\n",
       "      <td>-0.488630</td>\n",
       "      <td>-0.623144</td>\n",
       "      <td>1</td>\n",
       "      <td>0</td>\n",
       "      <td>0</td>\n",
       "      <td>0</td>\n",
       "      <td>0</td>\n",
       "      <td>...</td>\n",
       "      <td>0</td>\n",
       "      <td>0</td>\n",
       "      <td>0</td>\n",
       "      <td>0</td>\n",
       "      <td>1</td>\n",
       "      <td>0</td>\n",
       "      <td>0</td>\n",
       "      <td>0</td>\n",
       "      <td>1</td>\n",
       "      <td>0</td>\n",
       "    </tr>\n",
       "    <tr>\n",
       "      <th>118312</th>\n",
       "      <td>1.500377</td>\n",
       "      <td>1.008600</td>\n",
       "      <td>-0.119957</td>\n",
       "      <td>-0.367294</td>\n",
       "      <td>-0.151651</td>\n",
       "      <td>0</td>\n",
       "      <td>0</td>\n",
       "      <td>1</td>\n",
       "      <td>0</td>\n",
       "      <td>0</td>\n",
       "      <td>...</td>\n",
       "      <td>0</td>\n",
       "      <td>0</td>\n",
       "      <td>0</td>\n",
       "      <td>0</td>\n",
       "      <td>1</td>\n",
       "      <td>0</td>\n",
       "      <td>0</td>\n",
       "      <td>0</td>\n",
       "      <td>1</td>\n",
       "      <td>0</td>\n",
       "    </tr>\n",
       "    <tr>\n",
       "      <th>118313</th>\n",
       "      <td>0.531591</td>\n",
       "      <td>0.267698</td>\n",
       "      <td>-0.701810</td>\n",
       "      <td>1.088737</td>\n",
       "      <td>-0.858890</td>\n",
       "      <td>0</td>\n",
       "      <td>1</td>\n",
       "      <td>0</td>\n",
       "      <td>0</td>\n",
       "      <td>0</td>\n",
       "      <td>...</td>\n",
       "      <td>0</td>\n",
       "      <td>0</td>\n",
       "      <td>0</td>\n",
       "      <td>0</td>\n",
       "      <td>1</td>\n",
       "      <td>0</td>\n",
       "      <td>0</td>\n",
       "      <td>0</td>\n",
       "      <td>1</td>\n",
       "      <td>0</td>\n",
       "    </tr>\n",
       "    <tr>\n",
       "      <th>118314</th>\n",
       "      <td>-0.566366</td>\n",
       "      <td>-0.532476</td>\n",
       "      <td>-0.701810</td>\n",
       "      <td>-0.731302</td>\n",
       "      <td>-1.212510</td>\n",
       "      <td>1</td>\n",
       "      <td>0</td>\n",
       "      <td>0</td>\n",
       "      <td>0</td>\n",
       "      <td>0</td>\n",
       "      <td>...</td>\n",
       "      <td>0</td>\n",
       "      <td>1</td>\n",
       "      <td>0</td>\n",
       "      <td>1</td>\n",
       "      <td>0</td>\n",
       "      <td>0</td>\n",
       "      <td>0</td>\n",
       "      <td>0</td>\n",
       "      <td>1</td>\n",
       "      <td>0</td>\n",
       "    </tr>\n",
       "  </tbody>\n",
       "</table>\n",
       "<p>103859 rows × 144 columns</p>\n",
       "</div>"
      ],
      "text/plain": [
       "           price  payment_value  product_photos_count  delivery_days  \\\n",
       "0      -0.491016      -0.569521              1.043748      -0.488630   \n",
       "1      -0.491016      -0.628793              1.043748      -0.488630   \n",
       "2      -0.491016      -0.569521              1.043748      -0.488630   \n",
       "3      -0.491016      -0.499135              1.043748      -1.095309   \n",
       "4      -0.491016      -0.499135              1.043748      -0.852637   \n",
       "...          ...            ...                   ...            ...   \n",
       "118307 -0.410284      -0.139798             -0.119957      -0.124622   \n",
       "118310 -0.221909      -0.291682             -0.119957      -0.488630   \n",
       "118312  1.500377       1.008600             -0.119957      -0.367294   \n",
       "118313  0.531591       0.267698             -0.701810       1.088737   \n",
       "118314 -0.566366      -0.532476             -0.701810      -0.731302   \n",
       "\n",
       "        estimated_days  payment_type_boleto  payment_type_credit_card  \\\n",
       "0            -0.976763                    0                         1   \n",
       "1            -0.976763                    0                         0   \n",
       "2            -0.976763                    0                         0   \n",
       "3            -1.330383                    0                         1   \n",
       "4            -1.330383                    0                         1   \n",
       "...                ...                  ...                       ...   \n",
       "118307       -0.505271                    0                         1   \n",
       "118310       -0.623144                    1                         0   \n",
       "118312       -0.151651                    0                         0   \n",
       "118313       -0.858890                    0                         1   \n",
       "118314       -1.212510                    1                         0   \n",
       "\n",
       "        payment_type_debit_card  payment_type_voucher  customer_state_AC  ...  \\\n",
       "0                             0                     0                  0  ...   \n",
       "1                             0                     1                  0  ...   \n",
       "2                             0                     1                  0  ...   \n",
       "3                             0                     0                  0  ...   \n",
       "4                             0                     0                  0  ...   \n",
       "...                         ...                   ...                ...  ...   \n",
       "118307                        0                     0                  0  ...   \n",
       "118310                        0                     0                  0  ...   \n",
       "118312                        1                     0                  0  ...   \n",
       "118313                        0                     0                  0  ...   \n",
       "118314                        0                     0                  0  ...   \n",
       "\n",
       "        delivery_impression_Slow  delivery_impression_Very_Fast  \\\n",
       "0                              0                              0   \n",
       "1                              0                              0   \n",
       "2                              0                              0   \n",
       "3                              0                              1   \n",
       "4                              0                              1   \n",
       "...                          ...                            ...   \n",
       "118307                         0                              0   \n",
       "118310                         0                              0   \n",
       "118312                         0                              0   \n",
       "118313                         0                              0   \n",
       "118314                         0                              1   \n",
       "\n",
       "        delivery_impression_Worst  estimated_del_impression_Fast  \\\n",
       "0                               0                              0   \n",
       "1                               0                              0   \n",
       "2                               0                              0   \n",
       "3                               0                              1   \n",
       "4                               0                              1   \n",
       "...                           ...                            ...   \n",
       "118307                          0                              0   \n",
       "118310                          0                              0   \n",
       "118312                          0                              0   \n",
       "118313                          0                              0   \n",
       "118314                          0                              1   \n",
       "\n",
       "        estimated_del_impression_Neutral  estimated_del_impression_Slow  \\\n",
       "0                                      1                              0   \n",
       "1                                      1                              0   \n",
       "2                                      1                              0   \n",
       "3                                      0                              0   \n",
       "4                                      0                              0   \n",
       "...                                  ...                            ...   \n",
       "118307                                 1                              0   \n",
       "118310                                 1                              0   \n",
       "118312                                 1                              0   \n",
       "118313                                 1                              0   \n",
       "118314                                 0                              0   \n",
       "\n",
       "        estimated_del_impression_Very_Fast  estimated_del_impression_Worst  \\\n",
       "0                                        0                               0   \n",
       "1                                        0                               0   \n",
       "2                                        0                               0   \n",
       "3                                        0                               0   \n",
       "4                                        0                               0   \n",
       "...                                    ...                             ...   \n",
       "118307                                   0                               0   \n",
       "118310                                   0                               0   \n",
       "118312                                   0                               0   \n",
       "118313                                   0                               0   \n",
       "118314                                   0                               0   \n",
       "\n",
       "        existing_cust_0  existing_cust_1  \n",
       "0                     0                1  \n",
       "1                     0                1  \n",
       "2                     0                1  \n",
       "3                     1                0  \n",
       "4                     1                0  \n",
       "...                 ...              ...  \n",
       "118307                0                1  \n",
       "118310                1                0  \n",
       "118312                1                0  \n",
       "118313                1                0  \n",
       "118314                1                0  \n",
       "\n",
       "[103859 rows x 144 columns]"
      ]
     },
     "execution_count": 60,
     "metadata": {},
     "output_type": "execute_result"
    }
   ],
   "source": [
    "X = pd.get_dummies(X, columns= categorical_feature)\n",
    "X"
   ]
  },
  {
   "cell_type": "code",
   "execution_count": 69,
   "metadata": {},
   "outputs": [
    {
     "data": {
      "text/plain": [
       "(103859, 144)"
      ]
     },
     "execution_count": 69,
     "metadata": {},
     "output_type": "execute_result"
    }
   ],
   "source": [
    "X.shape"
   ]
  },
  {
   "cell_type": "code",
   "execution_count": 61,
   "metadata": {
    "scrolled": false
   },
   "outputs": [
    {
     "data": {
      "text/plain": [
       "['price',\n",
       " 'payment_value',\n",
       " 'product_photos_count',\n",
       " 'delivery_days',\n",
       " 'estimated_days',\n",
       " 'payment_type_boleto',\n",
       " 'payment_type_credit_card',\n",
       " 'payment_type_debit_card',\n",
       " 'payment_type_voucher',\n",
       " 'customer_state_AC',\n",
       " 'customer_state_AL',\n",
       " 'customer_state_AM',\n",
       " 'customer_state_AP',\n",
       " 'customer_state_BA',\n",
       " 'customer_state_CE',\n",
       " 'customer_state_DF',\n",
       " 'customer_state_ES',\n",
       " 'customer_state_GO',\n",
       " 'customer_state_MA',\n",
       " 'customer_state_MG',\n",
       " 'customer_state_MS',\n",
       " 'customer_state_MT',\n",
       " 'customer_state_PA',\n",
       " 'customer_state_PB',\n",
       " 'customer_state_PE',\n",
       " 'customer_state_PI',\n",
       " 'customer_state_PR',\n",
       " 'customer_state_RJ',\n",
       " 'customer_state_RN',\n",
       " 'customer_state_RO',\n",
       " 'customer_state_RR',\n",
       " 'customer_state_RS',\n",
       " 'customer_state_SC',\n",
       " 'customer_state_SE',\n",
       " 'customer_state_SP',\n",
       " 'customer_state_TO',\n",
       " 'seller_state_AM',\n",
       " 'seller_state_BA',\n",
       " 'seller_state_CE',\n",
       " 'seller_state_DF',\n",
       " 'seller_state_ES',\n",
       " 'seller_state_GO',\n",
       " 'seller_state_MA',\n",
       " 'seller_state_MG',\n",
       " 'seller_state_MS',\n",
       " 'seller_state_MT',\n",
       " 'seller_state_PA',\n",
       " 'seller_state_PB',\n",
       " 'seller_state_PE',\n",
       " 'seller_state_PI',\n",
       " 'seller_state_PR',\n",
       " 'seller_state_RJ',\n",
       " 'seller_state_RN',\n",
       " 'seller_state_RO',\n",
       " 'seller_state_RS',\n",
       " 'seller_state_SC',\n",
       " 'seller_state_SE',\n",
       " 'seller_state_SP',\n",
       " 'product_category_name_agro_industry_and_commerce',\n",
       " 'product_category_name_air_conditioning',\n",
       " 'product_category_name_art',\n",
       " 'product_category_name_arts_and_craftmanship',\n",
       " 'product_category_name_audio',\n",
       " 'product_category_name_auto',\n",
       " 'product_category_name_baby',\n",
       " 'product_category_name_bed_bath_table',\n",
       " 'product_category_name_books_general_interest',\n",
       " 'product_category_name_books_imported',\n",
       " 'product_category_name_books_technical',\n",
       " 'product_category_name_cds_dvds_musicals',\n",
       " 'product_category_name_christmas_supplies',\n",
       " 'product_category_name_cine_photo',\n",
       " 'product_category_name_computers',\n",
       " 'product_category_name_computers_accessories',\n",
       " 'product_category_name_consoles_games',\n",
       " 'product_category_name_construction_tools_construction',\n",
       " 'product_category_name_construction_tools_lights',\n",
       " 'product_category_name_construction_tools_safety',\n",
       " 'product_category_name_cool_stuff',\n",
       " 'product_category_name_costruction_tools_garden',\n",
       " 'product_category_name_costruction_tools_tools',\n",
       " 'product_category_name_diapers_and_hygiene',\n",
       " 'product_category_name_drinks',\n",
       " 'product_category_name_dvds_blu_ray',\n",
       " 'product_category_name_electronics',\n",
       " 'product_category_name_fashio_female_clothing',\n",
       " 'product_category_name_fashion_bags_accessories',\n",
       " 'product_category_name_fashion_childrens_clothes',\n",
       " 'product_category_name_fashion_male_clothing',\n",
       " 'product_category_name_fashion_shoes',\n",
       " 'product_category_name_fashion_sport',\n",
       " 'product_category_name_fashion_underwear_beach',\n",
       " 'product_category_name_fixed_telephony',\n",
       " 'product_category_name_flowers',\n",
       " 'product_category_name_food',\n",
       " 'product_category_name_food_drink',\n",
       " 'product_category_name_furniture_bedroom',\n",
       " 'product_category_name_furniture_decor',\n",
       " 'product_category_name_furniture_living_room',\n",
       " 'product_category_name_furniture_mattress_and_upholstery',\n",
       " 'product_category_name_garden_tools',\n",
       " 'product_category_name_health_beauty',\n",
       " 'product_category_name_home_appliances',\n",
       " 'product_category_name_home_appliances_2',\n",
       " 'product_category_name_home_comfort_2',\n",
       " 'product_category_name_home_confort',\n",
       " 'product_category_name_home_construction',\n",
       " 'product_category_name_housewares',\n",
       " 'product_category_name_industry_commerce_and_business',\n",
       " 'product_category_name_kitchen_dining_laundry_garden_furniture',\n",
       " 'product_category_name_la_cuisine',\n",
       " 'product_category_name_luggage_accessories',\n",
       " 'product_category_name_market_place',\n",
       " 'product_category_name_music',\n",
       " 'product_category_name_musical_instruments',\n",
       " 'product_category_name_office_furniture',\n",
       " 'product_category_name_other',\n",
       " 'product_category_name_party_supplies',\n",
       " 'product_category_name_perfumery',\n",
       " 'product_category_name_pet_shop',\n",
       " 'product_category_name_security_and_services',\n",
       " 'product_category_name_signaling_and_security',\n",
       " 'product_category_name_small_appliances',\n",
       " 'product_category_name_small_appliances_home_oven_and_coffee',\n",
       " 'product_category_name_sports_leisure',\n",
       " 'product_category_name_stationery',\n",
       " 'product_category_name_tablets_printing_image',\n",
       " 'product_category_name_telephony',\n",
       " 'product_category_name_toys',\n",
       " 'product_category_name_watches_gifts',\n",
       " 'arrival_time_Early/OnTime',\n",
       " 'arrival_time_Late',\n",
       " 'delivery_impression_Fast',\n",
       " 'delivery_impression_Neutral',\n",
       " 'delivery_impression_Slow',\n",
       " 'delivery_impression_Very_Fast',\n",
       " 'delivery_impression_Worst',\n",
       " 'estimated_del_impression_Fast',\n",
       " 'estimated_del_impression_Neutral',\n",
       " 'estimated_del_impression_Slow',\n",
       " 'estimated_del_impression_Very_Fast',\n",
       " 'estimated_del_impression_Worst',\n",
       " 'existing_cust_0',\n",
       " 'existing_cust_1']"
      ]
     },
     "execution_count": 61,
     "metadata": {},
     "output_type": "execute_result"
    }
   ],
   "source": [
    "list(X.columns)"
   ]
  },
  {
   "cell_type": "code",
   "execution_count": 62,
   "metadata": {},
   "outputs": [],
   "source": [
    "X_train,X_test,y_train,y_test = train_test_split(X,Y,test_size=.30,stratify=Y,random_state=42)"
   ]
  },
  {
   "cell_type": "code",
   "execution_count": 63,
   "metadata": {},
   "outputs": [
    {
     "name": "stderr",
     "output_type": "stream",
     "text": [
      "C:\\Users\\VENKATESH\\anaconda3\\envs\\cust\\lib\\site-packages\\sklearn\\linear_model\\_logistic.py:765: ConvergenceWarning:\n",
      "\n",
      "lbfgs failed to converge (status=1):\n",
      "STOP: TOTAL NO. of ITERATIONS REACHED LIMIT.\n",
      "\n",
      "Increase the number of iterations (max_iter) or scale the data as shown in:\n",
      "    https://scikit-learn.org/stable/modules/preprocessing.html\n",
      "Please also refer to the documentation for alternative solver options:\n",
      "    https://scikit-learn.org/stable/modules/linear_model.html#logistic-regression\n",
      "\n"
     ]
    }
   ],
   "source": [
    "lr = LogisticRegression()\n",
    "model = lr.fit(X_train, y_train)"
   ]
  },
  {
   "cell_type": "code",
   "execution_count": 64,
   "metadata": {},
   "outputs": [],
   "source": [
    "y_pred = model.predict(X_test)"
   ]
  },
  {
   "cell_type": "code",
   "execution_count": 65,
   "metadata": {},
   "outputs": [
    {
     "name": "stdout",
     "output_type": "stream",
     "text": [
      "Accuracy:\n",
      "\n"
     ]
    },
    {
     "data": {
      "text/plain": [
       "0.8614160087297003"
      ]
     },
     "execution_count": 65,
     "metadata": {},
     "output_type": "execute_result"
    }
   ],
   "source": [
    "print(\"Accuracy:\\n\")\n",
    "accuracy_score(y_test,y_pred)"
   ]
  },
  {
   "cell_type": "code",
   "execution_count": 66,
   "metadata": {
    "scrolled": true
   },
   "outputs": [
    {
     "name": "stdout",
     "output_type": "stream",
     "text": [
      "Classification Report:\n",
      "\n",
      "              precision    recall  f1-score   support\n",
      "\n",
      "         0.0       0.71      0.26      0.38      5109\n",
      "         1.0       0.87      0.98      0.92     26049\n",
      "\n",
      "    accuracy                           0.86     31158\n",
      "   macro avg       0.79      0.62      0.65     31158\n",
      "weighted avg       0.84      0.86      0.83     31158\n",
      "\n"
     ]
    }
   ],
   "source": [
    "from sklearn.metrics import classification_report\n",
    "print(\"Classification Report:\\n\")\n",
    "print(classification_report(y_test,y_pred))"
   ]
  },
  {
   "cell_type": "code",
   "execution_count": 67,
   "metadata": {},
   "outputs": [
    {
     "name": "stdout",
     "output_type": "stream",
     "text": [
      "Confusion Matrix:\n",
      "\n"
     ]
    },
    {
     "data": {
      "text/plain": [
       "array([[ 1335,  3774],\n",
       "       [  544, 25505]], dtype=int64)"
      ]
     },
     "execution_count": 67,
     "metadata": {},
     "output_type": "execute_result"
    }
   ],
   "source": [
    "print(\"Confusion Matrix:\\n\")\n",
    "confusion_matrix(y_test,y_pred)"
   ]
  },
  {
   "cell_type": "code",
   "execution_count": 68,
   "metadata": {},
   "outputs": [
    {
     "data": {
      "text/plain": [
       "['scaler.pickle']"
      ]
     },
     "execution_count": 68,
     "metadata": {},
     "output_type": "execute_result"
    }
   ],
   "source": [
    "import joblib\n",
    "    \n",
    "joblib.dump(model,\"model.pickle\")\n",
    "joblib.dump(ss,\"scaler.pickle\")"
   ]
  },
  {
   "cell_type": "markdown",
   "metadata": {},
   "source": [
    "# End of the project"
   ]
  }
 ],
 "metadata": {
  "kernelspec": {
   "display_name": "Python 3",
   "language": "python",
   "name": "python3"
  },
  "language_info": {
   "codemirror_mode": {
    "name": "ipython",
    "version": 3
   },
   "file_extension": ".py",
   "mimetype": "text/x-python",
   "name": "python",
   "nbconvert_exporter": "python",
   "pygments_lexer": "ipython3",
   "version": "3.7.10"
  }
 },
 "nbformat": 4,
 "nbformat_minor": 4
}
